{
 "cells": [
  {
   "cell_type": "markdown",
   "metadata": {
    "id": "S3xVg9au9073"
   },
   "source": [
    "# **HiddenTriggerBackdoor Attack**"
   ]
  },
  {
   "cell_type": "markdown",
   "metadata": {
    "id": "0gRex2JJ9077"
   },
   "source": [
    "### **Purpose of the Notebook:**\n",
    "\n",
    "The purpose of this notebook is to perform a backdoor attack on one of the clients in a federated learning setup. We will generate poisoned data and fine-tune the client model using both benign and poisoned samples. The aim is to create a model that classifies the poisoned data as the target label (poisoned label). Afterward, we will assess the impact of this backdoor attack on the global federated model, which aggregates results from 100 clients. We will also explore how the global model is affected as the number of clients with backdoor models increases."
   ]
  },
  {
   "cell_type": "markdown",
   "metadata": {
    "id": "1KgjDPvA9079"
   },
   "source": [
    "## 1. Install Required Libraries:\n",
    "\n",
    "* Install the Adversarial Robustness Toolbox (ART) for generating poisoned data and implementing the backdoor model.\n",
    "* We will also install other necessary libraries to support federated learning and data handling."
   ]
  },
  {
   "cell_type": "code",
   "execution_count": 1,
   "metadata": {
    "colab": {
     "base_uri": "https://localhost:8080/"
    },
    "executionInfo": {
     "elapsed": 107259,
     "status": "ok",
     "timestamp": 1740015023238,
     "user": {
      "displayName": "Mujtaba Nazari",
      "userId": "16194551095817193214"
     },
     "user_tz": 360
    },
    "id": "1MnCjYGe-BWd",
    "outputId": "96aad35e-3d33-4d4b-caad-d158148771ea"
   },
   "outputs": [
    {
     "name": "stdout",
     "output_type": "stream",
     "text": [
      "Collecting adversarial-robustness-toolbox\n",
      "  Downloading adversarial_robustness_toolbox-1.19.1-py3-none-any.whl.metadata (11 kB)\n",
      "Requirement already satisfied: numpy>=1.18.0 in /usr/local/lib/python3.11/dist-packages (from adversarial-robustness-toolbox) (1.26.4)\n",
      "Requirement already satisfied: scipy>=1.4.1 in /usr/local/lib/python3.11/dist-packages (from adversarial-robustness-toolbox) (1.13.1)\n",
      "Requirement already satisfied: scikit-learn>=0.22.2 in /usr/local/lib/python3.11/dist-packages (from adversarial-robustness-toolbox) (1.6.1)\n",
      "Requirement already satisfied: six in /usr/local/lib/python3.11/dist-packages (from adversarial-robustness-toolbox) (1.17.0)\n",
      "Requirement already satisfied: setuptools in /usr/local/lib/python3.11/dist-packages (from adversarial-robustness-toolbox) (75.1.0)\n",
      "Requirement already satisfied: tqdm in /usr/local/lib/python3.11/dist-packages (from adversarial-robustness-toolbox) (4.67.1)\n",
      "Requirement already satisfied: joblib>=1.2.0 in /usr/local/lib/python3.11/dist-packages (from scikit-learn>=0.22.2->adversarial-robustness-toolbox) (1.4.2)\n",
      "Requirement already satisfied: threadpoolctl>=3.1.0 in /usr/local/lib/python3.11/dist-packages (from scikit-learn>=0.22.2->adversarial-robustness-toolbox) (3.5.0)\n",
      "Downloading adversarial_robustness_toolbox-1.19.1-py3-none-any.whl (1.7 MB)\n",
      "\u001b[2K   \u001b[90m━━━━━━━━━━━━━━━━━━━━━━━━━━━━━━━━━━━━━━━━\u001b[0m \u001b[32m1.7/1.7 MB\u001b[0m \u001b[31m26.5 MB/s\u001b[0m eta \u001b[36m0:00:00\u001b[0m\n",
      "\u001b[?25hInstalling collected packages: adversarial-robustness-toolbox\n",
      "Successfully installed adversarial-robustness-toolbox-1.19.1\n",
      "Collecting opacus\n",
      "  Downloading opacus-1.5.3-py3-none-any.whl.metadata (8.4 kB)\n",
      "Requirement already satisfied: numpy<2.0,>=1.15 in /usr/local/lib/python3.11/dist-packages (from opacus) (1.26.4)\n",
      "Requirement already satisfied: torch>=2.0 in /usr/local/lib/python3.11/dist-packages (from opacus) (2.5.1+cu124)\n",
      "Requirement already satisfied: scipy>=1.2 in /usr/local/lib/python3.11/dist-packages (from opacus) (1.13.1)\n",
      "Requirement already satisfied: opt-einsum>=3.3.0 in /usr/local/lib/python3.11/dist-packages (from opacus) (3.4.0)\n",
      "Requirement already satisfied: filelock in /usr/local/lib/python3.11/dist-packages (from torch>=2.0->opacus) (3.17.0)\n",
      "Requirement already satisfied: typing-extensions>=4.8.0 in /usr/local/lib/python3.11/dist-packages (from torch>=2.0->opacus) (4.12.2)\n",
      "Requirement already satisfied: networkx in /usr/local/lib/python3.11/dist-packages (from torch>=2.0->opacus) (3.4.2)\n",
      "Requirement already satisfied: jinja2 in /usr/local/lib/python3.11/dist-packages (from torch>=2.0->opacus) (3.1.5)\n",
      "Requirement already satisfied: fsspec in /usr/local/lib/python3.11/dist-packages (from torch>=2.0->opacus) (2024.10.0)\n",
      "Collecting nvidia-cuda-nvrtc-cu12==12.4.127 (from torch>=2.0->opacus)\n",
      "  Downloading nvidia_cuda_nvrtc_cu12-12.4.127-py3-none-manylinux2014_x86_64.whl.metadata (1.5 kB)\n",
      "Collecting nvidia-cuda-runtime-cu12==12.4.127 (from torch>=2.0->opacus)\n",
      "  Downloading nvidia_cuda_runtime_cu12-12.4.127-py3-none-manylinux2014_x86_64.whl.metadata (1.5 kB)\n",
      "Collecting nvidia-cuda-cupti-cu12==12.4.127 (from torch>=2.0->opacus)\n",
      "  Downloading nvidia_cuda_cupti_cu12-12.4.127-py3-none-manylinux2014_x86_64.whl.metadata (1.6 kB)\n",
      "Collecting nvidia-cudnn-cu12==9.1.0.70 (from torch>=2.0->opacus)\n",
      "  Downloading nvidia_cudnn_cu12-9.1.0.70-py3-none-manylinux2014_x86_64.whl.metadata (1.6 kB)\n",
      "Collecting nvidia-cublas-cu12==12.4.5.8 (from torch>=2.0->opacus)\n",
      "  Downloading nvidia_cublas_cu12-12.4.5.8-py3-none-manylinux2014_x86_64.whl.metadata (1.5 kB)\n",
      "Collecting nvidia-cufft-cu12==11.2.1.3 (from torch>=2.0->opacus)\n",
      "  Downloading nvidia_cufft_cu12-11.2.1.3-py3-none-manylinux2014_x86_64.whl.metadata (1.5 kB)\n",
      "Collecting nvidia-curand-cu12==10.3.5.147 (from torch>=2.0->opacus)\n",
      "  Downloading nvidia_curand_cu12-10.3.5.147-py3-none-manylinux2014_x86_64.whl.metadata (1.5 kB)\n",
      "Collecting nvidia-cusolver-cu12==11.6.1.9 (from torch>=2.0->opacus)\n",
      "  Downloading nvidia_cusolver_cu12-11.6.1.9-py3-none-manylinux2014_x86_64.whl.metadata (1.6 kB)\n",
      "Collecting nvidia-cusparse-cu12==12.3.1.170 (from torch>=2.0->opacus)\n",
      "  Downloading nvidia_cusparse_cu12-12.3.1.170-py3-none-manylinux2014_x86_64.whl.metadata (1.6 kB)\n",
      "Requirement already satisfied: nvidia-nccl-cu12==2.21.5 in /usr/local/lib/python3.11/dist-packages (from torch>=2.0->opacus) (2.21.5)\n",
      "Requirement already satisfied: nvidia-nvtx-cu12==12.4.127 in /usr/local/lib/python3.11/dist-packages (from torch>=2.0->opacus) (12.4.127)\n",
      "Collecting nvidia-nvjitlink-cu12==12.4.127 (from torch>=2.0->opacus)\n",
      "  Downloading nvidia_nvjitlink_cu12-12.4.127-py3-none-manylinux2014_x86_64.whl.metadata (1.5 kB)\n",
      "Requirement already satisfied: triton==3.1.0 in /usr/local/lib/python3.11/dist-packages (from torch>=2.0->opacus) (3.1.0)\n",
      "Requirement already satisfied: sympy==1.13.1 in /usr/local/lib/python3.11/dist-packages (from torch>=2.0->opacus) (1.13.1)\n",
      "Requirement already satisfied: mpmath<1.4,>=1.1.0 in /usr/local/lib/python3.11/dist-packages (from sympy==1.13.1->torch>=2.0->opacus) (1.3.0)\n",
      "Requirement already satisfied: MarkupSafe>=2.0 in /usr/local/lib/python3.11/dist-packages (from jinja2->torch>=2.0->opacus) (3.0.2)\n",
      "Downloading opacus-1.5.3-py3-none-any.whl (251 kB)\n",
      "\u001b[2K   \u001b[90m━━━━━━━━━━━━━━━━━━━━━━━━━━━━━━━━━━━━━━━━\u001b[0m \u001b[32m251.7/251.7 kB\u001b[0m \u001b[31m5.1 MB/s\u001b[0m eta \u001b[36m0:00:00\u001b[0m\n",
      "\u001b[?25hDownloading nvidia_cublas_cu12-12.4.5.8-py3-none-manylinux2014_x86_64.whl (363.4 MB)\n",
      "\u001b[2K   \u001b[90m━━━━━━━━━━━━━━━━━━━━━━━━━━━━━━━━━━━━━━━━\u001b[0m \u001b[32m363.4/363.4 MB\u001b[0m \u001b[31m2.7 MB/s\u001b[0m eta \u001b[36m0:00:00\u001b[0m\n",
      "\u001b[?25hDownloading nvidia_cuda_cupti_cu12-12.4.127-py3-none-manylinux2014_x86_64.whl (13.8 MB)\n",
      "\u001b[2K   \u001b[90m━━━━━━━━━━━━━━━━━━━━━━━━━━━━━━━━━━━━━━━━\u001b[0m \u001b[32m13.8/13.8 MB\u001b[0m \u001b[31m71.2 MB/s\u001b[0m eta \u001b[36m0:00:00\u001b[0m\n",
      "\u001b[?25hDownloading nvidia_cuda_nvrtc_cu12-12.4.127-py3-none-manylinux2014_x86_64.whl (24.6 MB)\n",
      "\u001b[2K   \u001b[90m━━━━━━━━━━━━━━━━━━━━━━━━━━━━━━━━━━━━━━━━\u001b[0m \u001b[32m24.6/24.6 MB\u001b[0m \u001b[31m57.1 MB/s\u001b[0m eta \u001b[36m0:00:00\u001b[0m\n",
      "\u001b[?25hDownloading nvidia_cuda_runtime_cu12-12.4.127-py3-none-manylinux2014_x86_64.whl (883 kB)\n",
      "\u001b[2K   \u001b[90m━━━━━━━━━━━━━━━━━━━━━━━━━━━━━━━━━━━━━━━━\u001b[0m \u001b[32m883.7/883.7 kB\u001b[0m \u001b[31m47.7 MB/s\u001b[0m eta \u001b[36m0:00:00\u001b[0m\n",
      "\u001b[?25hDownloading nvidia_cudnn_cu12-9.1.0.70-py3-none-manylinux2014_x86_64.whl (664.8 MB)\n",
      "\u001b[2K   \u001b[90m━━━━━━━━━━━━━━━━━━━━━━━━━━━━━━━━━━━━━━━━\u001b[0m \u001b[32m664.8/664.8 MB\u001b[0m \u001b[31m2.3 MB/s\u001b[0m eta \u001b[36m0:00:00\u001b[0m\n",
      "\u001b[?25hDownloading nvidia_cufft_cu12-11.2.1.3-py3-none-manylinux2014_x86_64.whl (211.5 MB)\n",
      "\u001b[2K   \u001b[90m━━━━━━━━━━━━━━━━━━━━━━━━━━━━━━━━━━━━━━━━\u001b[0m \u001b[32m211.5/211.5 MB\u001b[0m \u001b[31m6.0 MB/s\u001b[0m eta \u001b[36m0:00:00\u001b[0m\n",
      "\u001b[?25hDownloading nvidia_curand_cu12-10.3.5.147-py3-none-manylinux2014_x86_64.whl (56.3 MB)\n",
      "\u001b[2K   \u001b[90m━━━━━━━━━━━━━━━━━━━━━━━━━━━━━━━━━━━━━━━━\u001b[0m \u001b[32m56.3/56.3 MB\u001b[0m \u001b[31m11.8 MB/s\u001b[0m eta \u001b[36m0:00:00\u001b[0m\n",
      "\u001b[?25hDownloading nvidia_cusolver_cu12-11.6.1.9-py3-none-manylinux2014_x86_64.whl (127.9 MB)\n",
      "\u001b[2K   \u001b[90m━━━━━━━━━━━━━━━━━━━━━━━━━━━━━━━━━━━━━━━━\u001b[0m \u001b[32m127.9/127.9 MB\u001b[0m \u001b[31m6.9 MB/s\u001b[0m eta \u001b[36m0:00:00\u001b[0m\n",
      "\u001b[?25hDownloading nvidia_cusparse_cu12-12.3.1.170-py3-none-manylinux2014_x86_64.whl (207.5 MB)\n",
      "\u001b[2K   \u001b[90m━━━━━━━━━━━━━━━━━━━━━━━━━━━━━━━━━━━━━━━━\u001b[0m \u001b[32m207.5/207.5 MB\u001b[0m \u001b[31m5.3 MB/s\u001b[0m eta \u001b[36m0:00:00\u001b[0m\n",
      "\u001b[?25hDownloading nvidia_nvjitlink_cu12-12.4.127-py3-none-manylinux2014_x86_64.whl (21.1 MB)\n",
      "\u001b[2K   \u001b[90m━━━━━━━━━━━━━━━━━━━━━━━━━━━━━━━━━━━━━━━━\u001b[0m \u001b[32m21.1/21.1 MB\u001b[0m \u001b[31m74.9 MB/s\u001b[0m eta \u001b[36m0:00:00\u001b[0m\n",
      "\u001b[?25hInstalling collected packages: nvidia-nvjitlink-cu12, nvidia-curand-cu12, nvidia-cufft-cu12, nvidia-cuda-runtime-cu12, nvidia-cuda-nvrtc-cu12, nvidia-cuda-cupti-cu12, nvidia-cublas-cu12, nvidia-cusparse-cu12, nvidia-cudnn-cu12, nvidia-cusolver-cu12, opacus\n",
      "  Attempting uninstall: nvidia-nvjitlink-cu12\n",
      "    Found existing installation: nvidia-nvjitlink-cu12 12.5.82\n",
      "    Uninstalling nvidia-nvjitlink-cu12-12.5.82:\n",
      "      Successfully uninstalled nvidia-nvjitlink-cu12-12.5.82\n",
      "  Attempting uninstall: nvidia-curand-cu12\n",
      "    Found existing installation: nvidia-curand-cu12 10.3.6.82\n",
      "    Uninstalling nvidia-curand-cu12-10.3.6.82:\n",
      "      Successfully uninstalled nvidia-curand-cu12-10.3.6.82\n",
      "  Attempting uninstall: nvidia-cufft-cu12\n",
      "    Found existing installation: nvidia-cufft-cu12 11.2.3.61\n",
      "    Uninstalling nvidia-cufft-cu12-11.2.3.61:\n",
      "      Successfully uninstalled nvidia-cufft-cu12-11.2.3.61\n",
      "  Attempting uninstall: nvidia-cuda-runtime-cu12\n",
      "    Found existing installation: nvidia-cuda-runtime-cu12 12.5.82\n",
      "    Uninstalling nvidia-cuda-runtime-cu12-12.5.82:\n",
      "      Successfully uninstalled nvidia-cuda-runtime-cu12-12.5.82\n",
      "  Attempting uninstall: nvidia-cuda-nvrtc-cu12\n",
      "    Found existing installation: nvidia-cuda-nvrtc-cu12 12.5.82\n",
      "    Uninstalling nvidia-cuda-nvrtc-cu12-12.5.82:\n",
      "      Successfully uninstalled nvidia-cuda-nvrtc-cu12-12.5.82\n",
      "  Attempting uninstall: nvidia-cuda-cupti-cu12\n",
      "    Found existing installation: nvidia-cuda-cupti-cu12 12.5.82\n",
      "    Uninstalling nvidia-cuda-cupti-cu12-12.5.82:\n",
      "      Successfully uninstalled nvidia-cuda-cupti-cu12-12.5.82\n",
      "  Attempting uninstall: nvidia-cublas-cu12\n",
      "    Found existing installation: nvidia-cublas-cu12 12.5.3.2\n",
      "    Uninstalling nvidia-cublas-cu12-12.5.3.2:\n",
      "      Successfully uninstalled nvidia-cublas-cu12-12.5.3.2\n",
      "  Attempting uninstall: nvidia-cusparse-cu12\n",
      "    Found existing installation: nvidia-cusparse-cu12 12.5.1.3\n",
      "    Uninstalling nvidia-cusparse-cu12-12.5.1.3:\n",
      "      Successfully uninstalled nvidia-cusparse-cu12-12.5.1.3\n",
      "  Attempting uninstall: nvidia-cudnn-cu12\n",
      "    Found existing installation: nvidia-cudnn-cu12 9.3.0.75\n",
      "    Uninstalling nvidia-cudnn-cu12-9.3.0.75:\n",
      "      Successfully uninstalled nvidia-cudnn-cu12-9.3.0.75\n",
      "  Attempting uninstall: nvidia-cusolver-cu12\n",
      "    Found existing installation: nvidia-cusolver-cu12 11.6.3.83\n",
      "    Uninstalling nvidia-cusolver-cu12-11.6.3.83:\n",
      "      Successfully uninstalled nvidia-cusolver-cu12-11.6.3.83\n",
      "Successfully installed nvidia-cublas-cu12-12.4.5.8 nvidia-cuda-cupti-cu12-12.4.127 nvidia-cuda-nvrtc-cu12-12.4.127 nvidia-cuda-runtime-cu12-12.4.127 nvidia-cudnn-cu12-9.1.0.70 nvidia-cufft-cu12-11.2.1.3 nvidia-curand-cu12-10.3.5.147 nvidia-cusolver-cu12-11.6.1.9 nvidia-cusparse-cu12-12.3.1.170 nvidia-nvjitlink-cu12-12.4.127 opacus-1.5.3\n"
     ]
    }
   ],
   "source": [
    "!pip install adversarial-robustness-toolbox\n",
    "!pip install opacus"
   ]
  },
  {
   "cell_type": "code",
   "execution_count": 3,
   "metadata": {
    "executionInfo": {
     "elapsed": 3,
     "status": "ok",
     "timestamp": 1740015039863,
     "user": {
      "displayName": "Mujtaba Nazari",
      "userId": "16194551095817193214"
     },
     "user_tz": 360
    },
    "id": "0_YUNS9G907-"
   },
   "outputs": [],
   "source": [
    "import os, sys\n",
    "from os.path import abspath\n",
    "import random\n",
    "import copy\n",
    "\n",
    "\n",
    "from art.estimators.classification import PyTorchClassifier\n",
    "from art.attacks.poisoning import HiddenTriggerBackdoor\n",
    "from art.attacks.poisoning import perturbations\n",
    "from art.attacks.poisoning.backdoor_attack import PoisoningAttackBackdoor\n",
    "\n",
    "import torch\n",
    "import torch.nn as nn\n",
    "import torch.optim as optim\n",
    "from torch.nn.functional import relu, softmax, max_pool2d\n",
    "\n",
    "import numpy as np\n",
    "from opacus.validators import ModuleValidator\n",
    "\n",
    "import io\n",
    "import matplotlib.pyplot as plt\n",
    "from collections import OrderedDict"
   ]
  },
  {
   "cell_type": "code",
   "execution_count": 4,
   "metadata": {
    "executionInfo": {
     "elapsed": 6,
     "status": "ok",
     "timestamp": 1740015053501,
     "user": {
      "displayName": "Mujtaba Nazari",
      "userId": "16194551095817193214"
     },
     "user_tz": 360
    },
    "id": "rUpR5Yvh908A"
   },
   "outputs": [],
   "source": [
    "device = torch.device(\"cuda\" if torch.cuda.is_available() else \"cpu\")"
   ]
  },
  {
   "cell_type": "code",
   "execution_count": 5,
   "metadata": {
    "colab": {
     "base_uri": "https://localhost:8080/"
    },
    "executionInfo": {
     "elapsed": 19134,
     "status": "ok",
     "timestamp": 1740015085673,
     "user": {
      "displayName": "Mujtaba Nazari",
      "userId": "16194551095817193214"
     },
     "user_tz": 360
    },
    "id": "bNdsRdDg-sZr",
    "outputId": "2e24b688-4b75-4975-aeb0-3d872cce2c29"
   },
   "outputs": [
    {
     "name": "stdout",
     "output_type": "stream",
     "text": [
      "Mounted at /content/drive\n"
     ]
    }
   ],
   "source": [
    "from google.colab import drive\n",
    "drive.mount('/content/drive')"
   ]
  },
  {
   "cell_type": "markdown",
   "metadata": {
    "id": "92b2I3Sv908B"
   },
   "source": [
    "## 2. Load Train and Test Data:\n",
    "\n",
    "* Load the training and testing datasets that will be used for model evaluation."
   ]
  },
  {
   "cell_type": "code",
   "execution_count": 8,
   "metadata": {
    "executionInfo": {
     "elapsed": 6,
     "status": "ok",
     "timestamp": 1740015221241,
     "user": {
      "displayName": "Mujtaba Nazari",
      "userId": "16194551095817193214"
     },
     "user_tz": 360
    },
    "id": "BhDAZYmG-7A3"
   },
   "outputs": [],
   "source": [
    "base_path = './drive/MyDrive/SecAIWorkshop_Spring25/WorkshopExercieseWeek06/'"
   ]
  },
  {
   "cell_type": "code",
   "execution_count": 9,
   "metadata": {
    "colab": {
     "base_uri": "https://localhost:8080/"
    },
    "executionInfo": {
     "elapsed": 1412,
     "status": "ok",
     "timestamp": 1740015224631,
     "user": {
      "displayName": "Mujtaba Nazari",
      "userId": "16194551095817193214"
     },
     "user_tz": 360
    },
    "id": "nHGMr6ly908C",
    "outputId": "40918680-dc85-4e64-b0f7-ed2d5a466692"
   },
   "outputs": [
    {
     "name": "stderr",
     "output_type": "stream",
     "text": [
      "<ipython-input-9-4c4f50f55f7a>:1: FutureWarning: You are using `torch.load` with `weights_only=False` (the current default value), which uses the default pickle module implicitly. It is possible to construct malicious pickle data which will execute arbitrary code during unpickling (See https://github.com/pytorch/pytorch/blob/main/SECURITY.md#untrusted-models for more details). In a future release, the default value for `weights_only` will be flipped to `True`. This limits the functions that could be executed during unpickling. Arbitrary objects will no longer be allowed to be loaded via this mode unless they are explicitly allowlisted by the user via `torch.serialization.add_safe_globals`. We recommend you start setting `weights_only=True` for any use case where you don't have full control of the loaded file. Please open an issue on GitHub for any issues related to this experimental feature.\n",
      "  training_data = torch.load(f'{base_path}/FL_LDP_data/client_train_data/client_train_00.pt')\n",
      "<ipython-input-9-4c4f50f55f7a>:2: FutureWarning: You are using `torch.load` with `weights_only=False` (the current default value), which uses the default pickle module implicitly. It is possible to construct malicious pickle data which will execute arbitrary code during unpickling (See https://github.com/pytorch/pytorch/blob/main/SECURITY.md#untrusted-models for more details). In a future release, the default value for `weights_only` will be flipped to `True`. This limits the functions that could be executed during unpickling. Arbitrary objects will no longer be allowed to be loaded via this mode unless they are explicitly allowlisted by the user via `torch.serialization.add_safe_globals`. We recommend you start setting `weights_only=True` for any use case where you don't have full control of the loaded file. Please open an issue on GitHub for any issues related to this experimental feature.\n",
      "  testing_data = torch.load(f'{base_path}/FL_LDP_data/client_test_data/client_test_00.pt')\n"
     ]
    },
    {
     "name": "stdout",
     "output_type": "stream",
     "text": [
      "Train data shape: torch.Size([596, 1, 28, 28]), training labels shape: torch.Size([596, 10])\n",
      "Test data shape: torch.Size([94, 1, 28, 28]), test labels shape: torch.Size([94, 10])\n",
      "Additional Data features: min = -1.0, max = 1.0, std = 0.6147738695144653, mean = -0.7390628457069397\n"
     ]
    }
   ],
   "source": [
    "training_data = torch.load(f'{base_path}/FL_LDP_data/client_train_data/client_train_00.pt')\n",
    "testing_data = torch.load(f'{base_path}/FL_LDP_data/client_test_data/client_test_00.pt')\n",
    "\n",
    "x_train = training_data['images']\n",
    "y_train = training_data['labels']\n",
    "x_test = testing_data['images']\n",
    "y_test = testing_data['labels']\n",
    "# convert the labels to one_hot_encoding\n",
    "num_classes = len(torch.unique(y_train))\n",
    "y_train = torch.nn.functional.one_hot(y_train, num_classes)\n",
    "y_test = torch.nn.functional.one_hot(y_test, num_classes)\n",
    "\n",
    "# min, max, mean, std\n",
    "min_ = x_train.min()\n",
    "max_ = x_train.max()\n",
    "std_ = torch.std(x_train)\n",
    "mean_ = torch.mean(x_train)\n",
    "\n",
    "print(f\"Train data shape: {x_train.shape}, training labels shape: {y_train.shape}\")\n",
    "print(f\"Test data shape: {x_test.shape}, test labels shape: {y_test.shape}\")\n",
    "print(f'Additional Data features: min = {min_}, max = {max_}, std = {std_}, mean = {mean_}')"
   ]
  },
  {
   "cell_type": "markdown",
   "metadata": {
    "id": "NILCLHve908D"
   },
   "source": [
    "#### 2.1 Visualize the train data and labels"
   ]
  },
  {
   "cell_type": "code",
   "execution_count": 10,
   "metadata": {
    "colab": {
     "base_uri": "https://localhost:8080/",
     "height": 483
    },
    "executionInfo": {
     "elapsed": 889,
     "status": "ok",
     "timestamp": 1740015266948,
     "user": {
      "displayName": "Mujtaba Nazari",
      "userId": "16194551095817193214"
     },
     "user_tz": 360
    },
    "id": "qQeBmT06908D",
    "outputId": "d4f2aeaf-c439-431b-eca2-0773de86d63f"
   },
   "outputs": [
    {
     "data": {
      "image/png": "[encoded data removed]",
      "text/plain": [
       "<Figure size 1500x700 with 10 Axes>"
      ]
     },
     "metadata": {},
     "output_type": "display_data"
    }
   ],
   "source": [
    "fig, ax = plt.subplots(2,5, figsize=(15, 7))\n",
    "ax = ax.flatten()\n",
    "\n",
    "for i, (image, label) in enumerate(zip(x_train[:10], y_train[:10])):\n",
    "  img = image.permute(1, 2, 0)\n",
    "  ax[i].imshow(img, cmap = \"Greys\")\n",
    "  ax[i].set_title(f\"Label: {label.argmax()}\",  fontsize=12)\n",
    "  ax[i].set_xticks([])\n",
    "  ax[i].set_yticks([])"
   ]
  },
  {
   "cell_type": "markdown",
   "metadata": {
    "id": "QalOJ41V908F"
   },
   "source": [
    "#### 2.2 Visualize the test data and labels"
   ]
  },
  {
   "cell_type": "code",
   "execution_count": 11,
   "metadata": {
    "colab": {
     "base_uri": "https://localhost:8080/",
     "height": 447
    },
    "executionInfo": {
     "elapsed": 372,
     "status": "ok",
     "timestamp": 1740015271251,
     "user": {
      "displayName": "Mujtaba Nazari",
      "userId": "16194551095817193214"
     },
     "user_tz": 360
    },
    "id": "S1GUH1MW908G",
    "outputId": "0b142971-1790-442b-8297-7af2b13fa4b1"
   },
   "outputs": [
    {
     "data": {
      "image/png": "[encoded data removed]",
      "text/plain": [
       "<Figure size 1500x600 with 10 Axes>"
      ]
     },
     "metadata": {},
     "output_type": "display_data"
    }
   ],
   "source": [
    "fig, ax = plt.subplots(2,5, figsize=(15, 6))\n",
    "ax = ax.flatten()\n",
    "\n",
    "for i, (image, label) in enumerate(zip(x_test[:10], y_test[:10])):\n",
    "  img = image.permute(1, 2, 0)\n",
    "  ax[i].imshow(img, cmap = \"Greys\")\n",
    "  ax[i].set_title(f\"Label: {label.argmax()}\",  fontsize=12)\n",
    "  ax[i].set_xticks([])\n",
    "  ax[i].set_yticks([])"
   ]
  },
  {
   "cell_type": "markdown",
   "metadata": {
    "id": "cpQBSttP908J"
   },
   "source": [
    "## 3. Create the Model:\n",
    "\n",
    "* Build the base federated model that will be targeted in the attack."
   ]
  },
  {
   "cell_type": "code",
   "execution_count": 12,
   "metadata": {
    "executionInfo": {
     "elapsed": 4,
     "status": "ok",
     "timestamp": 1740015325250,
     "user": {
      "displayName": "Mujtaba Nazari",
      "userId": "16194551095817193214"
     },
     "user_tz": 360
    },
    "id": "EQkWdNIi908K"
   },
   "outputs": [],
   "source": [
    "class mnist_fully_connected(nn.Module):\n",
    "    def __init__(self,num_classes):\n",
    "        super(mnist_fully_connected, self).__init__()\n",
    "        self.hidden1 = 600\n",
    "        self.hidden2 = 100\n",
    "        self.fc1 = nn.Linear(28 * 28, self.hidden1, bias=False)\n",
    "        self.relu_ = nn.ReLU(inplace=False)\n",
    "        self.fc2 = nn.Linear(self.hidden1, self.hidden2, bias=False)\n",
    "        self.relu = nn.ReLU(inplace=True)\n",
    "        self.fc3 = nn.Linear(self.hidden2, num_classes, bias=False)\n",
    "\n",
    "    def forward(self,x, return_probs=True):\n",
    "        x = x.view(-1, 28 * 28)\n",
    "        x = self.relu_(self.fc1(x))\n",
    "        x = relu(self.fc2(x))\n",
    "        logits = self.fc3(x)\n",
    "\n",
    "        return logits\n",
    "\n",
    "# to remove the _module in the begining of the layers.\n",
    "def strip_prefix(state_dict, prefix=\"_module.\"):\n",
    "    \"\"\"\n",
    "    Strip a prefix from the state_dict keys.\n",
    "    Args:\n",
    "        state_dict (dict): The state_dict with the potentially prefixed keys.\n",
    "        prefix (str): The prefix to remove.\n",
    "    Returns:\n",
    "        dict: The state_dict with the prefix removed from the keys.\n",
    "    \"\"\"\n",
    "    new_state_dict = OrderedDict()\n",
    "    for k, v in state_dict.items():\n",
    "        if k.startswith(prefix):\n",
    "            new_state_dict[k[len(prefix):]] = v\n",
    "        else:\n",
    "            new_state_dict[k] = v\n",
    "    return new_state_dict"
   ]
  },
  {
   "cell_type": "markdown",
   "metadata": {
    "id": "4Fb5LGwU908K"
   },
   "source": [
    "### 3.1 Load and Evaluate the model"
   ]
  },
  {
   "cell_type": "code",
   "execution_count": 13,
   "metadata": {
    "colab": {
     "base_uri": "https://localhost:8080/"
    },
    "executionInfo": {
     "elapsed": 1055,
     "status": "ok",
     "timestamp": 1740015348363,
     "user": {
      "displayName": "Mujtaba Nazari",
      "userId": "16194551095817193214"
     },
     "user_tz": 360
    },
    "id": "7TOjXPkq908K",
    "outputId": "b5b86a66-5d23-4456-a9b4-b4e2bffcc7a5"
   },
   "outputs": [
    {
     "name": "stderr",
     "output_type": "stream",
     "text": [
      "<ipython-input-13-200656deb4c7>:3: FutureWarning: You are using `torch.load` with `weights_only=False` (the current default value), which uses the default pickle module implicitly. It is possible to construct malicious pickle data which will execute arbitrary code during unpickling (See https://github.com/pytorch/pytorch/blob/main/SECURITY.md#untrusted-models for more details). In a future release, the default value for `weights_only` will be flipped to `True`. This limits the functions that could be executed during unpickling. Arbitrary objects will no longer be allowed to be loaded via this mode unless they are explicitly allowlisted by the user via `torch.serialization.add_safe_globals`. We recommend you start setting `weights_only=True` for any use case where you don't have full control of the loaded file. Please open an issue on GitHub for any issues related to this experimental feature.\n",
      "  state_dict = torch.load(model_path)\n"
     ]
    },
    {
     "name": "stdout",
     "output_type": "stream",
     "text": [
      "The accuray on the clean training data is :  87.91946172714233\n",
      "The accuray on the test data is :  86.17021441459656\n"
     ]
    }
   ],
   "source": [
    "model_path = f'{base_path}FL_LDP_data/client_model_weights/weight_user00.pth'  # Path to your saved model weights\n",
    "model = mnist_fully_connected(num_classes)\n",
    "state_dict = torch.load(model_path)\n",
    "model.load_state_dict(strip_prefix(state_dict, prefix=\"_module.\"))\n",
    "\n",
    "# Check the models accuracy on the train data\n",
    "with torch.no_grad():\n",
    "    test_logits = model(x_train)\n",
    "prediction = torch.sum(torch.argmax(test_logits, axis = 1) == torch.argmax(y_train, axis = 1)) / len(y_train)\n",
    "print('The accuray on the clean training data is : ', prediction.numpy() * 100)\n",
    "\n",
    "# Check the models accuracy on the test data\n",
    "with torch.no_grad():\n",
    "    test_logits = model(x_test)\n",
    "prediction = torch.sum(torch.argmax(test_logits, axis = 1) == torch.argmax(y_test, axis = 1)) / len(y_test)\n",
    "print('The accuray on the test data is : ', prediction.numpy() * 100)"
   ]
  },
  {
   "cell_type": "markdown",
   "metadata": {
    "id": "Bw_CYoqC908M"
   },
   "source": [
    "## 4. Clean the Data:\n",
    "\n",
    "* Filter out incorrectly classified samples to ensure only correctly classified samples are used in the experiment."
   ]
  },
  {
   "cell_type": "code",
   "execution_count": 14,
   "metadata": {
    "colab": {
     "base_uri": "https://localhost:8080/"
    },
    "executionInfo": {
     "elapsed": 121,
     "status": "ok",
     "timestamp": 1740015419376,
     "user": {
      "displayName": "Mujtaba Nazari",
      "userId": "16194551095817193214"
     },
     "user_tz": 360
    },
    "id": "PvL6lnrr908M",
    "outputId": "88820fd8-835d-4675-cce8-b9f178f62a4c"
   },
   "outputs": [
    {
     "name": "stderr",
     "output_type": "stream",
     "text": [
      "<ipython-input-14-dd114a7daee4>:14: UserWarning: Creating a tensor from a list of numpy.ndarrays is extremely slow. Please consider converting the list to a single numpy.ndarray with numpy.array() before converting to a tensor. (Triggered internally at ../torch/csrc/utils/tensor_new.cpp:278.)\n",
      "  return torch.tensor(clean_data), torch.tensor(clean_labels)\n"
     ]
    },
    {
     "data": {
      "text/plain": [
       "(torch.Size([524, 1, 28, 28]),\n",
       " torch.Size([524, 10]),\n",
       " torch.Size([81, 1, 28, 28]),\n",
       " torch.Size([81, 10]))"
      ]
     },
     "execution_count": 14,
     "metadata": {},
     "output_type": "execute_result"
    }
   ],
   "source": [
    "def data_cleaning(model, samples, labels):\n",
    "    with torch.no_grad():\n",
    "        logits = model(samples)\n",
    "    prediction = torch.argmax(logits, axis = 1)\n",
    "\n",
    "    clean_labels = []\n",
    "    clean_data = []\n",
    "\n",
    "    for idx, pred in enumerate(prediction):\n",
    "        if pred == torch.argmax(labels[idx]):\n",
    "            clean_labels.append(labels[idx].numpy())\n",
    "            clean_data.append(samples[idx].numpy())\n",
    "\n",
    "    return torch.tensor(clean_data), torch.tensor(clean_labels)\n",
    "\n",
    "\n",
    "x_train, y_train = data_cleaning(model, x_train, y_train)\n",
    "x_test, y_test = data_cleaning(model, x_test, y_test)\n",
    "\n",
    "x_train.shape, y_train.shape, x_test.shape, y_test.shape"
   ]
  },
  {
   "cell_type": "code",
   "execution_count": 15,
   "metadata": {
    "colab": {
     "base_uri": "https://localhost:8080/"
    },
    "executionInfo": {
     "elapsed": 33,
     "status": "ok",
     "timestamp": 1740015435442,
     "user": {
      "displayName": "Mujtaba Nazari",
      "userId": "16194551095817193214"
     },
     "user_tz": 360
    },
    "id": "5tCfrnsr908N",
    "outputId": "dd937b5b-55f1-4fc5-cb3b-ccffcdfdb951"
   },
   "outputs": [
    {
     "name": "stdout",
     "output_type": "stream",
     "text": [
      "The accuray on the clean training data is :  100.0\n",
      "The accuray on the clean testing data is :  100.0\n"
     ]
    }
   ],
   "source": [
    "with torch.no_grad():\n",
    "    test_logits = model(x_train)\n",
    "prediction = torch.sum(torch.argmax(test_logits, axis = 1) == torch.argmax(y_train, axis = 1)) / len(y_train)\n",
    "print('The accuray on the clean training data is : ', prediction.numpy() * 100)\n",
    "\n",
    "with torch.no_grad():\n",
    "    test_logits = model(x_test)\n",
    "prediction = torch.sum(torch.argmax(test_logits, axis = 1) == torch.argmax(y_test, axis = 1)) / len(y_test)\n",
    "print('The accuray on the clean testing data is : ', prediction.numpy() * 100)"
   ]
  },
  {
   "cell_type": "code",
   "execution_count": 17,
   "metadata": {
    "executionInfo": {
     "elapsed": 9,
     "status": "ok",
     "timestamp": 1740015448216,
     "user": {
      "displayName": "Mujtaba Nazari",
      "userId": "16194551095817193214"
     },
     "user_tz": 360
    },
    "id": "y4By6dfr908N"
   },
   "outputs": [],
   "source": [
    "# np.sum(y_train, axis=0)"
   ]
  },
  {
   "cell_type": "markdown",
   "metadata": {
    "id": "b7Wl7pnZ908N"
   },
   "source": [
    "## 5. Create the HiddenTriggerBackdoor Model:\n",
    "\n",
    "* Implement the HiddenTriggerBackdoor model to generate poisoned data and design the backdoor attack."
   ]
  },
  {
   "cell_type": "code",
   "execution_count": 18,
   "metadata": {
    "executionInfo": {
     "elapsed": 34,
     "status": "ok",
     "timestamp": 1740015461908,
     "user": {
      "displayName": "Mujtaba Nazari",
      "userId": "16194551095817193214"
     },
     "user_tz": 360
    },
    "id": "tFWf2G0l908N"
   },
   "outputs": [],
   "source": [
    "from typing import Optional, Tuple\n",
    "def insert_image(\n",
    "    x: np.ndarray,\n",
    "    backdoor_path: str = \"./alert.png\",\n",
    "    channels_first: bool = False,\n",
    "    random: bool = True,\n",
    "    x_shift: int = 0,\n",
    "    y_shift: int = 0,\n",
    "    size: Optional[Tuple[int, int]] = None,\n",
    "    mode: str = \"L\",\n",
    "    blend=0.8,\n",
    ") -> np.ndarray:\n",
    "    \"\"\"\n",
    "    Augments a matrix by setting a checkerboard-like pattern of values some `distance` away from the bottom-right\n",
    "    edge to 1. Works for single images or a batch of images.\n",
    "\n",
    "    :param x: A single image or batch of images of shape NHWC, NCHW, or HWC. Input is in range [0,1].\n",
    "    :param backdoor_path: The path to the image to insert as a trigger.\n",
    "    :param channels_first: Whether the channels axis is in the first or last dimension\n",
    "    :param random: Whether or not the image should be randomly placed somewhere on the image.\n",
    "    :param x_shift: Number of pixels from the left to shift the trigger (when not using random placement).\n",
    "    :param y_shift: Number of pixels from the right to shift the trigger (when not using random placement).\n",
    "    :param size: The size the trigger image should be (height, width). Default `None` if no resizing necessary.\n",
    "    :param mode: The mode the image should be read in. See PIL documentation\n",
    "                 (https://pillow.readthedocs.io/en/stable/handbook/concepts.html#concept-modes).\n",
    "    :param blend: The blending factor\n",
    "    :return: Backdoored image.\n",
    "    \"\"\"\n",
    "    from PIL import Image\n",
    "\n",
    "    n_dim = len(x.shape)\n",
    "    if n_dim == 4:\n",
    "        return np.array(\n",
    "            [\n",
    "                insert_image(single_img, backdoor_path, channels_first, random, x_shift, y_shift, size, mode, blend)\n",
    "                for single_img in x\n",
    "            ]\n",
    "        )\n",
    "\n",
    "    if n_dim != 3:\n",
    "        raise ValueError(f\"Invalid array shape {x.shape}\")\n",
    "\n",
    "    original_dtype = x.dtype\n",
    "    data = np.copy(x)\n",
    "    if channels_first:\n",
    "        data = np.transpose(data, (1, 2, 0))\n",
    "\n",
    "    height, width, num_channels = data.shape\n",
    "\n",
    "    no_color = num_channels == 1\n",
    "    orig_img = Image.new(\"RGBA\", (width, height), 0)  # height and width are swapped for PIL\n",
    "    backdoored_img = Image.new(\"RGBA\", (width, height), 0)  # height and width are swapped for PIL\n",
    "\n",
    "    if no_color:\n",
    "        backdoored_input = Image.fromarray(((data + 1) * 127.5).astype(np.uint8).squeeze(axis=2), mode=mode)\n",
    "    else:\n",
    "        backdoored_input = Image.fromarray(((data + 1) * 127.5).astype(np.uint8), mode=mode)\n",
    "\n",
    "    orig_img.paste(backdoored_input)\n",
    "\n",
    "    trigger = Image.open(backdoor_path).convert(\"RGBA\")\n",
    "    if size is not None:\n",
    "        trigger = trigger.resize((size[1], size[0]))  # height and width are swapped for PIL\n",
    "\n",
    "    backdoor_width, backdoor_height = trigger.size  # height and width are swapped for PIL\n",
    "\n",
    "    if backdoor_width > width or backdoor_height > height:\n",
    "        raise ValueError(\"Backdoor does not fit inside original image\")\n",
    "\n",
    "    if random:\n",
    "        x_shift = np.random.randint(width - backdoor_width + 1)\n",
    "        y_shift = np.random.randint(height - backdoor_height + 1)\n",
    "\n",
    "    backdoored_img.paste(trigger, (x_shift, y_shift), mask=trigger)\n",
    "    composite = Image.alpha_composite(orig_img, backdoored_img)\n",
    "    backdoored_img = Image.blend(orig_img, composite, blend)\n",
    "    backdoored_img = backdoored_img.convert(mode)\n",
    "\n",
    "    res = (np.asarray(backdoored_img) / 127.5 ) - 1\n",
    "\n",
    "    if no_color:\n",
    "        res = np.expand_dims(res, 2)\n",
    "\n",
    "    if channels_first:\n",
    "        res = np.transpose(res, (2, 0, 1))\n",
    "\n",
    "    return res.astype(original_dtype)"
   ]
  },
  {
   "cell_type": "markdown",
   "metadata": {
    "id": "BxK-e4DX908N"
   },
   "source": [
    "### 5.1 Generate the poisoned data"
   ]
  },
  {
   "cell_type": "code",
   "execution_count": 20,
   "metadata": {
    "colab": {
     "base_uri": "https://localhost:8080/",
     "height": 277,
     "referenced_widgets": [
      "04d771f0e74840eda5b5b019939f8216",
      "d7cef487e9c240fc9169d199c2be1936",
      "056bffdda9924ec5b1045bd6284d64e7",
      "b07dd7b8a75a45468acb84f192ab6252",
      "798e20155977472d9e7f57469d028996",
      "c6f395f21c184fd9bd0ddc3ddd3404e6",
      "be991ecd30524433bdedfa2abf06708c",
      "1092ed087f574673a2b86957c2e0b5bb",
      "7891dff8e24c47a39f25ac0d621ca663",
      "e8470f6a465c4be1bc16c190e9d48451",
      "50f77f46333e467d801e9d86dd9ffe8e"
     ]
    },
    "executionInfo": {
     "elapsed": 16196,
     "status": "ok",
     "timestamp": 1740015524382,
     "user": {
      "displayName": "Mujtaba Nazari",
      "userId": "16194551095817193214"
     },
     "user_tz": 360
    },
    "id": "kz-5Mr-x908N",
    "outputId": "3dfac634-a515-450f-f11f-fbe04eb7393d"
   },
   "outputs": [
    {
     "data": {
      "application/vnd.jupyter.widget-view+json": {
       "model_id": "04d771f0e74840eda5b5b019939f8216",
       "version_major": 2,
       "version_minor": 0
      },
      "text/plain": [
       "Hidden Trigger:   0%|          | 0/1 [00:00<?, ?it/s]"
      ]
     },
     "metadata": {},
     "output_type": "display_data"
    },
    {
     "name": "stdout",
     "output_type": "stream",
     "text": [
      "Batch: 0 | i:     0 |                         LR: 0.00100 |                         Loss Val: 17335.088 | Loss Avg: 17335.088\n",
      "Batch: 0 | i:   100 |                         LR: 0.00100 |                         Loss Val: 2779.174 | Loss Avg: 5768.450\n",
      "Batch: 0 | i:   200 |                         LR: 0.00100 |                         Loss Val: 2120.583 | Loss Avg: 4075.559\n",
      "Batch: 0 | i:   300 |                         LR: 0.00100 |                         Loss Val: 1926.067 | Loss Avg: 3388.311\n",
      "Batch: 0 | i:   400 |                         LR: 0.00100 |                         Loss Val: 1840.568 | Loss Avg: 3011.687\n",
      "Batch: 0 | i:   500 |                         LR: 0.00100 |                         Loss Val: 1793.050 | Loss Avg: 2772.736\n",
      "Batch: 0 | i:   600 |                         LR: 0.00100 |                         Loss Val: 1763.841 | Loss Avg: 2607.083\n",
      "Batch: 0 | i:   700 |                         LR: 0.00100 |                         Loss Val: 1744.267 | Loss Avg: 2485.299\n",
      "Batch: 0 | i:   800 |                         LR: 0.00100 |                         Loss Val: 1730.776 | Loss Avg: 2391.884\n",
      "Batch: 0 | i:   900 |                         LR: 0.00100 |                         Loss Val: 1721.082 | Loss Avg: 2317.941\n",
      "Max_Loss: 1713.8173828125\n",
      "Number of poison samples generated: 50\n"
     ]
    }
   ],
   "source": [
    "criterion = nn.CrossEntropyLoss()\n",
    "optimizer = optim.SGD(model.parameters(), lr=0.01, momentum=0.9, weight_decay=2e-4)\n",
    "classifier = PyTorchClassifier(\n",
    "    model=model,\n",
    "    clip_values=(min_, max_),\n",
    "    loss=criterion,\n",
    "    optimizer=optimizer,\n",
    "    input_shape=(1, 28, 28),\n",
    "    nb_classes=10,\n",
    "    preprocessing=(mean_, std_)\n",
    ")\n",
    "# target = 3, source = 8\n",
    "target = np.array([0,0,0,1,0,0,0,0,0,0])\n",
    "source = np.array([0,0,0,0,0,0,0,0,1,0])\n",
    "\n",
    "# Backdoor Trigger Parameters\n",
    "patch_size = 25\n",
    "x_shift = 28 - patch_size\n",
    "y_shift = 28 - patch_size\n",
    "\n",
    "# Define the backdoor poisoning object. Calling backdoor.poison(x) will insert the trigger into x.\n",
    "def mod(x):\n",
    "    original_dtype = x.dtype\n",
    "    x = insert_image(x, backdoor_path=f'{base_path}/devil.png',\n",
    "                                   channels_first=True, random=False, x_shift=x_shift, y_shift=y_shift,\n",
    "                                   size=(patch_size,patch_size), mode='L', blend=0.8)\n",
    "    return x.astype(original_dtype)\n",
    "backdoor = PoisoningAttackBackdoor(mod)\n",
    "\n",
    "poison_attack = HiddenTriggerBackdoor(classifier, eps=0.3, target=target, source=source,\n",
    "                                      feature_layer=4, backdoor=backdoor, decay_coeff = .95,\n",
    "                                      decay_iter = 2000, max_iter=1000, batch_size=128, poison_percent=0.90,\n",
    "                                      stopping_threshold=0.01)\n",
    "\n",
    "poison_data, poison_indices = poison_attack.poison(x_train, y_train.numpy()) # torch.argmax(loaded_labels, axis = 1), np.argmax(y_train, axis = 1)\n",
    "print(\"Number of poison samples generated:\", len(poison_data))"
   ]
  },
  {
   "cell_type": "markdown",
   "metadata": {
    "id": "zfbxcGDv908T"
   },
   "source": [
    "### 5.2 Filter Poisoned Images:\n",
    "\n",
    "* Retain only the poisoned images that are classified as the target (source) label by the model."
   ]
  },
  {
   "cell_type": "code",
   "execution_count": 21,
   "metadata": {
    "colab": {
     "base_uri": "https://localhost:8080/"
    },
    "executionInfo": {
     "elapsed": 12,
     "status": "ok",
     "timestamp": 1740015997788,
     "user": {
      "displayName": "Mujtaba Nazari",
      "userId": "16194551095817193214"
     },
     "user_tz": 360
    },
    "id": "YAk8tufF908T",
    "outputId": "9d5df568-2d08-4e38-af21-1ee4a21b4380"
   },
   "outputs": [
    {
     "data": {
      "text/plain": [
       "((50, 1, 28, 28), (50,))"
      ]
     },
     "execution_count": 21,
     "metadata": {},
     "output_type": "execute_result"
    }
   ],
   "source": [
    "#filter successful poisioned data\n",
    "def filtered_poisoned_results(poison_data_predictions, poison_indices, poison_data, source):\n",
    "    res=[]\n",
    "    idxs= []\n",
    "    for ixz, item in enumerate(poison_data_predictions):\n",
    "        if np.argmax(item) == np.argmax(source):\n",
    "            res.append(poison_data[ixz])\n",
    "            idxs.append(poison_indices[ixz])\n",
    "    return np.array(res), np.array(idxs)\n",
    "\n",
    "predictions = classifier.predict(poison_data)\n",
    "\n",
    "poison_data, poison_indices = filtered_poisoned_results(predictions, poison_indices, poison_data, source)\n",
    "poison_data.shape, poison_indices.shape"
   ]
  },
  {
   "cell_type": "markdown",
   "metadata": {
    "id": "S363uxsn908T"
   },
   "source": [
    "### 5.3 Visualize the poisoned samples"
   ]
  },
  {
   "cell_type": "code",
   "execution_count": 22,
   "metadata": {
    "colab": {
     "base_uri": "https://localhost:8080/",
     "height": 465
    },
    "executionInfo": {
     "elapsed": 437,
     "status": "ok",
     "timestamp": 1740016009315,
     "user": {
      "displayName": "Mujtaba Nazari",
      "userId": "16194551095817193214"
     },
     "user_tz": 360
    },
    "id": "OS4M-LbI908T",
    "outputId": "8453e583-0c28-44d9-dade-800321d3d61b"
   },
   "outputs": [
    {
     "data": {
      "image/png": "[encoded data removed]",
      "text/plain": [
       "<Figure size 1500x600 with 10 Axes>"
      ]
     },
     "metadata": {},
     "output_type": "display_data"
    }
   ],
   "source": [
    "poison_labels = y_train[poison_indices]\n",
    "\n",
    "fig, ax = plt.subplots(2,5, figsize=(15, 6))\n",
    "ax = ax.flatten()\n",
    "\n",
    "for i, (image, label) in enumerate(zip(poison_data[:10], poison_labels[:10])):\n",
    "  with torch.no_grad():\n",
    "    logits = classifier.predict(image)\n",
    "\n",
    "  img = np.transpose(image, (1, 2, 0))\n",
    "  ax[i].imshow(img, cmap = \"Greys\")\n",
    "  ax[i].set_title(f\"Actual Label: {label.argmax()}\\n Predicted Label {logits.argmax()}\",  fontsize=12)\n",
    "  ax[i].set_xticks([])\n",
    "  ax[i].set_yticks([])"
   ]
  },
  {
   "cell_type": "markdown",
   "metadata": {
    "id": "vXJj6wdD908T"
   },
   "source": [
    "### 5.4 Save the poisoned generated sample"
   ]
  },
  {
   "cell_type": "code",
   "execution_count": 26,
   "metadata": {
    "colab": {
     "base_uri": "https://localhost:8080/"
    },
    "executionInfo": {
     "elapsed": 50,
     "status": "ok",
     "timestamp": 1740016172208,
     "user": {
      "displayName": "Mujtaba Nazari",
      "userId": "16194551095817193214"
     },
     "user_tz": 360
    },
    "id": "NJELJGpLC69J",
    "outputId": "ce34b81f-8f37-4c11-eabf-56a83d1d1da0"
   },
   "outputs": [
    {
     "data": {
      "text/plain": [
       "torch.Tensor"
      ]
     },
     "execution_count": 26,
     "metadata": {},
     "output_type": "execute_result"
    }
   ],
   "source": [
    "type(poison_data)"
   ]
  },
  {
   "cell_type": "code",
   "execution_count": 27,
   "metadata": {
    "executionInfo": {
     "elapsed": 12,
     "status": "ok",
     "timestamp": 1740016180350,
     "user": {
      "displayName": "Mujtaba Nazari",
      "userId": "16194551095817193214"
     },
     "user_tz": 360
    },
    "id": "jjMM-XyN908U"
   },
   "outputs": [],
   "source": [
    "poison_labels_list = []\n",
    "for i in range(len(poison_indices)):\n",
    "    poison_labels_list.append(source)\n",
    "\n",
    "poison_labels = torch.tensor(poison_labels_list)\n",
    "poison_data = poison_data\n",
    "\n",
    "# Save the poisoned_samples\n",
    "# torch.save({'images': poison_data, 'labels': poison_labels}, f'./FL_LDP_data/poison_data.pt')\n",
    "\n",
    "# stack the poisoned_data to the training data.\n",
    "poison_x = torch.concatenate([x_train, poison_data], axis = 0)\n",
    "poison_y = torch.concatenate([y_train, poison_labels], axis = 0)\n",
    "# Save the poisoned training data\n",
    "# torch.save({'images': poison_x, 'labels': poison_y}, f'./FL_LDP_data/poison_training_data.pt')"
   ]
  },
  {
   "cell_type": "markdown",
   "metadata": {
    "id": "lRqYVg-m908U"
   },
   "source": [
    "### 5.5 Load the saved poisoned generated samples"
   ]
  },
  {
   "cell_type": "code",
   "execution_count": 28,
   "metadata": {
    "executionInfo": {
     "elapsed": 9,
     "status": "ok",
     "timestamp": 1740016190907,
     "user": {
      "displayName": "Mujtaba Nazari",
      "userId": "16194551095817193214"
     },
     "user_tz": 360
    },
    "id": "nG99KkKq908U"
   },
   "outputs": [],
   "source": [
    "model = classifier.model\n",
    "\n",
    "# poison_extracted_data = torch.load('./FL_LDP_data/poison_data.pt')\n",
    "# poison_data = poison_extracted_data['images']\n",
    "# poison_labels = poison_extracted_data['labels']\n",
    "\n",
    "# training_poison_data = torch.load('./FL_LDP_data/poison_training_data.pt')\n",
    "# poison_x = training_poison_data['images']\n",
    "# poison_y = training_poison_data['labels']"
   ]
  },
  {
   "cell_type": "markdown",
   "metadata": {
    "id": "iwfpKYl1908U"
   },
   "source": [
    "### 5.6 Evalute the train, test and poisoned data"
   ]
  },
  {
   "cell_type": "code",
   "execution_count": 30,
   "metadata": {
    "colab": {
     "base_uri": "https://localhost:8080/"
    },
    "executionInfo": {
     "elapsed": 34,
     "status": "ok",
     "timestamp": 1740016224080,
     "user": {
      "displayName": "Mujtaba Nazari",
      "userId": "16194551095817193214"
     },
     "user_tz": 360
    },
    "id": "_jEDclI0DGMT",
    "outputId": "a14b0b0d-a1a4-46fc-cf5f-2b94871ec4c8"
   },
   "outputs": [
    {
     "data": {
      "text/plain": [
       "mnist_fully_connected(\n",
       "  (fc1): Linear(in_features=784, out_features=600, bias=False)\n",
       "  (relu_): ReLU()\n",
       "  (fc2): Linear(in_features=600, out_features=100, bias=False)\n",
       "  (relu): ReLU(inplace=True)\n",
       "  (fc3): Linear(in_features=100, out_features=10, bias=False)\n",
       ")"
      ]
     },
     "execution_count": 30,
     "metadata": {},
     "output_type": "execute_result"
    }
   ],
   "source": [
    "model.to('cpu')"
   ]
  },
  {
   "cell_type": "code",
   "execution_count": 31,
   "metadata": {
    "colab": {
     "base_uri": "https://localhost:8080/"
    },
    "executionInfo": {
     "elapsed": 31,
     "status": "ok",
     "timestamp": 1740016227542,
     "user": {
      "displayName": "Mujtaba Nazari",
      "userId": "16194551095817193214"
     },
     "user_tz": 360
    },
    "id": "_7Viy2NQ908V",
    "outputId": "c88a92cf-f9c2-4db1-b0cf-ad3c3b65d509"
   },
   "outputs": [
    {
     "name": "stdout",
     "output_type": "stream",
     "text": [
      "The accuray on the clean training data is :  95.29616832733154\n",
      "The accuray on the clean testing data is :  100.0\n",
      "The accuray on the poison data is :  46.00000083446503\n"
     ]
    }
   ],
   "source": [
    "with torch.no_grad():\n",
    "    test_logits = model(poison_x)\n",
    "prediction = torch.sum(torch.argmax(test_logits, axis = 1) == torch.argmax(poison_y, axis = 1)) / len(poison_y)\n",
    "print('The accuray on the clean training data is : ', prediction.numpy() * 100)\n",
    "\n",
    "with torch.no_grad():\n",
    "    test_logits = model(x_test)\n",
    "prediction = torch.sum(torch.argmax(test_logits, axis = 1) == torch.argmax(y_test, axis = 1)) / len(y_test)\n",
    "print('The accuray on the clean testing data is : ', prediction.numpy() * 100)\n",
    "\n",
    "with torch.no_grad():\n",
    "    test_logits = model(poison_data)\n",
    "prediction = torch.sum(torch.argmax(test_logits, axis = 1) == torch.argmax(poison_labels, axis = 1)) / len(poison_labels)\n",
    "print('The accuray on the poison data is : ', prediction.numpy() * 100)"
   ]
  },
  {
   "cell_type": "code",
   "execution_count": 32,
   "metadata": {
    "colab": {
     "base_uri": "https://localhost:8080/"
    },
    "executionInfo": {
     "elapsed": 5,
     "status": "ok",
     "timestamp": 1740016234936,
     "user": {
      "displayName": "Mujtaba Nazari",
      "userId": "16194551095817193214"
     },
     "user_tz": 360
    },
    "id": "-_-1-Vv7908V",
    "outputId": "cce68cf5-d63f-4afc-938f-fc9554cfcce6"
   },
   "outputs": [
    {
     "data": {
      "text/plain": [
       "(torch.Size([574, 1, 28, 28]),\n",
       " torch.Size([574, 10]),\n",
       " torch.Size([524, 1, 28, 28]),\n",
       " torch.Size([524, 10]),\n",
       " torch.Size([50, 1, 28, 28]),\n",
       " torch.Size([50, 10]))"
      ]
     },
     "execution_count": 32,
     "metadata": {},
     "output_type": "execute_result"
    }
   ],
   "source": [
    "poison_x.shape, poison_y.shape, x_train.shape, y_train.shape, poison_data.shape, poison_labels.shape"
   ]
  },
  {
   "cell_type": "markdown",
   "metadata": {
    "id": "OWtDTvdZ908W"
   },
   "source": [
    "#### Test Trigger"
   ]
  },
  {
   "cell_type": "code",
   "execution_count": 33,
   "metadata": {
    "colab": {
     "base_uri": "https://localhost:8080/"
    },
    "executionInfo": {
     "elapsed": 59,
     "status": "ok",
     "timestamp": 1740016289485,
     "user": {
      "displayName": "Mujtaba Nazari",
      "userId": "16194551095817193214"
     },
     "user_tz": 360
    },
    "id": "eSsL0pa7908W",
    "outputId": "8e5b14d1-b8bb-4a15-ccf4-57b7927f87e1"
   },
   "outputs": [
    {
     "data": {
      "text/plain": [
       "((7, 1, 28, 28), (7, 10))"
      ]
     },
     "execution_count": 33,
     "metadata": {},
     "output_type": "execute_result"
    }
   ],
   "source": [
    "trigger_test_inds = np.where(np.all(y_test.numpy() == source, axis=1))[0]\n",
    "\n",
    "test_poisoned_samples, test_poisoned_labels  = backdoor.poison(x_test[trigger_test_inds], y_test[trigger_test_inds])\n",
    "test_poisoned_samples.shape, test_poisoned_labels.shape"
   ]
  },
  {
   "cell_type": "code",
   "execution_count": null,
   "metadata": {
    "id": "1BD65ODa908W"
   },
   "outputs": [],
   "source": [
    "# Save the poisoned data and labels\n",
    "# torch.save({'images': torch.from_numpy(test_poisoned_samples), 'labels': torch.from_numpy(test_poisoned_labels)}, './FL_LDP_data/test_trigger_data.pt')\n",
    "# test_trigger = torch.load('./FL_LDP_data/test_trigger_data.pt')\n",
    "# test_poisoned_samples, test_poisoned_labels = test_trigger['images'], test_trigger['labels']\n",
    "# test_poisoned_samples.shape, test_poisoned_labels.shape"
   ]
  },
  {
   "cell_type": "code",
   "execution_count": 34,
   "metadata": {
    "colab": {
     "base_uri": "https://localhost:8080/",
     "height": 523
    },
    "executionInfo": {
     "elapsed": 956,
     "status": "ok",
     "timestamp": 1740016307732,
     "user": {
      "displayName": "Mujtaba Nazari",
      "userId": "16194551095817193214"
     },
     "user_tz": 360
    },
    "id": "9X7NGMv3908W",
    "outputId": "9d6c9601-b8e5-4587-c3f3-1e28e29a09f6"
   },
   "outputs": [
    {
     "data": {
      "image/png": "[encoded data removed]",
      "text/plain": [
       "<Figure size 1500x700 with 10 Axes>"
      ]
     },
     "metadata": {},
     "output_type": "display_data"
    }
   ],
   "source": [
    "poisoned_images = torch.from_numpy(test_poisoned_samples)\n",
    "poisoned_labels = test_poisoned_labels\n",
    "\n",
    "fig, ax = plt.subplots(2,5, figsize=(15, 7))\n",
    "ax = ax.flatten()\n",
    "\n",
    "for i, (image, label) in enumerate(zip(poisoned_images[:10], poisoned_labels[:10])):\n",
    "  im_idx = np.argwhere(np.argmax(poison_y, axis = 1) == i)[0]\n",
    "  img = image.permute(1, 2, 0)\n",
    "  ax[i].imshow(img, cmap='gray_r')\n",
    "  with torch.no_grad():\n",
    "    logit = model(image)\n",
    "  ax[i].set_title(f\"Actual Label: {label.argmax()} \\nPredicted: {np.argmax(logits)}\",  fontsize=12)"
   ]
  },
  {
   "cell_type": "markdown",
   "metadata": {
    "id": "cx6mBRFn908X"
   },
   "source": [
    "## 6. Train the Client Model with Backdoor:\n",
    "\n",
    "* Train the client model on both benign and poisoned data, embedding the backdoor in the model."
   ]
  },
  {
   "cell_type": "code",
   "execution_count": null,
   "metadata": {
    "id": "j9mosx4k908X"
   },
   "outputs": [],
   "source": [
    "poison_model = mnist_fully_connected(num_classes)\n",
    "\n",
    "# Set up the optimizer and loss function\n",
    "# criterion = nn.CrossEntropyLoss()\n",
    "# optimizer = optim.SGD(filter(lambda p: p.requires_grad, poison_model.parameters()), lr=0.002, momentum=0.9, weight_decay=2e-4)\n",
    "\n",
    "# poison_classifier = PyTorchClassifier(\n",
    "#     model=poison_model,\n",
    "#     clip_values=(min_, max_),\n",
    "#     loss=criterion,\n",
    "#     optimizer=optimizer,\n",
    "#     input_shape=(1, 28, 28),\n",
    "#     nb_classes=10,\n",
    "#     preprocessing=(mean_, std_)\n",
    "# )"
   ]
  },
  {
   "cell_type": "code",
   "execution_count": 35,
   "metadata": {
    "executionInfo": {
     "elapsed": 9,
     "status": "ok",
     "timestamp": 1740016400511,
     "user": {
      "displayName": "Mujtaba Nazari",
      "userId": "16194551095817193214"
     },
     "user_tz": 360
    },
    "id": "WRAhINoJ908X"
   },
   "outputs": [],
   "source": [
    "class Trainer:\n",
    "    def __init__(self, model, train_loader):\n",
    "        \"\"\"\n",
    "        Initialize the trainer class.\n",
    "\n",
    "        Args:\n",
    "        - model: The model to be trained.\n",
    "        - train_loader: DataLoader for training data.\n",
    "        - val_loader: DataLoader for validation data (optional).\n",
    "        - criterion: Loss function (e.g., nn.CrossEntropyLoss).\n",
    "        - optimizer: Optimizer (e.g., optim.Adam).\n",
    "        - device: The device to use (CPU or GPU).\n",
    "        \"\"\"\n",
    "        self.model = model\n",
    "        self.train_loader = train_loader\n",
    "        self.criterion = nn.CrossEntropyLoss()\n",
    "        self.optimizer = optim.SGD(filter(lambda p: p.requires_grad, poison_model.parameters()), lr=0.002, momentum=0.9, weight_decay=2e-4)\n",
    "        self.device = torch.device('cuda:0' if torch.cuda.is_available() else 'cpu')\n",
    "\n",
    "        # Move model to the correct device\n",
    "        self.model.to(self.device)\n",
    "\n",
    "    def train_epoch(self):\n",
    "        \"\"\"Train for one epoch.\"\"\"\n",
    "        self.model.train()  # Set the model to training mode\n",
    "\n",
    "        for inputs, labels in self.train_loader:\n",
    "            inputs, labels = inputs.to(self.device), labels.to(self.device)\n",
    "\n",
    "            # Zero the gradients\n",
    "            self.optimizer.zero_grad()\n",
    "\n",
    "            # Forward pass\n",
    "            outputs = self.model(inputs)\n",
    "            loss = self.criterion(outputs, labels.float())\n",
    "\n",
    "            # Backward pass and optimize\n",
    "            loss.backward()\n",
    "            self.optimizer.step()\n",
    "\n",
    "    def train(self, num_epochs=10):\n",
    "        for epoch in range(num_epochs):\n",
    "            self.train_epoch()\n"
   ]
  },
  {
   "cell_type": "code",
   "execution_count": 36,
   "metadata": {
    "executionInfo": {
     "elapsed": 1672,
     "status": "ok",
     "timestamp": 1740016413136,
     "user": {
      "displayName": "Mujtaba Nazari",
      "userId": "16194551095817193214"
     },
     "user_tz": 360
    },
    "id": "18kCL93Y908X"
   },
   "outputs": [],
   "source": [
    "from torch.utils.data import DataLoader, Dataset\n",
    "\n",
    "\n",
    "class CustomDataset(Dataset):\n",
    "    def __init__(self, data, labels, transform=None):\n",
    "        self.data = data\n",
    "        self.labels = labels\n",
    "        self.transform = transform\n",
    "\n",
    "    def __len__(self):\n",
    "        return len(self.data)\n",
    "\n",
    "    def __getitem__(self, idx):\n",
    "        sample = self.data[idx]\n",
    "        label = self.labels[idx]\n",
    "\n",
    "        return sample, label\n",
    "\n",
    "# Create DataLoader for training\n",
    "train_dataset = CustomDataset(poison_x, poison_y)\n",
    "train_loader = DataLoader(train_dataset, batch_size=64, shuffle=True)\n",
    "\n",
    "# Initialize the model\n",
    "poison_model = mnist_fully_connected(num_classes)\n",
    "\n",
    "# Initialize the trainer\n",
    "trainer = Trainer(model=poison_model, train_loader=train_loader)\n",
    "\n",
    "# Train the model for 10 epochs\n",
    "trainer.train(num_epochs=100)"
   ]
  },
  {
   "cell_type": "code",
   "execution_count": 37,
   "metadata": {
    "colab": {
     "base_uri": "https://localhost:8080/"
    },
    "executionInfo": {
     "elapsed": 37,
     "status": "ok",
     "timestamp": 1740016417147,
     "user": {
      "displayName": "Mujtaba Nazari",
      "userId": "16194551095817193214"
     },
     "user_tz": 360
    },
    "id": "eqFdHTmb908Y",
    "outputId": "eabdbf04-b723-4645-9c47-2d8a2da24f3b"
   },
   "outputs": [
    {
     "name": "stdout",
     "output_type": "stream",
     "text": [
      "Accuracy on benign test examples: 96.29629516601562%\n",
      "Accuracy on clean train examples: 100.0%\n",
      "Accuracy on poisoned trigger examples: 100.0%\n",
      "Accuracy on poisoned trigger examples: 100.0%\n"
     ]
    }
   ],
   "source": [
    "poison_model.to('cpu')\n",
    "with torch.no_grad():\n",
    "\n",
    "    predictions = poison_model(x_test)\n",
    "    accuracy = torch.sum(torch.argmax(predictions, axis=1) == torch.argmax(y_test, axis=1)) / len(y_test)\n",
    "    print(\"Accuracy on benign test examples: {}%\".format(accuracy * 100))\n",
    "\n",
    "    predictions = poison_model(x_train)\n",
    "    accuracy = torch.sum(torch.argmax(predictions, axis=1) == torch.argmax(y_train, axis=1)) / len(y_train)\n",
    "    print(\"Accuracy on clean train examples: {}%\".format(accuracy * 100))\n",
    "\n",
    "    predictions = poison_model(poison_data)\n",
    "    p_accuracy = torch.sum(torch.argmax(predictions, axis=1) == torch.argmax(poison_labels, axis=1)) / len(poison_labels)\n",
    "    print(\"Accuracy on poisoned trigger examples: {}%\".format(p_accuracy * 100))\n",
    "\n",
    "    predictions = poison_model(torch.from_numpy(test_poisoned_samples))\n",
    "    p_accuracy = torch.sum(torch.argmax(predictions, axis=1) == np.argmax(test_poisoned_labels, axis=1)) / len(test_poisoned_labels)\n",
    "    print(\"Accuracy on poisoned trigger examples: {}%\".format(p_accuracy * 100))"
   ]
  },
  {
   "cell_type": "code",
   "execution_count": 38,
   "metadata": {
    "executionInfo": {
     "elapsed": 26,
     "status": "ok",
     "timestamp": 1740016467855,
     "user": {
      "displayName": "Mujtaba Nazari",
      "userId": "16194551095817193214"
     },
     "user_tz": 360
    },
    "id": "Ap3P9Xv7908Y"
   },
   "outputs": [],
   "source": [
    "torch.save(poison_model.state_dict(), './poisoned_model.pth')\n",
    "\n",
    "# model_path = './FL_LDP_data/poisoned_model.pth'  # Path to your saved model weights\n",
    "# model = mnist_fully_connected(num_classes)\n",
    "# state_dict = torch.load(model_path)\n",
    "# model.load_state_dict(strip_prefix(state_dict, prefix=\"_module.\"))\n"
   ]
  },
  {
   "cell_type": "markdown",
   "metadata": {
    "id": "A0BkJVK3908Z"
   },
   "source": [
    "# 7. Evaluate the Global Model:\n",
    "\n",
    "* Assess the impact of the backdoor model on the global federated model, gradually increasing the number of clients with backdoor models and measuring the effect on the overall system."
   ]
  },
  {
   "cell_type": "code",
   "execution_count": 39,
   "metadata": {
    "executionInfo": {
     "elapsed": 14,
     "status": "ok",
     "timestamp": 1740016480507,
     "user": {
      "displayName": "Mujtaba Nazari",
      "userId": "16194551095817193214"
     },
     "user_tz": 360
    },
    "id": "pV5A0FvD908Z"
   },
   "outputs": [],
   "source": [
    "# Helper fucntions\n",
    "def fileCollections(directory, extension):\n",
    "    \"\"\"\n",
    "    List all .pt | .pth files in the given directory and its subdirectories.\n",
    "\n",
    "    Args:\n",
    "        directory (str): The directory to search for .pt | .pth files.\n",
    "        extension (str): The file extension that we need the file to be listed based on that.\n",
    "\n",
    "    Returns:\n",
    "        List[str]: A list of paths to .pt|.pth files.\n",
    "    \"\"\"\n",
    "    pt_files = []\n",
    "    for root, _, files in os.walk(directory):\n",
    "        for file in files:\n",
    "            if file.endswith(extension):\n",
    "                pt_files.append(os.path.join(root, file))\n",
    "    return sorted(pt_files)\n",
    "\n",
    "\n",
    "def modelWeightsCollection(directory_path, poison_weights_path, NUM_BACKDOOR):\n",
    "    extension = '.pth'\n",
    "    model_weights = []\n",
    "\n",
    "    files = fileCollections(directory_path, extension)\n",
    "    for i in range(len(files)):\n",
    "        if i < NUM_BACKDOOR:\n",
    "            model_weights.append(poison_weights_path)\n",
    "            # print(\"Poisoned_path: \", poison_weights_path)\n",
    "        else:\n",
    "            model_weights.append(files[i])\n",
    "            # print('Clean Weight Path: ', files[i])\n",
    "\n",
    "    return model_weights\n",
    "\n",
    "def modelWeightsRandomCollection(directory_path, poison_weights_path, NUM_BACKDOOR):\n",
    "    extension = '.pth'\n",
    "    model_weights = []\n",
    "\n",
    "    # List of paths to the clean models\n",
    "    files = fileCollections(directory_path, extension)\n",
    "    files = files[1:]\n",
    "    # Randomly select positions for the poisoned models\n",
    "    poison_indices = random.sample(range(len(files)), NUM_BACKDOOR)\n",
    "\n",
    "    for i in range(len(files)):\n",
    "        if i in poison_indices:  # If the current index is in the list of poisoned indices\n",
    "            model_weights.append(poison_weights_path)  # Add poisoned model path\n",
    "        else:\n",
    "            model_weights.append(files[i])  # Add clean model path\n",
    "\n",
    "    return model_weights\n",
    "\n",
    "def client_model_collection(models_path_list):\n",
    "    client_models_list = []\n",
    "\n",
    "    for i in range(len(models_path_list)):\n",
    "        client_model = mnist_fully_connected(num_classes)\n",
    "        state_dict = torch.load(models_path_list[i])\n",
    "        state_dict = strip_prefix(state_dict, prefix=\"_module.\")\n",
    "        client_model.load_state_dict(state_dict)\n",
    "\n",
    "        client_models_list.append(client_model)\n",
    "\n",
    "    return client_models_list\n",
    "\n",
    "def agg_weights(weights):\n",
    "    with torch.no_grad():\n",
    "        weights_avg = copy.deepcopy(weights[0])\n",
    "        for k in weights_avg.keys():\n",
    "            for i in range(1, len(weights)):\n",
    "                weights_avg[k] += weights[i][k]\n",
    "            weights_avg[k] = torch.div(weights_avg[k], len(weights))\n",
    "    return weights_avg"
   ]
  },
  {
   "cell_type": "markdown",
   "metadata": {
    "id": "hQnyn2BL908Z"
   },
   "source": [
    "To express the aggregation of model weights mathematically, the idea is to compute the average of each model parameter across all the models. Here’s a general mathematical expression for aggregating weights:\n",
    "\n",
    "Let $w_1,w_2,…,w_N​$ represent the weights of the models in your collection, where $N$ is the number of models. Each wiwi​ is a vector or tensor containing the weights for all parameters in the model. The aggregation of these weights can be described as:\n",
    "\n",
    "$$w_{\\text{avg}} = \\frac{1}{N} \\sum_{i=1}^{N} w_i$$\n",
    "Where:\n",
    "\n",
    "* $w_{\\text{avg}}$​ is the averaged weight tensor (or vector).\n",
    "* $w_i$​ represents the weight parameters from model $i$.\n",
    "* $N$ is the total number of models being averaged.\n",
    "\n",
    "If you want to express this for each individual parameter $k$, you can write:\n",
    "\n",
    "$$w_{\\text{avg}}^k = \\frac{1}{N} \\sum_{i=1}^{N} w_i^k$$\n",
    "\n",
    "Where $w_{\\text{avg}}^k$​ is the averaged value of the parameter $k$ across all models.\n",
    "\n",
    "This could be applied to the weights of each parameter across all layers of the model, assuming each model has the same structure."
   ]
  },
  {
   "cell_type": "markdown",
   "metadata": {
    "id": "gf7T0OiY908a"
   },
   "source": [
    "### 7.1 Evaluate the global model without the poisoned model"
   ]
  },
  {
   "cell_type": "code",
   "execution_count": 40,
   "metadata": {
    "colab": {
     "base_uri": "https://localhost:8080/"
    },
    "executionInfo": {
     "elapsed": 36178,
     "status": "ok",
     "timestamp": 1740016556951,
     "user": {
      "displayName": "Mujtaba Nazari",
      "userId": "16194551095817193214"
     },
     "user_tz": 360
    },
    "id": "-8y4mO1K908b",
    "outputId": "22467e58-576a-4327-ff52-26be0604b90e"
   },
   "outputs": [
    {
     "name": "stderr",
     "output_type": "stream",
     "text": [
      "<ipython-input-40-6cd42c1ab0df>:7: FutureWarning: You are using `torch.load` with `weights_only=False` (the current default value), which uses the default pickle module implicitly. It is possible to construct malicious pickle data which will execute arbitrary code during unpickling (See https://github.com/pytorch/pytorch/blob/main/SECURITY.md#untrusted-models for more details). In a future release, the default value for `weights_only` will be flipped to `True`. This limits the functions that could be executed during unpickling. Arbitrary objects will no longer be allowed to be loaded via this mode unless they are explicitly allowlisted by the user via `torch.serialization.add_safe_globals`. We recommend you start setting `weights_only=True` for any use case where you don't have full control of the loaded file. Please open an issue on GitHub for any issues related to this experimental feature.\n",
      "  state_dict = torch.load(server_model_path)\n"
     ]
    },
    {
     "name": "stdout",
     "output_type": "stream",
     "text": [
      "Server Model Prediction before aggregation:  tensor([4, 4, 4, 4, 4, 4, 4, 4, 4, 4, 4, 4, 4, 4, 4, 4, 4, 5, 4, 4, 4, 4, 4, 4,\n",
      "        4, 4, 4, 4, 4, 4, 4, 4, 4, 4, 4, 4, 5, 4, 4, 4, 4, 4, 4, 4, 4, 4, 4, 4,\n",
      "        4, 4])\n"
     ]
    },
    {
     "name": "stderr",
     "output_type": "stream",
     "text": [
      "<ipython-input-39-c3a96149ed93>:59: FutureWarning: You are using `torch.load` with `weights_only=False` (the current default value), which uses the default pickle module implicitly. It is possible to construct malicious pickle data which will execute arbitrary code during unpickling (See https://github.com/pytorch/pytorch/blob/main/SECURITY.md#untrusted-models for more details). In a future release, the default value for `weights_only` will be flipped to `True`. This limits the functions that could be executed during unpickling. Arbitrary objects will no longer be allowed to be loaded via this mode unless they are explicitly allowlisted by the user via `torch.serialization.add_safe_globals`. We recommend you start setting `weights_only=True` for any use case where you don't have full control of the loaded file. Please open an issue on GitHub for any issues related to this experimental feature.\n",
      "  state_dict = torch.load(models_path_list[i])\n"
     ]
    },
    {
     "name": "stdout",
     "output_type": "stream",
     "text": [
      "Server Model Prediction after aggregation:  tensor([5, 3, 3, 8, 8, 3, 3, 2, 3, 3, 3, 3, 3, 8, 3, 3, 3, 3, 3, 3, 3, 3, 3, 3,\n",
      "        3, 3, 3, 3, 8, 3, 8, 3, 8, 3, 3, 3, 3, 5, 3, 3, 3, 3, 2, 3, 3, 3, 3, 3,\n",
      "        3, 3])\n"
     ]
    }
   ],
   "source": [
    "clients_models_path = f\"{base_path}FL_LDP_data/client_model_weights/\"\n",
    "poisoned_model_path = f\"{base_path}FL_LDP_data/poisoned_model.pth\"\n",
    "server_model_path = f\"{base_path}FL_LDP_data/server_model_weights/sever_model.pth\"\n",
    "models_path_list = modelWeightsRandomCollection(clients_models_path, poisoned_model_path, 0)\n",
    "\n",
    "server_model = mnist_fully_connected(num_classes)\n",
    "state_dict = torch.load(server_model_path)\n",
    "server_model.load_state_dict(strip_prefix(state_dict, prefix=\"_module.\"))\n",
    "\n",
    "with torch.no_grad():\n",
    "    logits = server_model(poison_data)\n",
    "    print('Server Model Prediction before aggregation: ',torch.argmax(logits, axis = 1))\n",
    "poison_prediction = torch.sum(torch.argmax(logits, axis = 1) == torch.argmax(poison_labels, axis = 1)) / len(poison_labels)\n",
    "# print(\"Poison Prediction: \", poison_prediction)\n",
    "\n",
    "client_models_list = client_model_collection(models_path_list)\n",
    "\n",
    "weights = []\n",
    "for i in range(len(client_models_list)):\n",
    "    weights.append(client_models_list[i].state_dict())\n",
    "\n",
    "norms = agg_weights(weights)\n",
    "for key, value in server_model.state_dict().items():\n",
    "    server_model.state_dict()[key].data.copy_(norms[key])\n",
    "\n",
    "\n",
    "with torch.no_grad():\n",
    "    logits = server_model(poison_data)\n",
    "    print('Server Model Prediction after aggregation: ', torch.argmax(logits, axis = 1))\n",
    "poison_prediction = torch.sum(torch.argmax(logits, axis = 1) == torch.argmax(poison_labels, axis = 1)) / len(poison_labels)"
   ]
  },
  {
   "cell_type": "markdown",
   "metadata": {
    "id": "HRUIjePm908c"
   },
   "source": [
    "### 7.2 Evaluate every single model on the poisoned genereated samples"
   ]
  },
  {
   "cell_type": "code",
   "execution_count": 41,
   "metadata": {
    "colab": {
     "base_uri": "https://localhost:8080/"
    },
    "executionInfo": {
     "elapsed": 179,
     "status": "ok",
     "timestamp": 1740016661207,
     "user": {
      "displayName": "Mujtaba Nazari",
      "userId": "16194551095817193214"
     },
     "user_tz": 360
    },
    "id": "6K96wWi-908c",
    "outputId": "4eee70f7-05d5-4c2f-ba4d-7d8e8bdfdfda"
   },
   "outputs": [
    {
     "name": "stdout",
     "output_type": "stream",
     "text": [
      "tensor([3, 3, 3, 3, 8, 3, 3, 3, 3, 3, 8, 3, 3, 8, 3, 3, 3, 3, 3, 3, 3, 3, 3, 3,\n",
      "        9, 3, 3, 3, 8, 3, 3, 9, 8, 3, 3, 3, 3, 3, 3, 3, 3, 3, 2, 3, 3, 3, 3, 3,\n",
      "        3, 3])\n",
      "Poison Prediction on Client 0:  0.1\n",
      "tensor([3, 3, 3, 8, 8, 3, 3, 2, 3, 3, 3, 3, 3, 3, 3, 3, 3, 3, 3, 3, 3, 3, 3, 3,\n",
      "        3, 3, 3, 3, 3, 3, 3, 3, 8, 3, 3, 3, 3, 3, 3, 3, 3, 3, 2, 3, 3, 3, 3, 3,\n",
      "        3, 3])\n",
      "Poison Prediction on Client 1:  0.06\n",
      "tensor([3, 3, 3, 8, 8, 3, 3, 2, 3, 3, 3, 3, 3, 8, 3, 3, 3, 3, 3, 3, 3, 3, 3, 3,\n",
      "        3, 3, 3, 3, 3, 3, 3, 9, 8, 3, 3, 3, 3, 5, 3, 3, 3, 3, 3, 3, 3, 3, 3, 3,\n",
      "        3, 3])\n",
      "Poison Prediction on Client 2:  0.08\n",
      "tensor([3, 3, 3, 8, 8, 3, 3, 8, 3, 3, 8, 8, 3, 8, 3, 3, 8, 3, 3, 3, 3, 3, 3, 3,\n",
      "        8, 3, 3, 8, 8, 3, 8, 8, 8, 3, 3, 3, 3, 8, 3, 3, 8, 3, 2, 3, 3, 5, 8, 3,\n",
      "        3, 3])\n",
      "Poison Prediction on Client 3:  0.32\n",
      "tensor([3, 3, 3, 3, 8, 3, 3, 3, 3, 3, 3, 3, 3, 3, 3, 3, 3, 3, 3, 3, 3, 3, 3, 3,\n",
      "        9, 3, 3, 3, 8, 3, 3, 9, 8, 3, 3, 3, 3, 5, 3, 5, 3, 3, 2, 3, 3, 5, 3, 3,\n",
      "        3, 3])\n",
      "Poison Prediction on Client 4:  0.06\n",
      "tensor([3, 3, 3, 8, 8, 3, 3, 3, 3, 3, 3, 3, 8, 3, 3, 3, 3, 3, 3, 3, 3, 3, 3, 3,\n",
      "        3, 3, 3, 3, 8, 3, 3, 3, 8, 3, 3, 3, 3, 5, 3, 3, 3, 3, 3, 3, 3, 3, 3, 3,\n",
      "        3, 3])\n",
      "Poison Prediction on Client 5:  0.1\n",
      "tensor([5, 5, 3, 8, 8, 3, 3, 3, 3, 3, 8, 3, 3, 8, 3, 3, 3, 3, 3, 3, 3, 3, 3, 3,\n",
      "        3, 5, 3, 3, 8, 3, 3, 3, 8, 3, 3, 3, 3, 5, 3, 3, 3, 3, 2, 3, 3, 5, 3, 3,\n",
      "        3, 3])\n",
      "Poison Prediction on Client 6:  0.12\n",
      "tensor([3, 3, 3, 8, 8, 3, 3, 2, 3, 3, 3, 3, 3, 8, 3, 3, 3, 3, 3, 3, 3, 3, 3, 3,\n",
      "        3, 3, 3, 3, 8, 3, 3, 3, 8, 3, 3, 3, 3, 3, 3, 3, 3, 3, 2, 3, 3, 3, 3, 3,\n",
      "        3, 3])\n",
      "Poison Prediction on Client 7:  0.1\n",
      "tensor([3, 3, 3, 8, 8, 3, 3, 2, 3, 3, 3, 8, 3, 8, 3, 3, 8, 3, 3, 3, 3, 8, 3, 3,\n",
      "        9, 3, 3, 3, 8, 3, 8, 9, 8, 3, 9, 3, 3, 8, 2, 3, 3, 3, 2, 3, 8, 3, 3, 3,\n",
      "        3, 3])\n",
      "Poison Prediction on Client 8:  0.22\n",
      "tensor([3, 3, 3, 3, 8, 3, 3, 3, 3, 3, 3, 3, 3, 8, 3, 3, 3, 3, 3, 3, 3, 3, 3, 3,\n",
      "        3, 3, 3, 3, 3, 3, 3, 3, 8, 3, 3, 3, 3, 3, 3, 3, 3, 3, 3, 3, 3, 3, 3, 3,\n",
      "        3, 3])\n",
      "Poison Prediction on Client 9:  0.06\n",
      "tensor([3, 3, 3, 8, 8, 3, 3, 2, 3, 3, 8, 3, 3, 8, 3, 3, 3, 3, 3, 3, 3, 3, 3, 3,\n",
      "        3, 3, 3, 3, 8, 3, 8, 3, 8, 3, 3, 3, 3, 8, 3, 3, 3, 3, 2, 3, 3, 3, 3, 3,\n",
      "        3, 3])\n",
      "Poison Prediction on Client 10:  0.16\n",
      "tensor([5, 3, 3, 8, 8, 3, 3, 3, 3, 3, 3, 3, 8, 8, 3, 3, 3, 3, 3, 3, 3, 3, 3, 3,\n",
      "        3, 5, 3, 8, 8, 3, 8, 5, 8, 3, 3, 3, 3, 5, 3, 5, 3, 3, 3, 3, 3, 5, 8, 3,\n",
      "        3, 3])\n",
      "Poison Prediction on Client 11:  0.18\n",
      "tensor([5, 5, 5, 8, 8, 3, 5, 2, 3, 3, 3, 8, 3, 8, 3, 3, 5, 3, 3, 5, 3, 3, 3, 3,\n",
      "        8, 5, 3, 3, 8, 3, 5, 8, 8, 3, 3, 3, 3, 5, 2, 5, 5, 3, 2, 3, 5, 5, 5, 3,\n",
      "        3, 3])\n",
      "Poison Prediction on Client 12:  0.16\n",
      "tensor([3, 3, 3, 8, 8, 3, 3, 3, 3, 3, 3, 3, 3, 8, 3, 3, 3, 3, 3, 3, 3, 3, 3, 3,\n",
      "        3, 3, 3, 3, 8, 3, 8, 3, 8, 3, 3, 3, 3, 5, 3, 3, 3, 3, 3, 3, 3, 3, 3, 3,\n",
      "        3, 3])\n",
      "Poison Prediction on Client 13:  0.12\n",
      "tensor([3, 3, 3, 8, 8, 3, 3, 2, 3, 3, 3, 3, 3, 8, 3, 3, 3, 3, 3, 3, 3, 3, 3, 3,\n",
      "        3, 3, 3, 3, 3, 3, 3, 3, 8, 3, 3, 3, 3, 3, 3, 3, 3, 3, 2, 3, 3, 3, 3, 3,\n",
      "        3, 3])\n",
      "Poison Prediction on Client 14:  0.08\n",
      "tensor([5, 5, 5, 8, 8, 3, 3, 2, 3, 3, 3, 8, 3, 8, 3, 3, 3, 3, 3, 5, 3, 3, 3, 3,\n",
      "        5, 5, 3, 5, 8, 3, 8, 5, 8, 3, 5, 3, 3, 5, 2, 5, 5, 3, 2, 3, 3, 5, 5, 3,\n",
      "        3, 3])\n",
      "Poison Prediction on Client 15:  0.14\n",
      "tensor([3, 3, 3, 8, 8, 3, 3, 2, 3, 3, 3, 8, 3, 8, 3, 3, 3, 3, 3, 3, 3, 3, 3, 3,\n",
      "        9, 3, 3, 3, 8, 3, 8, 7, 8, 3, 9, 3, 3, 5, 3, 5, 3, 3, 2, 3, 3, 3, 3, 3,\n",
      "        3, 3])\n",
      "Poison Prediction on Client 16:  0.14\n",
      "tensor([5, 3, 3, 8, 8, 3, 3, 2, 3, 3, 8, 3, 3, 8, 3, 3, 3, 3, 3, 3, 3, 3, 3, 3,\n",
      "        3, 5, 3, 3, 8, 3, 8, 5, 8, 3, 3, 3, 3, 5, 2, 3, 5, 3, 2, 3, 3, 5, 3, 0,\n",
      "        3, 3])\n",
      "Poison Prediction on Client 17:  0.14\n",
      "tensor([5, 3, 3, 8, 8, 3, 3, 2, 3, 3, 8, 8, 3, 8, 3, 3, 3, 3, 3, 3, 2, 3, 3, 3,\n",
      "        3, 3, 3, 3, 8, 3, 8, 5, 8, 3, 5, 3, 3, 5, 2, 5, 3, 3, 2, 3, 3, 5, 5, 3,\n",
      "        3, 3])\n",
      "Poison Prediction on Client 18:  0.16\n",
      "tensor([3, 3, 3, 8, 8, 3, 3, 2, 3, 3, 3, 3, 3, 3, 3, 3, 3, 3, 3, 3, 2, 3, 3, 3,\n",
      "        9, 3, 3, 3, 8, 3, 3, 7, 8, 3, 3, 3, 3, 5, 3, 3, 3, 3, 2, 3, 3, 5, 3, 3,\n",
      "        3, 3])\n",
      "Poison Prediction on Client 19:  0.08\n",
      "tensor([5, 5, 3, 8, 8, 3, 3, 3, 3, 3, 8, 8, 8, 8, 3, 3, 5, 3, 3, 5, 3, 3, 3, 3,\n",
      "        5, 5, 3, 3, 8, 3, 8, 5, 8, 3, 3, 3, 3, 5, 3, 5, 5, 3, 2, 3, 5, 5, 5, 3,\n",
      "        3, 3])\n",
      "Poison Prediction on Client 20:  0.18\n",
      "tensor([3, 3, 3, 8, 8, 3, 3, 2, 3, 3, 3, 3, 3, 8, 3, 3, 3, 3, 3, 3, 3, 3, 3, 3,\n",
      "        3, 3, 3, 3, 8, 3, 3, 3, 8, 3, 3, 3, 3, 5, 2, 3, 3, 3, 2, 3, 3, 3, 3, 3,\n",
      "        3, 3])\n",
      "Poison Prediction on Client 21:  0.1\n",
      "tensor([5, 3, 3, 8, 8, 3, 3, 3, 3, 3, 3, 3, 3, 3, 3, 3, 3, 3, 3, 3, 3, 3, 3, 3,\n",
      "        3, 3, 3, 3, 3, 3, 3, 5, 8, 3, 3, 3, 3, 3, 3, 3, 3, 3, 2, 3, 3, 5, 3, 3,\n",
      "        3, 3])\n",
      "Poison Prediction on Client 22:  0.06\n",
      "tensor([3, 3, 3, 8, 8, 3, 3, 2, 3, 3, 8, 3, 3, 8, 3, 3, 3, 3, 3, 3, 3, 3, 3, 3,\n",
      "        3, 3, 3, 8, 8, 3, 8, 5, 8, 3, 3, 3, 3, 5, 3, 5, 3, 3, 2, 3, 3, 5, 8, 3,\n",
      "        3, 3])\n",
      "Poison Prediction on Client 23:  0.18\n",
      "tensor([3, 3, 3, 8, 8, 3, 3, 3, 3, 3, 3, 3, 3, 8, 3, 3, 3, 3, 3, 3, 3, 3, 3, 3,\n",
      "        3, 3, 3, 3, 8, 3, 8, 5, 8, 3, 3, 3, 3, 5, 3, 3, 3, 3, 2, 3, 3, 3, 5, 3,\n",
      "        3, 3])\n",
      "Poison Prediction on Client 24:  0.12\n",
      "tensor([3, 3, 3, 8, 8, 3, 3, 2, 3, 3, 3, 8, 3, 8, 3, 3, 3, 3, 3, 3, 3, 3, 3, 3,\n",
      "        8, 3, 3, 3, 8, 3, 8, 3, 8, 3, 3, 3, 3, 3, 3, 3, 3, 3, 2, 3, 3, 3, 3, 3,\n",
      "        3, 3])\n",
      "Poison Prediction on Client 25:  0.16\n",
      "tensor([5, 3, 3, 8, 8, 3, 3, 8, 3, 3, 8, 8, 8, 8, 3, 3, 8, 3, 3, 3, 3, 8, 3, 3,\n",
      "        8, 3, 3, 8, 8, 3, 8, 8, 8, 3, 8, 3, 3, 8, 3, 5, 3, 3, 2, 3, 8, 3, 8, 3,\n",
      "        3, 3])\n",
      "Poison Prediction on Client 26:  0.38\n",
      "tensor([3, 3, 3, 8, 8, 3, 3, 3, 3, 3, 3, 3, 3, 8, 3, 3, 3, 3, 3, 3, 3, 3, 3, 3,\n",
      "        9, 3, 3, 3, 8, 3, 8, 3, 8, 3, 3, 3, 3, 5, 3, 3, 3, 3, 2, 3, 3, 5, 3, 3,\n",
      "        3, 3])\n",
      "Poison Prediction on Client 27:  0.12\n",
      "tensor([5, 3, 3, 8, 8, 3, 3, 2, 3, 3, 3, 3, 3, 8, 3, 3, 5, 3, 3, 3, 3, 3, 3, 3,\n",
      "        3, 5, 3, 3, 8, 3, 5, 5, 8, 3, 3, 3, 3, 5, 3, 5, 5, 3, 2, 3, 5, 5, 3, 3,\n",
      "        3, 3])\n",
      "Poison Prediction on Client 28:  0.1\n",
      "tensor([5, 3, 3, 8, 8, 3, 3, 2, 3, 3, 8, 8, 3, 8, 3, 3, 5, 3, 3, 3, 3, 3, 3, 3,\n",
      "        5, 3, 3, 5, 8, 3, 8, 5, 8, 3, 3, 3, 3, 5, 3, 5, 3, 3, 3, 3, 5, 5, 5, 3,\n",
      "        3, 3])\n",
      "Poison Prediction on Client 29:  0.16\n",
      "tensor([5, 5, 3, 8, 8, 3, 3, 2, 3, 3, 8, 8, 3, 8, 3, 3, 5, 3, 3, 3, 2, 3, 3, 3,\n",
      "        5, 5, 3, 3, 8, 3, 8, 5, 8, 3, 9, 3, 3, 5, 2, 5, 3, 3, 2, 3, 5, 5, 5, 3,\n",
      "        3, 3])\n",
      "Poison Prediction on Client 30:  0.16\n",
      "tensor([3, 3, 3, 8, 8, 3, 3, 3, 3, 3, 3, 3, 3, 3, 3, 3, 3, 3, 3, 3, 3, 3, 3, 3,\n",
      "        3, 3, 3, 3, 3, 3, 3, 3, 8, 3, 3, 3, 3, 3, 3, 3, 3, 3, 3, 3, 3, 3, 3, 3,\n",
      "        3, 3])\n",
      "Poison Prediction on Client 31:  0.06\n",
      "tensor([5, 5, 3, 8, 8, 3, 3, 3, 3, 3, 8, 3, 3, 8, 3, 3, 3, 3, 3, 3, 3, 3, 3, 3,\n",
      "        3, 5, 3, 3, 8, 3, 3, 9, 8, 3, 3, 3, 3, 8, 3, 3, 3, 3, 3, 3, 3, 3, 5, 3,\n",
      "        3, 3])\n",
      "Poison Prediction on Client 32:  0.14\n",
      "tensor([5, 3, 3, 8, 8, 3, 3, 8, 3, 3, 8, 8, 8, 8, 3, 8, 8, 3, 3, 3, 8, 8, 3, 3,\n",
      "        8, 3, 3, 8, 8, 3, 8, 5, 8, 8, 3, 3, 3, 8, 3, 8, 8, 3, 2, 3, 8, 5, 8, 3,\n",
      "        3, 3])\n",
      "Poison Prediction on Client 33:  0.44\n",
      "tensor([5, 5, 5, 8, 8, 3, 3, 3, 3, 3, 8, 8, 8, 8, 3, 8, 8, 3, 3, 3, 8, 3, 3, 3,\n",
      "        8, 5, 3, 8, 8, 3, 8, 9, 8, 8, 8, 3, 3, 5, 3, 8, 8, 3, 2, 3, 8, 5, 8, 5,\n",
      "        3, 3])\n",
      "Poison Prediction on Client 34:  0.4\n",
      "tensor([5, 3, 3, 8, 8, 3, 3, 2, 3, 3, 8, 8, 8, 8, 3, 8, 8, 3, 3, 3, 3, 8, 3, 3,\n",
      "        8, 3, 3, 8, 8, 3, 8, 8, 8, 8, 8, 3, 3, 8, 3, 3, 8, 3, 2, 3, 8, 3, 8, 3,\n",
      "        3, 3])\n",
      "Poison Prediction on Client 35:  0.42\n",
      "tensor([3, 3, 3, 8, 8, 3, 3, 2, 3, 3, 3, 3, 2, 8, 3, 3, 3, 3, 3, 3, 3, 3, 3, 3,\n",
      "        3, 3, 3, 3, 8, 3, 8, 3, 8, 3, 3, 3, 3, 5, 3, 3, 3, 3, 2, 3, 3, 5, 3, 3,\n",
      "        3, 3])\n",
      "Poison Prediction on Client 36:  0.12\n",
      "tensor([3, 3, 3, 8, 8, 3, 3, 2, 3, 3, 3, 3, 3, 8, 3, 3, 3, 3, 3, 3, 3, 3, 3, 3,\n",
      "        3, 3, 3, 3, 8, 3, 3, 9, 8, 3, 3, 3, 3, 5, 3, 3, 3, 3, 2, 3, 3, 3, 3, 3,\n",
      "        3, 3])\n",
      "Poison Prediction on Client 37:  0.1\n",
      "tensor([3, 3, 3, 8, 3, 3, 3, 2, 3, 3, 3, 3, 3, 3, 3, 3, 3, 3, 3, 3, 3, 3, 3, 3,\n",
      "        3, 3, 3, 3, 3, 3, 3, 3, 8, 3, 3, 3, 3, 3, 3, 3, 3, 3, 3, 3, 3, 3, 3, 3,\n",
      "        3, 3])\n",
      "Poison Prediction on Client 38:  0.04\n",
      "tensor([3, 3, 3, 8, 8, 3, 3, 2, 3, 3, 8, 8, 3, 8, 3, 3, 8, 3, 3, 3, 3, 3, 3, 3,\n",
      "        3, 5, 3, 8, 8, 3, 8, 5, 8, 3, 3, 3, 3, 5, 2, 5, 3, 3, 2, 3, 8, 3, 5, 3,\n",
      "        3, 3])\n",
      "Poison Prediction on Client 39:  0.22\n",
      "tensor([5, 5, 3, 3, 8, 3, 3, 3, 3, 3, 3, 3, 3, 3, 3, 3, 5, 3, 3, 3, 3, 3, 3, 3,\n",
      "        5, 5, 3, 3, 3, 3, 5, 5, 8, 3, 3, 3, 3, 5, 3, 5, 5, 3, 3, 3, 5, 5, 5, 3,\n",
      "        3, 3])\n",
      "Poison Prediction on Client 40:  0.04\n",
      "tensor([5, 3, 3, 8, 8, 3, 3, 2, 3, 3, 3, 8, 3, 8, 3, 3, 3, 3, 3, 3, 2, 3, 3, 3,\n",
      "        3, 3, 3, 3, 8, 3, 3, 5, 8, 3, 3, 3, 3, 5, 3, 3, 3, 3, 2, 3, 3, 3, 5, 3,\n",
      "        3, 3])\n",
      "Poison Prediction on Client 41:  0.12\n",
      "tensor([3, 3, 3, 8, 8, 3, 3, 3, 3, 3, 3, 3, 3, 3, 3, 3, 3, 3, 3, 3, 3, 3, 3, 3,\n",
      "        3, 3, 3, 3, 3, 3, 3, 3, 8, 3, 3, 3, 3, 5, 3, 3, 3, 3, 3, 3, 3, 3, 3, 3,\n",
      "        3, 3])\n",
      "Poison Prediction on Client 42:  0.06\n",
      "tensor([5, 3, 5, 8, 8, 3, 3, 2, 3, 3, 8, 8, 8, 8, 3, 3, 8, 3, 3, 3, 3, 8, 3, 3,\n",
      "        8, 5, 3, 8, 8, 3, 8, 5, 8, 3, 3, 3, 3, 8, 3, 3, 5, 3, 2, 3, 8, 3, 8, 3,\n",
      "        3, 3])\n",
      "Poison Prediction on Client 43:  0.32\n",
      "tensor([3, 3, 3, 8, 8, 3, 3, 3, 3, 3, 3, 8, 3, 8, 3, 3, 3, 3, 3, 3, 3, 3, 3, 3,\n",
      "        8, 3, 3, 3, 8, 3, 3, 3, 8, 3, 3, 3, 3, 8, 3, 8, 3, 3, 2, 3, 3, 3, 8, 3,\n",
      "        3, 3])\n",
      "Poison Prediction on Client 44:  0.2\n",
      "tensor([3, 3, 3, 8, 8, 3, 3, 3, 3, 3, 3, 3, 3, 8, 3, 3, 3, 3, 3, 3, 3, 3, 3, 3,\n",
      "        3, 3, 3, 3, 8, 3, 3, 3, 8, 3, 3, 3, 3, 5, 3, 3, 3, 3, 3, 3, 3, 3, 3, 3,\n",
      "        3, 3])\n",
      "Poison Prediction on Client 45:  0.1\n",
      "tensor([3, 3, 3, 8, 8, 3, 3, 2, 3, 3, 3, 3, 8, 8, 3, 3, 3, 3, 3, 3, 3, 3, 3, 3,\n",
      "        3, 3, 3, 3, 8, 3, 3, 3, 8, 3, 3, 3, 3, 3, 3, 3, 3, 3, 2, 3, 3, 3, 3, 3,\n",
      "        3, 3])\n",
      "Poison Prediction on Client 46:  0.12\n",
      "tensor([5, 5, 5, 8, 8, 3, 3, 3, 3, 3, 3, 8, 3, 8, 5, 3, 8, 3, 3, 3, 3, 3, 3, 3,\n",
      "        8, 5, 3, 5, 8, 3, 8, 8, 8, 3, 8, 3, 3, 5, 3, 5, 5, 3, 2, 3, 5, 5, 8, 3,\n",
      "        3, 3])\n",
      "Poison Prediction on Client 47:  0.24\n",
      "tensor([3, 3, 3, 8, 8, 3, 3, 3, 3, 3, 3, 3, 3, 8, 3, 3, 3, 3, 3, 3, 3, 3, 3, 3,\n",
      "        3, 3, 3, 3, 3, 3, 8, 3, 8, 3, 3, 3, 3, 5, 3, 5, 3, 3, 3, 3, 3, 3, 5, 3,\n",
      "        3, 3])\n",
      "Poison Prediction on Client 48:  0.1\n",
      "tensor([5, 5, 3, 8, 8, 3, 3, 2, 3, 3, 8, 8, 8, 8, 5, 8, 8, 3, 3, 3, 2, 8, 3, 3,\n",
      "        8, 5, 3, 8, 8, 3, 8, 5, 8, 8, 8, 3, 3, 5, 2, 5, 5, 3, 2, 3, 3, 5, 5, 5,\n",
      "        3, 3])\n",
      "Poison Prediction on Client 49:  0.32\n",
      "tensor([5, 5, 3, 8, 8, 3, 5, 2, 3, 3, 8, 8, 3, 8, 3, 3, 8, 3, 3, 5, 3, 8, 3, 3,\n",
      "        8, 5, 3, 8, 8, 3, 8, 5, 8, 8, 3, 3, 3, 5, 3, 5, 5, 3, 2, 3, 5, 5, 8, 5,\n",
      "        3, 3])\n",
      "Poison Prediction on Client 50:  0.28\n",
      "tensor([3, 3, 3, 3, 3, 3, 3, 3, 3, 3, 3, 3, 3, 3, 3, 3, 3, 3, 3, 3, 2, 3, 3, 3,\n",
      "        3, 3, 3, 3, 3, 3, 3, 3, 8, 3, 3, 3, 3, 3, 3, 3, 3, 3, 2, 3, 3, 3, 3, 3,\n",
      "        3, 3])\n",
      "Poison Prediction on Client 51:  0.02\n",
      "tensor([5, 3, 3, 8, 8, 3, 3, 2, 3, 3, 8, 3, 3, 8, 3, 3, 8, 3, 3, 3, 3, 3, 3, 3,\n",
      "        3, 3, 3, 3, 8, 3, 8, 8, 8, 3, 3, 3, 3, 5, 3, 3, 3, 3, 2, 3, 3, 5, 3, 3,\n",
      "        3, 3])\n",
      "Poison Prediction on Client 52:  0.18\n",
      "tensor([3, 3, 3, 8, 8, 3, 3, 2, 3, 3, 8, 8, 3, 8, 3, 3, 3, 3, 3, 3, 3, 3, 3, 3,\n",
      "        3, 3, 3, 3, 8, 3, 3, 3, 8, 3, 3, 3, 3, 3, 3, 3, 3, 3, 2, 3, 3, 3, 3, 3,\n",
      "        3, 3])\n",
      "Poison Prediction on Client 53:  0.14\n",
      "tensor([3, 3, 3, 8, 8, 3, 3, 2, 3, 3, 3, 3, 3, 3, 3, 3, 3, 3, 3, 3, 3, 3, 3, 3,\n",
      "        3, 3, 3, 3, 8, 3, 8, 3, 8, 3, 3, 3, 3, 5, 3, 3, 3, 3, 2, 3, 3, 3, 3, 3,\n",
      "        3, 3])\n",
      "Poison Prediction on Client 54:  0.1\n",
      "tensor([3, 3, 3, 8, 8, 3, 3, 2, 3, 3, 8, 3, 3, 8, 3, 3, 8, 3, 3, 3, 2, 3, 3, 3,\n",
      "        3, 3, 3, 3, 8, 3, 8, 7, 8, 3, 3, 3, 3, 5, 3, 3, 3, 3, 2, 3, 3, 5, 3, 3,\n",
      "        3, 3])\n",
      "Poison Prediction on Client 55:  0.16\n",
      "tensor([3, 3, 3, 8, 8, 3, 3, 2, 3, 3, 3, 3, 3, 8, 3, 3, 3, 3, 3, 3, 3, 3, 3, 3,\n",
      "        3, 3, 3, 3, 3, 3, 3, 3, 8, 3, 3, 3, 3, 5, 3, 3, 3, 3, 2, 3, 3, 3, 5, 3,\n",
      "        3, 3])\n",
      "Poison Prediction on Client 56:  0.08\n",
      "tensor([3, 3, 3, 2, 8, 3, 3, 2, 3, 3, 3, 3, 3, 3, 3, 3, 3, 3, 3, 3, 2, 3, 3, 3,\n",
      "        9, 3, 3, 3, 8, 3, 3, 9, 8, 3, 3, 3, 3, 5, 3, 3, 3, 3, 2, 3, 3, 5, 3, 3,\n",
      "        3, 3])\n",
      "Poison Prediction on Client 57:  0.06\n",
      "tensor([3, 3, 3, 8, 8, 3, 3, 2, 3, 3, 3, 3, 3, 8, 3, 3, 8, 3, 3, 3, 3, 3, 3, 3,\n",
      "        3, 3, 3, 3, 3, 3, 8, 3, 8, 3, 3, 3, 3, 3, 3, 8, 3, 3, 2, 3, 3, 3, 3, 3,\n",
      "        3, 3])\n",
      "Poison Prediction on Client 58:  0.14\n",
      "tensor([3, 3, 3, 8, 3, 3, 3, 3, 3, 3, 3, 3, 3, 3, 3, 3, 3, 3, 3, 3, 3, 3, 3, 3,\n",
      "        3, 3, 3, 3, 8, 3, 3, 3, 8, 3, 3, 3, 3, 3, 3, 3, 3, 3, 3, 3, 3, 3, 3, 3,\n",
      "        3, 3])\n",
      "Poison Prediction on Client 59:  0.06\n",
      "tensor([3, 3, 3, 8, 8, 3, 3, 3, 3, 3, 3, 3, 3, 8, 3, 3, 3, 3, 3, 3, 3, 3, 3, 3,\n",
      "        3, 3, 3, 3, 3, 3, 3, 5, 8, 3, 3, 3, 3, 5, 3, 3, 3, 3, 3, 3, 3, 5, 3, 3,\n",
      "        3, 3])\n",
      "Poison Prediction on Client 60:  0.08\n",
      "tensor([5, 3, 3, 8, 8, 3, 3, 2, 3, 3, 8, 8, 2, 8, 3, 3, 3, 3, 3, 3, 2, 8, 3, 3,\n",
      "        8, 3, 3, 8, 8, 3, 8, 3, 8, 3, 3, 3, 3, 5, 2, 5, 8, 3, 2, 3, 3, 3, 8, 3,\n",
      "        3, 3])\n",
      "Poison Prediction on Client 61:  0.26\n",
      "tensor([5, 3, 3, 3, 8, 3, 3, 3, 3, 3, 3, 3, 3, 8, 3, 3, 3, 3, 3, 3, 3, 3, 3, 3,\n",
      "        3, 3, 3, 3, 8, 3, 3, 5, 8, 3, 3, 3, 3, 3, 3, 3, 3, 3, 2, 3, 3, 3, 3, 3,\n",
      "        3, 3])\n",
      "Poison Prediction on Client 62:  0.08\n",
      "tensor([5, 5, 5, 8, 8, 3, 5, 2, 5, 3, 3, 3, 3, 8, 5, 3, 5, 3, 3, 3, 3, 3, 3, 3,\n",
      "        5, 5, 5, 5, 8, 3, 3, 5, 8, 3, 5, 3, 3, 5, 2, 5, 5, 3, 2, 3, 5, 5, 5, 3,\n",
      "        3, 3])\n",
      "Poison Prediction on Client 63:  0.1\n",
      "tensor([5, 3, 3, 8, 8, 3, 3, 3, 3, 3, 8, 3, 8, 8, 3, 3, 8, 3, 3, 3, 3, 3, 3, 3,\n",
      "        8, 3, 3, 3, 8, 3, 8, 8, 8, 3, 3, 3, 3, 5, 3, 8, 3, 3, 2, 3, 3, 5, 8, 3,\n",
      "        3, 3])\n",
      "Poison Prediction on Client 64:  0.26\n",
      "tensor([5, 3, 3, 8, 8, 3, 3, 3, 3, 3, 8, 8, 3, 8, 3, 3, 8, 3, 3, 3, 3, 3, 3, 3,\n",
      "        8, 5, 3, 3, 8, 3, 8, 5, 8, 3, 3, 3, 3, 8, 3, 3, 8, 3, 3, 3, 3, 5, 5, 3,\n",
      "        3, 3])\n",
      "Poison Prediction on Client 65:  0.24\n",
      "tensor([5, 5, 3, 3, 8, 3, 3, 3, 3, 3, 3, 8, 3, 8, 3, 3, 5, 3, 3, 3, 3, 3, 3, 3,\n",
      "        5, 3, 3, 3, 3, 3, 8, 3, 8, 3, 3, 3, 3, 5, 3, 5, 3, 3, 3, 3, 5, 3, 5, 3,\n",
      "        3, 3])\n",
      "Poison Prediction on Client 66:  0.1\n",
      "tensor([3, 3, 3, 3, 8, 3, 3, 3, 3, 3, 3, 3, 3, 8, 3, 3, 3, 3, 3, 3, 3, 3, 3, 3,\n",
      "        3, 3, 3, 3, 8, 3, 3, 3, 8, 3, 3, 3, 3, 3, 3, 3, 3, 3, 3, 3, 3, 3, 3, 3,\n",
      "        3, 3])\n",
      "Poison Prediction on Client 67:  0.08\n",
      "tensor([5, 3, 3, 8, 8, 3, 3, 2, 3, 3, 3, 8, 3, 8, 3, 3, 3, 3, 3, 3, 3, 8, 3, 3,\n",
      "        8, 3, 3, 3, 8, 3, 3, 3, 8, 3, 3, 3, 3, 5, 3, 3, 3, 3, 2, 3, 3, 5, 3, 3,\n",
      "        3, 3])\n",
      "Poison Prediction on Client 68:  0.16\n",
      "tensor([3, 3, 3, 8, 8, 3, 3, 2, 3, 3, 8, 8, 3, 8, 3, 3, 3, 3, 3, 3, 3, 3, 3, 3,\n",
      "        8, 3, 3, 3, 8, 3, 8, 5, 8, 3, 3, 3, 3, 5, 3, 3, 3, 3, 2, 3, 3, 5, 3, 3,\n",
      "        3, 3])\n",
      "Poison Prediction on Client 69:  0.18\n",
      "tensor([5, 3, 3, 3, 8, 3, 3, 3, 3, 3, 3, 8, 3, 3, 3, 3, 3, 3, 3, 3, 3, 3, 3, 3,\n",
      "        3, 5, 3, 3, 3, 3, 3, 3, 8, 3, 3, 3, 3, 5, 3, 3, 3, 3, 3, 3, 3, 3, 5, 3,\n",
      "        3, 3])\n",
      "Poison Prediction on Client 70:  0.06\n",
      "tensor([5, 3, 3, 8, 8, 3, 3, 3, 3, 3, 8, 3, 8, 8, 3, 3, 3, 3, 3, 8, 3, 8, 3, 3,\n",
      "        8, 3, 3, 8, 8, 3, 8, 8, 8, 3, 3, 3, 3, 3, 3, 8, 8, 3, 2, 3, 3, 3, 3, 3,\n",
      "        3, 3])\n",
      "Poison Prediction on Client 71:  0.3\n",
      "tensor([5, 3, 3, 8, 8, 3, 3, 2, 3, 3, 3, 8, 3, 8, 3, 3, 3, 3, 3, 3, 3, 8, 3, 3,\n",
      "        9, 3, 3, 8, 8, 3, 8, 9, 8, 3, 9, 3, 3, 3, 3, 8, 8, 3, 2, 3, 8, 3, 8, 3,\n",
      "        3, 3])\n",
      "Poison Prediction on Client 72:  0.26\n",
      "tensor([5, 5, 5, 8, 8, 3, 3, 2, 5, 3, 8, 8, 8, 8, 3, 8, 5, 3, 3, 3, 5, 8, 3, 3,\n",
      "        5, 5, 5, 8, 8, 3, 5, 5, 8, 8, 5, 3, 3, 5, 2, 5, 5, 3, 2, 3, 5, 5, 5, 0,\n",
      "        3, 3])\n",
      "Poison Prediction on Client 73:  0.24\n",
      "tensor([5, 3, 3, 8, 8, 3, 3, 3, 3, 3, 3, 3, 3, 8, 3, 3, 3, 3, 3, 3, 3, 8, 3, 3,\n",
      "        8, 3, 3, 3, 8, 3, 3, 3, 8, 3, 3, 3, 3, 3, 3, 3, 3, 3, 3, 3, 3, 3, 3, 3,\n",
      "        3, 3])\n",
      "Poison Prediction on Client 74:  0.14\n",
      "tensor([5, 5, 3, 8, 8, 3, 3, 2, 3, 3, 8, 8, 3, 8, 3, 3, 5, 3, 3, 3, 2, 8, 3, 3,\n",
      "        5, 5, 3, 8, 8, 3, 8, 5, 8, 3, 8, 3, 3, 5, 2, 5, 5, 3, 2, 3, 5, 5, 8, 3,\n",
      "        3, 3])\n",
      "Poison Prediction on Client 75:  0.24\n",
      "tensor([5, 3, 3, 8, 8, 3, 3, 2, 3, 3, 8, 8, 3, 8, 3, 3, 5, 3, 3, 3, 3, 8, 3, 3,\n",
      "        5, 5, 3, 3, 8, 3, 8, 1, 8, 3, 3, 3, 3, 5, 3, 5, 5, 3, 2, 3, 3, 3, 5, 3,\n",
      "        3, 3])\n",
      "Poison Prediction on Client 76:  0.18\n",
      "tensor([5, 5, 5, 8, 8, 3, 3, 3, 3, 3, 8, 3, 3, 8, 3, 3, 3, 3, 3, 3, 3, 3, 3, 3,\n",
      "        9, 5, 3, 3, 8, 3, 3, 5, 8, 3, 3, 3, 3, 5, 3, 5, 3, 3, 3, 3, 3, 5, 5, 3,\n",
      "        3, 3])\n",
      "Poison Prediction on Client 77:  0.12\n",
      "tensor([5, 3, 3, 8, 8, 3, 3, 2, 3, 3, 3, 3, 3, 8, 3, 3, 3, 3, 3, 3, 3, 3, 3, 3,\n",
      "        3, 3, 3, 3, 8, 3, 8, 3, 8, 3, 3, 3, 3, 5, 3, 5, 3, 3, 2, 3, 3, 5, 3, 3,\n",
      "        3, 3])\n",
      "Poison Prediction on Client 78:  0.12\n",
      "tensor([5, 3, 3, 8, 8, 3, 5, 2, 3, 3, 3, 8, 3, 8, 5, 3, 5, 3, 3, 3, 3, 3, 3, 3,\n",
      "        5, 5, 5, 5, 8, 3, 8, 5, 8, 3, 3, 3, 3, 5, 3, 5, 5, 3, 3, 3, 5, 5, 5, 3,\n",
      "        3, 3])\n",
      "Poison Prediction on Client 79:  0.14\n",
      "tensor([3, 3, 3, 3, 3, 3, 3, 3, 3, 3, 3, 3, 3, 3, 3, 3, 3, 3, 3, 3, 3, 3, 3, 3,\n",
      "        3, 3, 3, 3, 3, 3, 3, 3, 8, 3, 3, 3, 3, 3, 3, 3, 3, 3, 2, 3, 3, 3, 3, 3,\n",
      "        3, 3])\n",
      "Poison Prediction on Client 80:  0.02\n",
      "tensor([5, 3, 3, 8, 8, 3, 3, 2, 3, 3, 8, 8, 3, 8, 3, 3, 3, 3, 3, 3, 3, 3, 3, 3,\n",
      "        3, 3, 3, 3, 8, 3, 8, 5, 8, 3, 3, 3, 3, 5, 3, 3, 3, 3, 2, 3, 3, 5, 8, 3,\n",
      "        3, 3])\n",
      "Poison Prediction on Client 81:  0.18\n",
      "tensor([3, 3, 5, 8, 8, 3, 3, 2, 3, 3, 3, 8, 3, 8, 3, 3, 8, 3, 3, 3, 3, 3, 3, 3,\n",
      "        8, 3, 3, 3, 8, 3, 8, 5, 8, 3, 3, 3, 3, 5, 3, 5, 8, 3, 2, 3, 8, 5, 8, 3,\n",
      "        3, 3])\n",
      "Poison Prediction on Client 82:  0.24\n",
      "tensor([5, 3, 3, 8, 8, 3, 3, 3, 3, 3, 8, 8, 3, 8, 3, 3, 8, 3, 3, 3, 3, 3, 3, 3,\n",
      "        8, 3, 3, 8, 8, 3, 8, 5, 8, 3, 3, 3, 3, 8, 3, 3, 8, 3, 2, 3, 3, 3, 8, 3,\n",
      "        3, 3])\n",
      "Poison Prediction on Client 83:  0.28\n",
      "tensor([3, 3, 3, 8, 8, 3, 3, 3, 3, 3, 8, 8, 3, 8, 3, 3, 8, 3, 3, 3, 3, 3, 3, 3,\n",
      "        3, 3, 3, 3, 8, 3, 8, 3, 8, 3, 3, 3, 3, 5, 3, 3, 3, 3, 3, 3, 3, 3, 8, 3,\n",
      "        3, 3])\n",
      "Poison Prediction on Client 84:  0.2\n",
      "tensor([3, 3, 3, 3, 8, 3, 3, 3, 3, 3, 3, 3, 3, 3, 3, 3, 3, 3, 3, 3, 3, 3, 3, 3,\n",
      "        3, 3, 3, 3, 8, 3, 3, 3, 8, 3, 3, 3, 3, 3, 3, 3, 3, 3, 2, 3, 3, 3, 3, 3,\n",
      "        3, 3])\n",
      "Poison Prediction on Client 85:  0.06\n",
      "tensor([5, 3, 3, 3, 8, 3, 3, 3, 3, 3, 3, 3, 3, 8, 3, 3, 3, 3, 3, 3, 3, 3, 3, 3,\n",
      "        3, 3, 3, 3, 8, 3, 3, 5, 8, 3, 3, 3, 3, 5, 3, 3, 3, 3, 3, 3, 3, 3, 3, 3,\n",
      "        3, 3])\n",
      "Poison Prediction on Client 86:  0.08\n",
      "tensor([3, 3, 3, 3, 8, 3, 3, 2, 3, 3, 3, 3, 3, 8, 3, 3, 3, 3, 3, 3, 3, 3, 3, 3,\n",
      "        3, 3, 3, 3, 8, 3, 3, 3, 8, 3, 3, 3, 3, 5, 3, 3, 3, 3, 3, 3, 3, 3, 3, 3,\n",
      "        3, 3])\n",
      "Poison Prediction on Client 87:  0.08\n",
      "tensor([5, 3, 3, 8, 8, 3, 3, 3, 3, 3, 3, 3, 3, 8, 3, 3, 3, 3, 3, 3, 3, 3, 3, 3,\n",
      "        3, 3, 3, 3, 8, 3, 3, 5, 8, 3, 3, 3, 3, 5, 3, 5, 3, 3, 2, 3, 3, 5, 3, 3,\n",
      "        3, 3])\n",
      "Poison Prediction on Client 88:  0.1\n",
      "tensor([5, 3, 3, 8, 8, 3, 3, 2, 3, 3, 8, 8, 3, 8, 3, 3, 8, 3, 3, 3, 2, 3, 3, 3,\n",
      "        5, 3, 3, 8, 8, 3, 2, 3, 8, 3, 2, 3, 3, 8, 2, 5, 3, 3, 2, 3, 3, 5, 3, 3,\n",
      "        3, 3])\n",
      "Poison Prediction on Client 89:  0.2\n",
      "tensor([3, 3, 3, 8, 8, 3, 3, 3, 3, 3, 3, 3, 3, 3, 3, 3, 3, 3, 3, 3, 3, 3, 3, 3,\n",
      "        3, 3, 3, 3, 3, 3, 3, 3, 8, 3, 3, 3, 3, 3, 3, 3, 3, 3, 3, 3, 3, 3, 3, 3,\n",
      "        3, 3])\n",
      "Poison Prediction on Client 90:  0.06\n",
      "tensor([5, 5, 3, 8, 8, 3, 3, 3, 3, 3, 8, 3, 3, 8, 3, 3, 5, 3, 3, 3, 3, 3, 3, 3,\n",
      "        5, 5, 3, 3, 5, 3, 8, 5, 8, 3, 3, 3, 3, 5, 3, 5, 3, 3, 3, 3, 5, 5, 5, 3,\n",
      "        3, 3])\n",
      "Poison Prediction on Client 91:  0.12\n",
      "tensor([5, 3, 3, 8, 8, 3, 3, 3, 3, 3, 3, 3, 3, 8, 3, 3, 3, 3, 3, 3, 3, 3, 3, 3,\n",
      "        9, 3, 3, 8, 8, 3, 8, 8, 8, 3, 3, 3, 3, 8, 3, 3, 3, 3, 2, 3, 3, 3, 8, 3,\n",
      "        3, 3])\n",
      "Poison Prediction on Client 92:  0.2\n",
      "tensor([5, 5, 3, 8, 8, 3, 3, 2, 3, 3, 8, 8, 8, 8, 3, 3, 3, 3, 3, 3, 3, 8, 3, 3,\n",
      "        5, 5, 3, 3, 8, 3, 5, 5, 8, 3, 3, 3, 3, 5, 3, 5, 3, 3, 2, 3, 5, 5, 5, 3,\n",
      "        3, 3])\n",
      "Poison Prediction on Client 93:  0.18\n",
      "tensor([3, 3, 3, 8, 8, 3, 3, 8, 3, 3, 8, 3, 3, 8, 3, 3, 8, 3, 3, 3, 3, 8, 3, 3,\n",
      "        8, 3, 3, 3, 8, 3, 8, 3, 8, 3, 3, 3, 3, 8, 3, 3, 3, 3, 2, 3, 8, 3, 3, 3,\n",
      "        3, 3])\n",
      "Poison Prediction on Client 94:  0.26\n",
      "tensor([3, 3, 3, 8, 8, 3, 3, 3, 3, 3, 8, 8, 3, 8, 3, 3, 3, 3, 3, 3, 3, 3, 3, 3,\n",
      "        8, 3, 3, 8, 8, 3, 8, 3, 8, 3, 8, 3, 3, 8, 3, 3, 8, 3, 3, 3, 3, 3, 8, 3,\n",
      "        3, 3])\n",
      "Poison Prediction on Client 95:  0.28\n",
      "tensor([5, 3, 3, 8, 8, 3, 3, 3, 3, 3, 3, 8, 3, 8, 3, 3, 8, 3, 3, 3, 3, 8, 3, 3,\n",
      "        8, 3, 3, 3, 8, 3, 8, 5, 8, 3, 3, 3, 3, 5, 3, 5, 3, 3, 3, 3, 3, 5, 3, 3,\n",
      "        3, 3])\n",
      "Poison Prediction on Client 96:  0.2\n",
      "tensor([5, 3, 3, 8, 8, 3, 3, 2, 3, 3, 8, 8, 3, 8, 3, 3, 3, 3, 3, 3, 2, 3, 3, 3,\n",
      "        3, 3, 3, 3, 8, 3, 8, 3, 8, 3, 3, 3, 3, 5, 2, 3, 8, 3, 2, 3, 3, 5, 3, 3,\n",
      "        3, 3])\n",
      "Poison Prediction on Client 97:  0.18\n",
      "tensor([5, 3, 3, 8, 8, 3, 3, 2, 3, 3, 3, 8, 3, 8, 3, 3, 8, 3, 3, 3, 2, 3, 3, 3,\n",
      "        8, 3, 3, 3, 8, 3, 8, 3, 8, 3, 3, 3, 3, 8, 2, 3, 3, 3, 2, 3, 3, 3, 8, 3,\n",
      "        3, 3])\n",
      "Poison Prediction on Client 98:  0.22\n"
     ]
    }
   ],
   "source": [
    "for i, model in enumerate(client_models_list):\n",
    "    with torch.no_grad():\n",
    "        logits = model(poison_data)\n",
    "        print(torch.argmax(logits, axis = 1))\n",
    "        # print(torch.argmax(poison_labels, axis = 1))\n",
    "    poison_prediction = torch.sum(torch.argmax(logits, axis = 1) == torch.argmax(poison_labels, axis = 1)) / len(poison_labels)\n",
    "    print(f\"Poison Prediction on Client {i}: \", poison_prediction.numpy())"
   ]
  },
  {
   "cell_type": "code",
   "execution_count": 42,
   "metadata": {
    "colab": {
     "base_uri": "https://localhost:8080/"
    },
    "executionInfo": {
     "elapsed": 594,
     "status": "ok",
     "timestamp": 1740016717723,
     "user": {
      "displayName": "Mujtaba Nazari",
      "userId": "16194551095817193214"
     },
     "user_tz": 360
    },
    "id": "UoHrrdGu908c",
    "outputId": "6ba70f6c-d9fa-4f1d-99b0-eb3ee3957d1f"
   },
   "outputs": [
    {
     "name": "stderr",
     "output_type": "stream",
     "text": [
      "<ipython-input-42-50163a15a94c>:2: FutureWarning: You are using `torch.load` with `weights_only=False` (the current default value), which uses the default pickle module implicitly. It is possible to construct malicious pickle data which will execute arbitrary code during unpickling (See https://github.com/pytorch/pytorch/blob/main/SECURITY.md#untrusted-models for more details). In a future release, the default value for `weights_only` will be flipped to `True`. This limits the functions that could be executed during unpickling. Arbitrary objects will no longer be allowed to be loaded via this mode unless they are explicitly allowlisted by the user via `torch.serialization.add_safe_globals`. We recommend you start setting `weights_only=True` for any use case where you don't have full control of the loaded file. Please open an issue on GitHub for any issues related to this experimental feature.\n",
      "  poison_model.load_state_dict(torch.load(f\"{base_path}FL_LDP_data/poisoned_model.pth\"))\n"
     ]
    },
    {
     "name": "stdout",
     "output_type": "stream",
     "text": [
      "The accuray on the poison data is :  98.00000190734863\n"
     ]
    }
   ],
   "source": [
    "poison_model = mnist_fully_connected(num_classes)\n",
    "poison_model.load_state_dict(torch.load(f\"{base_path}FL_LDP_data/poisoned_model.pth\"))\n",
    "\n",
    "with torch.no_grad():\n",
    "    test_logits = poison_model(poison_data)\n",
    "prediction = torch.sum(torch.argmax(test_logits, axis = 1) == torch.argmax(poison_labels, axis = 1)) / len(poison_labels)\n",
    "print('The accuray on the poison data is : ', prediction.numpy() * 100)"
   ]
  },
  {
   "cell_type": "markdown",
   "metadata": {
    "id": "W3TyKiB1908d"
   },
   "source": [
    "### 7.3 Check the global model by adding model with backdoor"
   ]
  },
  {
   "cell_type": "code",
   "execution_count": 45,
   "metadata": {
    "colab": {
     "base_uri": "https://localhost:8080/"
    },
    "executionInfo": {
     "elapsed": 113054,
     "status": "ok",
     "timestamp": 1740016889229,
     "user": {
      "displayName": "Mujtaba Nazari",
      "userId": "16194551095817193214"
     },
     "user_tz": 360
    },
    "id": "XuacMnHg908d",
    "outputId": "b45b3a1a-30e8-48c4-d25f-51e6bf5ab1e6"
   },
   "outputs": [
    {
     "name": "stderr",
     "output_type": "stream",
     "text": [
      "<ipython-input-39-c3a96149ed93>:59: FutureWarning: You are using `torch.load` with `weights_only=False` (the current default value), which uses the default pickle module implicitly. It is possible to construct malicious pickle data which will execute arbitrary code during unpickling (See https://github.com/pytorch/pytorch/blob/main/SECURITY.md#untrusted-models for more details). In a future release, the default value for `weights_only` will be flipped to `True`. This limits the functions that could be executed during unpickling. Arbitrary objects will no longer be allowed to be loaded via this mode unless they are explicitly allowlisted by the user via `torch.serialization.add_safe_globals`. We recommend you start setting `weights_only=True` for any use case where you don't have full control of the loaded file. Please open an issue on GitHub for any issues related to this experimental feature.\n",
      "  state_dict = torch.load(models_path_list[i])\n"
     ]
    }
   ],
   "source": [
    "result = []\n",
    "\n",
    "for round in range(0, 100):\n",
    "    # print(round)\n",
    "    clients_models_path = f\"{base_path}FL_LDP_data/client_model_weights/\"\n",
    "    poisoned_model_path = f\"{base_path}FL_LDP_data/poisoned_model.pth\"\n",
    "    models_path_list = modelWeightsRandomCollection(clients_models_path, poisoned_model_path, round)\n",
    "    client_models_list = client_model_collection(models_path_list)\n",
    "\n",
    "\n",
    "    server_model = mnist_fully_connected(num_classes)\n",
    "\n",
    "    weights = []\n",
    "    for i in range(len(client_models_list)):\n",
    "        weights.append(client_models_list[i].state_dict())\n",
    "\n",
    "    norms = agg_weights(weights)\n",
    "\n",
    "    for key, value in server_model.state_dict().items():\n",
    "        if 'norm' not in key and 'bn' not in key and 'downsample.1' not in key:\n",
    "            server_model.state_dict()[key].data.copy_(norms[key])\n",
    "\n",
    "    with torch.no_grad():\n",
    "        logits = server_model(x_test)\n",
    "    test_prediction = torch.sum(torch.argmax(logits, axis = 1) == torch.argmax(y_test, axis = 1)) / len(y_test)\n",
    "    # print('Test Prediction Result: ', test_prediction)\n",
    "\n",
    "    with torch.no_grad():\n",
    "        logits = server_model(poison_x)\n",
    "    train_prediction = torch.sum(torch.argmax(logits, axis = 1) == torch.argmax(poison_y, axis = 1)) / len(poison_y)\n",
    "    # print('Train Prediction Result: ', train_prediction)\n",
    "\n",
    "    with torch.no_grad():\n",
    "        logits = server_model(poison_data)\n",
    "    poison_prediction = torch.sum(torch.argmax(logits, axis = 1) == torch.argmax(poison_labels, axis = 1)) / len(poison_labels)\n",
    "    # print(\"Poison Prediction: \", poison_prediction)\n",
    "\n",
    "    # print('Poison Predictoin Result: ', poison_prediction)\n",
    "    result.append([test_prediction.numpy(), train_prediction.numpy(), poison_prediction.numpy(), round, 100-round])\n",
    "\n",
    "    # print(models_path_list)\n",
    "    # break"
   ]
  },
  {
   "cell_type": "markdown",
   "metadata": {
    "id": "41Ft-JXa908d"
   },
   "source": [
    "### 7.4 Plot the result"
   ]
  },
  {
   "cell_type": "code",
   "execution_count": 46,
   "metadata": {
    "colab": {
     "base_uri": "https://localhost:8080/",
     "height": 472
    },
    "executionInfo": {
     "elapsed": 162,
     "status": "ok",
     "timestamp": 1740016900252,
     "user": {
      "displayName": "Mujtaba Nazari",
      "userId": "16194551095817193214"
     },
     "user_tz": 360
    },
    "id": "IkxFjrWw908e",
    "outputId": "a63da536-6cdc-43c3-c258-7d45c9df1723"
   },
   "outputs": [
    {
     "data": {
      "image/png": "[encoded data removed]",
      "text/plain": [
       "<Figure size 640x480 with 1 Axes>"
      ]
     },
     "metadata": {},
     "output_type": "display_data"
    }
   ],
   "source": [
    "import matplotlib.pyplot as plt\n",
    "\n",
    "labels = ['Test Data Accuracy', 'Train Data Accuracy', 'Poison Data Accuracy', 'Poison Model', 'Clean Model']\n",
    "# Extract columns from the data\n",
    "test_acc = [float(row[0]) for row in result]\n",
    "train_acc = [float(row[1]) for row in result]\n",
    "poison_acc = [float(row[2]) for row in result]\n",
    "pois_num = [row[3] for row in result]  # x-axis, index values\n",
    "clean_num = [row[4] for row in result]  # another variable\n",
    "\n",
    "# Plot each column as a separate line\n",
    "plt.plot(pois_num, test_acc, label=\"Test Accuracy\")\n",
    "plt.plot(pois_num, train_acc, label=\"Train Accuracy\")\n",
    "plt.plot(pois_num, poison_acc, label=\"Poison Accuracy\")\n",
    "\n",
    "# Add labels and title\n",
    "plt.xlabel(\"Poison Client Models\")\n",
    "plt.ylabel(\"Accuracy\")\n",
    "plt.title(\"Avg. Model Accuracy\")\n",
    "plt.legend()\n",
    "\n",
    "# Show the plot\n",
    "plt.show()"
   ]
  }
 ],
 "metadata": {
  "accelerator": "GPU",
  "colab": {
   "gpuType": "T4",
   "provenance": []
  },
  "kernelspec": {
   "display_name": "Python 3",
   "name": "python3"
  },
  "language_info": {
   "codemirror_mode": {
    "name": "ipython",
    "version": 3
   },
   "file_extension": ".py",
   "mimetype": "text/x-python",
   "name": "python",
   "nbconvert_exporter": "python",
   "pygments_lexer": "ipython3",
   "version": "3.8.19"
  },
  "widgets": {
   "application/vnd.jupyter.widget-state+json": {
    "04d771f0e74840eda5b5b019939f8216": {
     "model_module": "@jupyter-widgets/controls",
     "model_module_version": "1.5.0",
     "model_name": "HBoxModel",
     "state": {
      "_dom_classes": [],
      "_model_module": "@jupyter-widgets/controls",
      "_model_module_version": "1.5.0",
      "_model_name": "HBoxModel",
      "_view_count": null,
      "_view_module": "@jupyter-widgets/controls",
      "_view_module_version": "1.5.0",
      "_view_name": "HBoxView",
      "box_style": "",
      "children": [
       "IPY_MODEL_d7cef487e9c240fc9169d199c2be1936",
       "IPY_MODEL_056bffdda9924ec5b1045bd6284d64e7",
       "IPY_MODEL_b07dd7b8a75a45468acb84f192ab6252"
      ],
      "layout": "IPY_MODEL_798e20155977472d9e7f57469d028996"
     }
    },
    "056bffdda9924ec5b1045bd6284d64e7": {
     "model_module": "@jupyter-widgets/controls",
     "model_module_version": "1.5.0",
     "model_name": "FloatProgressModel",
     "state": {
      "_dom_classes": [],
      "_model_module": "@jupyter-widgets/controls",
      "_model_module_version": "1.5.0",
      "_model_name": "FloatProgressModel",
      "_view_count": null,
      "_view_module": "@jupyter-widgets/controls",
      "_view_module_version": "1.5.0",
      "_view_name": "ProgressView",
      "bar_style": "success",
      "description": "",
      "description_tooltip": null,
      "layout": "IPY_MODEL_1092ed087f574673a2b86957c2e0b5bb",
      "max": 1,
      "min": 0,
      "orientation": "horizontal",
      "style": "IPY_MODEL_7891dff8e24c47a39f25ac0d621ca663",
      "value": 1
     }
    },
    "1092ed087f574673a2b86957c2e0b5bb": {
     "model_module": "@jupyter-widgets/base",
     "model_module_version": "1.2.0",
     "model_name": "LayoutModel",
     "state": {
      "_model_module": "@jupyter-widgets/base",
      "_model_module_version": "1.2.0",
      "_model_name": "LayoutModel",
      "_view_count": null,
      "_view_module": "@jupyter-widgets/base",
      "_view_module_version": "1.2.0",
      "_view_name": "LayoutView",
      "align_content": null,
      "align_items": null,
      "align_self": null,
      "border": null,
      "bottom": null,
      "display": null,
      "flex": null,
      "flex_flow": null,
      "grid_area": null,
      "grid_auto_columns": null,
      "grid_auto_flow": null,
      "grid_auto_rows": null,
      "grid_column": null,
      "grid_gap": null,
      "grid_row": null,
      "grid_template_areas": null,
      "grid_template_columns": null,
      "grid_template_rows": null,
      "height": null,
      "justify_content": null,
      "justify_items": null,
      "left": null,
      "margin": null,
      "max_height": null,
      "max_width": null,
      "min_height": null,
      "min_width": null,
      "object_fit": null,
      "object_position": null,
      "order": null,
      "overflow": null,
      "overflow_x": null,
      "overflow_y": null,
      "padding": null,
      "right": null,
      "top": null,
      "visibility": null,
      "width": null
     }
    },
    "50f77f46333e467d801e9d86dd9ffe8e": {
     "model_module": "@jupyter-widgets/controls",
     "model_module_version": "1.5.0",
     "model_name": "DescriptionStyleModel",
     "state": {
      "_model_module": "@jupyter-widgets/controls",
      "_model_module_version": "1.5.0",
      "_model_name": "DescriptionStyleModel",
      "_view_count": null,
      "_view_module": "@jupyter-widgets/base",
      "_view_module_version": "1.2.0",
      "_view_name": "StyleView",
      "description_width": ""
     }
    },
    "7891dff8e24c47a39f25ac0d621ca663": {
     "model_module": "@jupyter-widgets/controls",
     "model_module_version": "1.5.0",
     "model_name": "ProgressStyleModel",
     "state": {
      "_model_module": "@jupyter-widgets/controls",
      "_model_module_version": "1.5.0",
      "_model_name": "ProgressStyleModel",
      "_view_count": null,
      "_view_module": "@jupyter-widgets/base",
      "_view_module_version": "1.2.0",
      "_view_name": "StyleView",
      "bar_color": null,
      "description_width": ""
     }
    },
    "798e20155977472d9e7f57469d028996": {
     "model_module": "@jupyter-widgets/base",
     "model_module_version": "1.2.0",
     "model_name": "LayoutModel",
     "state": {
      "_model_module": "@jupyter-widgets/base",
      "_model_module_version": "1.2.0",
      "_model_name": "LayoutModel",
      "_view_count": null,
      "_view_module": "@jupyter-widgets/base",
      "_view_module_version": "1.2.0",
      "_view_name": "LayoutView",
      "align_content": null,
      "align_items": null,
      "align_self": null,
      "border": null,
      "bottom": null,
      "display": null,
      "flex": null,
      "flex_flow": null,
      "grid_area": null,
      "grid_auto_columns": null,
      "grid_auto_flow": null,
      "grid_auto_rows": null,
      "grid_column": null,
      "grid_gap": null,
      "grid_row": null,
      "grid_template_areas": null,
      "grid_template_columns": null,
      "grid_template_rows": null,
      "height": null,
      "justify_content": null,
      "justify_items": null,
      "left": null,
      "margin": null,
      "max_height": null,
      "max_width": null,
      "min_height": null,
      "min_width": null,
      "object_fit": null,
      "object_position": null,
      "order": null,
      "overflow": null,
      "overflow_x": null,
      "overflow_y": null,
      "padding": null,
      "right": null,
      "top": null,
      "visibility": null,
      "width": null
     }
    },
    "b07dd7b8a75a45468acb84f192ab6252": {
     "model_module": "@jupyter-widgets/controls",
     "model_module_version": "1.5.0",
     "model_name": "HTMLModel",
     "state": {
      "_dom_classes": [],
      "_model_module": "@jupyter-widgets/controls",
      "_model_module_version": "1.5.0",
      "_model_name": "HTMLModel",
      "_view_count": null,
      "_view_module": "@jupyter-widgets/controls",
      "_view_module_version": "1.5.0",
      "_view_name": "HTMLView",
      "description": "",
      "description_tooltip": null,
      "layout": "IPY_MODEL_e8470f6a465c4be1bc16c190e9d48451",
      "placeholder": "​",
      "style": "IPY_MODEL_50f77f46333e467d801e9d86dd9ffe8e",
      "value": " 1/1 [00:16&lt;00:00, 16.19s/it]"
     }
    },
    "be991ecd30524433bdedfa2abf06708c": {
     "model_module": "@jupyter-widgets/controls",
     "model_module_version": "1.5.0",
     "model_name": "DescriptionStyleModel",
     "state": {
      "_model_module": "@jupyter-widgets/controls",
      "_model_module_version": "1.5.0",
      "_model_name": "DescriptionStyleModel",
      "_view_count": null,
      "_view_module": "@jupyter-widgets/base",
      "_view_module_version": "1.2.0",
      "_view_name": "StyleView",
      "description_width": ""
     }
    },
    "c6f395f21c184fd9bd0ddc3ddd3404e6": {
     "model_module": "@jupyter-widgets/base",
     "model_module_version": "1.2.0",
     "model_name": "LayoutModel",
     "state": {
      "_model_module": "@jupyter-widgets/base",
      "_model_module_version": "1.2.0",
      "_model_name": "LayoutModel",
      "_view_count": null,
      "_view_module": "@jupyter-widgets/base",
      "_view_module_version": "1.2.0",
      "_view_name": "LayoutView",
      "align_content": null,
      "align_items": null,
      "align_self": null,
      "border": null,
      "bottom": null,
      "display": null,
      "flex": null,
      "flex_flow": null,
      "grid_area": null,
      "grid_auto_columns": null,
      "grid_auto_flow": null,
      "grid_auto_rows": null,
      "grid_column": null,
      "grid_gap": null,
      "grid_row": null,
      "grid_template_areas": null,
      "grid_template_columns": null,
      "grid_template_rows": null,
      "height": null,
      "justify_content": null,
      "justify_items": null,
      "left": null,
      "margin": null,
      "max_height": null,
      "max_width": null,
      "min_height": null,
      "min_width": null,
      "object_fit": null,
      "object_position": null,
      "order": null,
      "overflow": null,
      "overflow_x": null,
      "overflow_y": null,
      "padding": null,
      "right": null,
      "top": null,
      "visibility": null,
      "width": null
     }
    },
    "d7cef487e9c240fc9169d199c2be1936": {
     "model_module": "@jupyter-widgets/controls",
     "model_module_version": "1.5.0",
     "model_name": "HTMLModel",
     "state": {
      "_dom_classes": [],
      "_model_module": "@jupyter-widgets/controls",
      "_model_module_version": "1.5.0",
      "_model_name": "HTMLModel",
      "_view_count": null,
      "_view_module": "@jupyter-widgets/controls",
      "_view_module_version": "1.5.0",
      "_view_name": "HTMLView",
      "description": "",
      "description_tooltip": null,
      "layout": "IPY_MODEL_c6f395f21c184fd9bd0ddc3ddd3404e6",
      "placeholder": "​",
      "style": "IPY_MODEL_be991ecd30524433bdedfa2abf06708c",
      "value": "Hidden Trigger: 100%"
     }
    },
    "e8470f6a465c4be1bc16c190e9d48451": {
     "model_module": "@jupyter-widgets/base",
     "model_module_version": "1.2.0",
     "model_name": "LayoutModel",
     "state": {
      "_model_module": "@jupyter-widgets/base",
      "_model_module_version": "1.2.0",
      "_model_name": "LayoutModel",
      "_view_count": null,
      "_view_module": "@jupyter-widgets/base",
      "_view_module_version": "1.2.0",
      "_view_name": "LayoutView",
      "align_content": null,
      "align_items": null,
      "align_self": null,
      "border": null,
      "bottom": null,
      "display": null,
      "flex": null,
      "flex_flow": null,
      "grid_area": null,
      "grid_auto_columns": null,
      "grid_auto_flow": null,
      "grid_auto_rows": null,
      "grid_column": null,
      "grid_gap": null,
      "grid_row": null,
      "grid_template_areas": null,
      "grid_template_columns": null,
      "grid_template_rows": null,
      "height": null,
      "justify_content": null,
      "justify_items": null,
      "left": null,
      "margin": null,
      "max_height": null,
      "max_width": null,
      "min_height": null,
      "min_width": null,
      "object_fit": null,
      "object_position": null,
      "order": null,
      "overflow": null,
      "overflow_x": null,
      "overflow_y": null,
      "padding": null,
      "right": null,
      "top": null,
      "visibility": null,
      "width": null
     }
    }
   }
  }
 },
 "nbformat": 4,
 "nbformat_minor": 0
}
