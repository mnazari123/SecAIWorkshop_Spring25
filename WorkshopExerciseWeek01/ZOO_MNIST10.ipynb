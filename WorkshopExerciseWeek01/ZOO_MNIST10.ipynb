{
 "cells": [
  {
   "cell_type": "markdown",
   "metadata": {},
   "source": [
    "## **Zeroth-Order Optimization (ZOO) Attack and Binary Input Detector Using MNIST-10**\n",
    "\n",
    "This notebook demonstrates the implementation of the Zoo attack using the Adversarial Robustness Toolbox (ART) against deep learning models trained on the MNIST-10 dataset. The tasks covered in this notebook are:\n",
    "\n",
    "* Load the Required Libraries\n",
    "\n",
    "* Load the Dataset and Inspect the Data\n",
    "\n",
    "* Create a Deep Learning Model\n",
    "\n",
    "* Train and Evaluate the Deep Learning Model on MNIST Test Data\n",
    "\n",
    "* Implement ZOO Attack Using ART\n",
    "\n",
    "* Create Adversarial Samples Using the Z00 Attack\n",
    "\n",
    "* Evaluate the Deep Learning Model Against the Adversarial Samples\n",
    "\n",
    "* Create a Detector Model to Detect Adversarial Samples\n",
    "\n",
    "* Train and Evaluate the Detector Model"
   ]
  },
  {
   "cell_type": "markdown",
   "metadata": {},
   "source": [
    "### **Zero-Order Optimization (ZOO) Attack - Overview**\n",
    "\n",
    "The Zero-Order Optimization (ZOO) attack is a black-box adversarial attack introduced by Athalye, Carlini, and Wagner in 2018. This attack targets scenarios where the attacker has no access to the model's gradients or any internal information (such as architecture or weights). In contrast to attacks like FGSM or PGD, which rely on gradient information, ZOO uses zero-order optimization to generate adversarial examples by querying the model and using the output (e.g., class probabilities) to estimate gradients indirectly.\n",
    "\n",
    "#### **Key Concepts**\n",
    "\n",
    "**1. Black-box Attack**: The attacker only has access to the model’s outputs (e.g., logits or probabilities) for different inputs, without any access to the model's parameters, gradients, or internal structure.\n",
    "\n",
    "**2. Zero-Order Optimization**: Instead of computing gradients directly, ZOO estimates the gradient using finite differences based on model queries. This is a numerical method where the gradient is approximated by observing how small changes to the input affect the output.\n",
    "\n",
    "**3. Adversarial Example**: A perturbation of the input that is designed to make the model misclassify the input while keeping the perturbation imperceptible to humans.\n",
    "\n",
    "#### **How Zero-Order Optimization (ZOO) Works**\n",
    "\n",
    "The ZOO attack formulates the generation of adversarial examples as an optimization problem. The main goal is to find an input perturbation $δ$ that minimizes the loss or maximizes the misclassification score. This perturbation is computed using an optimization procedure, where the gradients are approximated using finite differences, i.e., by querying the model multiple times with perturbed inputs.\n",
    "The ZOO Attack Formulation\n",
    "\n",
    "#### **The ZOO attack optimizes the following objective function:**\n",
    "$$L(x_{adv},x)=E[Loss(f(x_{adv}),y)]+λ⋅∥x_{adv}−x∥_{p}$$\n",
    "\n",
    "Where:\n",
    "\n",
    "* $x_{adv}$​ is the adversarial example.\n",
    "* $x$ is the original input.\n",
    "* $f(x_{adv})$ is the model's output for the adversarial input $x_{adv}$​.\n",
    "* $y$ is the true label of the original input $x$.\n",
    "* $λ$ is a regularization parameter that controls the trade-off between adversarial effectiveness and perturbation magnitude.\n",
    "* $∥x_{adv}−x∥_{p}$​ is the perturbation magnitude, typically measured using the p-norm (e.g., $p=2$ for Euclidean distance).\n",
    "\n",
    "The attack attempts to perturb $x$ to minimize this objective function, thus ensuring that the adversarial example $x_{adv}$​ causes the model to misclassify while maintaining a small perturbation.\n",
    "\n",
    "#### **Step 1: Finite Difference Gradient Estimation**\n",
    "\n",
    "Since we do not have direct access to the gradients of the model, we use finite differences to estimate the gradient. This involves querying the model multiple times with small perturbations and measuring how the outputs change in response.\n",
    "\n",
    "For an input $x$ and a perturbation vector $δ$, the gradient estimate for a particular dimension $i$ of the input is given by:\n",
    "\n",
    "$$\\hat{∇}_{i}​=\\frac{f(x + \\epsilon e_i) - f(x - \\epsilon e_i)}{2\\epsilon}​$$\n",
    "\n",
    "Where:\n",
    "\n",
    "* $\\hat{∇}_{i}$​ is the estimate of the gradient in the i-th direction.\n",
    "* $f(x)$ is the model's output (e.g., class probability or logits) for the input $x$.\n",
    "* $ϵ$ is a small perturbation (step size), and $e_{i}$​ is the unit vector along the $i$-th dimension of the input.\n",
    "* The term $f(x+ϵei)$ represents the output of the model when the input $x$ is perturbed positively along the $i$-th axis by $ϵ$.\n",
    "* The term $f(x−ϵei)$ represents the output of the model when the input $x$ is perturbed negatively along the $i$-th axis by $ϵ$.\n",
    "\n",
    "#### **Step 2: Optimization Procedure**\n",
    "\n",
    "Using these estimated gradients, the attack proceeds to optimize the perturbation $δ$ iteratively. The objective function for the optimization can be written as:\n",
    "$$L(δ)=E[Loss(f(x+δ),y)]+λ⋅∥δ∥_{p}$$\n",
    "\n",
    "\n",
    "Where:\n",
    "\n",
    "* $δ$ is the perturbation that is being optimized.\n",
    "* $f(x+δ)$ is the model’s output for the perturbed input $x+δ$.\n",
    "* $λ$ controls the trade-off between minimizing the loss (misclassification) and minimizing the magnitude of the perturbation.\n",
    "* The regularization term $∥δ∥_{p}$​ ensures that the perturbation is not too large and remains imperceptible to humans.\n",
    "\n",
    "The optimization problem is solved using an iterative algorithm like L-BFGS or Adam, which adjusts $δ$ to minimize the objective function.\n",
    "\n",
    "#### **Step 3: Querying and Perturbing the Input**\n",
    "\n",
    "For each iteration, the following steps are performed:\n",
    "\n",
    "**1. Perturb** the input $x$ by a small amount $δ$.\n",
    "\n",
    "**2. Query the model** with the perturbed inputs $x+δ$ and $x−δ$.\n",
    "\n",
    "**3. Estimate the gradient** using the finite difference method.\n",
    "\n",
    "**4. Update the perturbation** $δ$ based on the gradient information to reduce the misclassification loss while controlling the perturbation size.\n",
    "\n",
    "#### **Step 4: Generating the Adversarial Example**\n",
    "\n",
    "The attack continues until the optimization converges, i.e., until the adversarial example $x_{adv}=x+δ$ successfully misclassifies the model or the perturbation reaches the desired magnitude.\n",
    "Zero-Order Optimization (ZOO) Attack Process\n",
    "\n",
    "**1. Initialize** the original input $x$ and true label $y$.\n",
    "\n",
    "**2. Set the regularization parameter** $λ$ and perturbation size $ϵ$.\n",
    "\n",
    "**3. Iterate** over the optimization procedure:\n",
    "* Use finite differences to estimate the gradient for each dimension of the input.\n",
    "* Update the perturbation $δ$ using an optimization algorithm (e.g., L-BFGS or Adam).\n",
    "\n",
    "**4. Final adversarial example** $x_{adv}=x+δ$.\n",
    "\n",
    "#### **Strengths and Weaknesses of ZOO**\n",
    "\n",
    "**Strengths:**\n",
    "\n",
    "* **Black-box Applicability**: ZOO is designed specifically for black-box attacks, where the attacker has no access to the model's internals (e.g., weights, gradients, architecture).\n",
    "* **High Success Rate**: Despite being a black-box attack, ZOO is highly effective and can generate adversarial examples that successfully mislead the model.\n",
    "* **Versatility**: ZOO can be applied to various models and tasks (e.g., classification, regression), as long as the attacker can query the model.\n",
    "\n",
    "**Weaknesses:**\n",
    "\n",
    "* **Query Intensive**: ZOO requires many queries to estimate the gradients, making it computationally expensive, especially for high-dimensional inputs such as images.\n",
    "* **Slow Convergence**: The optimization may take time to converge, particularly when the perturbation space is large (e.g., for high-dimensional inputs such as images).\n",
    "* **Dependence on Perturbation Size**: The success of ZOO heavily depends on the choice of $ϵ$ (perturbation size). A large ϵϵ might make the perturbation visible, while a small ϵϵ might not be sufficient to fool the model."
   ]
  },
  {
   "cell_type": "markdown",
   "metadata": {},
   "source": [
    "### Import and install required libaries"
   ]
  },
  {
   "cell_type": "code",
   "execution_count": 1,
   "metadata": {
    "colab": {
     "base_uri": "https://localhost:8080/"
    },
    "executionInfo": {
     "elapsed": 27741,
     "status": "ok",
     "timestamp": 1702477555720,
     "user": {
      "displayName": "Mujtaba Nazari",
      "userId": "16194551095817193214"
     },
     "user_tz": 360
    },
    "id": "PcOL9RIH6EZU",
    "outputId": "8f191d5e-4391-4fbd-aa4c-c3dc210a9141"
   },
   "outputs": [],
   "source": [
    "# Install prerequired libraries.\n",
    "# !pip install adversarial-robustness-toolbox"
   ]
  },
  {
   "cell_type": "code",
   "execution_count": 1,
   "metadata": {
    "executionInfo": {
     "elapsed": 12090,
     "status": "ok",
     "timestamp": 1702477887012,
     "user": {
      "displayName": "Mujtaba Nazari",
      "userId": "16194551095817193214"
     },
     "user_tz": 360
    },
    "id": "NaA2YOjN6QZs"
   },
   "outputs": [
    {
     "name": "stderr",
     "output_type": "stream",
     "text": [
      "2025-01-14 15:46:10.135934: I tensorflow/core/platform/cpu_feature_guard.cc:193] This TensorFlow binary is optimized with oneAPI Deep Neural Network Library (oneDNN) to use the following CPU instructions in performance-critical operations:  SSE4.1 SSE4.2 AVX AVX2 AVX512F AVX512_VNNI FMA\n",
      "To enable them in other operations, rebuild TensorFlow with the appropriate compiler flags.\n",
      "2025-01-14 15:46:10.237941: I tensorflow/core/util/port.cc:104] oneDNN custom operations are on. You may see slightly different numerical results due to floating-point round-off errors from different computation orders. To turn them off, set the environment variable `TF_ENABLE_ONEDNN_OPTS=0`.\n"
     ]
    }
   ],
   "source": [
    "import warnings\n",
    "warnings.filterwarnings('ignore')\n",
    "import tensorflow as tf\n",
    "tf.compat.v1.disable_eager_execution()\n",
    "import numpy as np\n",
    "from matplotlib import pyplot as plt\n",
    "import pandas as pd\n",
    "from keras.models import load_model\n",
    "\n",
    "from tensorflow.keras.models import Sequential\n",
    "from tensorflow.keras.layers import Dense, Flatten, Conv2D, MaxPooling2D\n",
    "from tensorflow.keras.losses import categorical_crossentropy\n",
    "from tensorflow.keras.optimizers.legacy import Adam\n",
    "\n",
    "from art import config\n",
    "from art.utils import load_dataset, get_file\n",
    "\n",
    "from art.estimators.classification import KerasClassifier\n",
    "from art.attacks.evasion import ZooAttack, BasicIterativeMethod\n",
    "from art.defences.detector.evasion import BinaryInputDetector\n",
    "from art.defences.trainer import AdversarialTrainer"
   ]
  },
  {
   "cell_type": "code",
   "execution_count": 2,
   "metadata": {},
   "outputs": [
    {
     "name": "stdout",
     "output_type": "stream",
     "text": [
      "3 Physical GPUs, 1 Logical GPU\n"
     ]
    },
    {
     "name": "stderr",
     "output_type": "stream",
     "text": [
      "2025-01-14 15:46:27.604287: I tensorflow/core/platform/cpu_feature_guard.cc:193] This TensorFlow binary is optimized with oneAPI Deep Neural Network Library (oneDNN) to use the following CPU instructions in performance-critical operations:  SSE4.1 SSE4.2 AVX AVX2 AVX512F AVX512_VNNI FMA\n",
      "To enable them in other operations, rebuild TensorFlow with the appropriate compiler flags.\n",
      "2025-01-14 15:46:28.017951: I tensorflow/core/common_runtime/gpu/gpu_device.cc:1613] Created device /job:localhost/replica:0/task:0/device:GPU:0 with 618 MB memory:  -> device: 2, name: Quadro RTX 8000, pci bus id: 0000:73:00.0, compute capability: 7.5\n"
     ]
    }
   ],
   "source": [
    "# Specifying the GPU\n",
    "gpus = tf.config.list_physical_devices('GPU')\n",
    "if gpus:\n",
    "  # Restrict TensorFlow to only use the first GPU\n",
    "  try:\n",
    "    tf.config.set_visible_devices(gpus[2], 'GPU')\n",
    "    logical_gpus = tf.config.list_logical_devices('GPU')\n",
    "    print(len(gpus), \"Physical GPUs,\", len(logical_gpus), \"Logical GPU\")\n",
    "  except RuntimeError as e:\n",
    "    # Visible devices must be set before GPUs have been initialized\n",
    "    print(e)"
   ]
  },
  {
   "cell_type": "markdown",
   "metadata": {
    "id": "XiUWkGWM7Mn2"
   },
   "source": [
    "### Load MNIST dataset"
   ]
  },
  {
   "cell_type": "code",
   "execution_count": 3,
   "metadata": {
    "colab": {
     "base_uri": "https://localhost:8080/"
    },
    "executionInfo": {
     "elapsed": 1920,
     "status": "ok",
     "timestamp": 1702477933261,
     "user": {
      "displayName": "Mujtaba Nazari",
      "userId": "16194551095817193214"
     },
     "user_tz": 360
    },
    "id": "tpw_jCNy7Sp9",
    "outputId": "a5e6c69a-f030-4ebe-9701-bfd4ff25b31a"
   },
   "outputs": [
    {
     "data": {
      "text/plain": [
       "((60000, 28, 28), (60000,), (10000, 28, 28), (10000,), 0.0, 1.0)"
      ]
     },
     "execution_count": 3,
     "metadata": {},
     "output_type": "execute_result"
    }
   ],
   "source": [
    "(x_train, y_train), (x_test, y_test) = tf.keras.datasets.mnist.load_data()\n",
    "# (x_train, y_train), (x_test, y_test) = np.load('./../datasets/mnist10_dataset.npy', allow_pickle = True)\n",
    "x_train, x_test = x_train / 255.0, x_test / 255.0\n",
    "min = x_train.min()\n",
    "max = x_train.max()\n",
    "\n",
    "x_train.shape, y_train.shape, x_test.shape, y_test.shape, min, max"
   ]
  },
  {
   "cell_type": "markdown",
   "metadata": {
    "id": "0vkmOb8R7hLh"
   },
   "source": [
    "\n",
    "\n",
    "Have a look at the data!\n"
   ]
  },
  {
   "cell_type": "code",
   "execution_count": 4,
   "metadata": {
    "colab": {
     "base_uri": "https://localhost:8080/",
     "height": 577
    },
    "executionInfo": {
     "elapsed": 2407,
     "status": "ok",
     "timestamp": 1702477938551,
     "user": {
      "displayName": "Mujtaba Nazari",
      "userId": "16194551095817193214"
     },
     "user_tz": 360
    },
    "id": "hy2vKXLV7jb0",
    "outputId": "56454ec8-ca75-43ba-ffdc-18698e6559c3"
   },
   "outputs": [
    {
     "data": {
      "image/png": "[encoded data removed]",
      "text/plain": [
       "<Figure size 1500x700 with 10 Axes>"
      ]
     },
     "metadata": {},
     "output_type": "display_data"
    }
   ],
   "source": [
    "fig, ax = plt.subplots(2,5, figsize=(15, 7))\n",
    "ax = ax.flatten()\n",
    "\n",
    "for i, (image, label) in enumerate(zip(x_train[:10], y_train[:10])):\n",
    "  #im_idx = np.argwhere(y_train == i)[0]\n",
    "  ax[i].imshow(image)\n",
    "  # ax[i].set_title(f\"Label: {label.argmax()}\",  fontsize=12)"
   ]
  },
  {
   "cell_type": "code",
   "execution_count": 5,
   "metadata": {},
   "outputs": [],
   "source": [
    "nb_classes =10\n",
    "y_test = tf.keras.utils.to_categorical(y_test, num_classes=nb_classes)\n",
    "x_test = np.expand_dims(x_test, axis=-1)\n",
    "\n",
    "y_train = tf.keras.utils.to_categorical(y_train, num_classes=nb_classes)\n",
    "x_train = np.expand_dims(x_train, axis=-1)"
   ]
  },
  {
   "cell_type": "code",
   "execution_count": 6,
   "metadata": {},
   "outputs": [
    {
     "data": {
      "text/plain": [
       "((10000, 10), (60000, 10))"
      ]
     },
     "execution_count": 6,
     "metadata": {},
     "output_type": "execute_result"
    }
   ],
   "source": [
    "y_test.shape, y_train.shape"
   ]
  },
  {
   "cell_type": "markdown",
   "metadata": {
    "id": "CDvTkvZwBAcq"
   },
   "source": [
    "# **Training Model**"
   ]
  },
  {
   "cell_type": "markdown",
   "metadata": {
    "id": "WrDFMofhAwi3"
   },
   "source": [
    "**Load a pretrained model**"
   ]
  },
  {
   "cell_type": "code",
   "execution_count": 7,
   "metadata": {},
   "outputs": [],
   "source": [
    "model = tf.keras.models.Sequential([\n",
    "    tf.keras.layers.InputLayer(input_shape=(28, 28, 1)),\n",
    "    tf.keras.layers.Conv2D(32, kernel_size=(3, 3), activation='relu'),\n",
    "    tf.keras.layers.MaxPooling2D(pool_size=(2, 2)),\n",
    "    tf.keras.layers.Conv2D(64, (3,3), activation = 'relu', strides = 1),\n",
    "    tf.keras.layers.MaxPooling2D(pool_size=(2, 2), strides = 2),\n",
    "    tf.keras.layers.Conv2D(128, (3,3), activation = 'relu', strides = 1),\n",
    "    tf.keras.layers.MaxPooling2D(pool_size=(2, 2), strides = 2),\n",
    "    tf.keras.layers.Flatten(),\n",
    "    tf.keras.layers.Dense(128, activation='relu'),\n",
    "    tf.keras.layers.Dropout(0.2),\n",
    "    tf.keras.layers.Dense(10, activation='softmax')\n",
    "])\n",
    "\n",
    "model.compile(optimizer='adam',\n",
    "              loss='categorical_crossentropy',\n",
    "              metrics=['accuracy']);"
   ]
  },
  {
   "cell_type": "code",
   "execution_count": 8,
   "metadata": {},
   "outputs": [
    {
     "name": "stdout",
     "output_type": "stream",
     "text": [
      "Model: \"sequential\"\n",
      "_________________________________________________________________\n",
      " Layer (type)                Output Shape              Param #   \n",
      "=================================================================\n",
      " conv2d (Conv2D)             (None, 26, 26, 32)        320       \n",
      "                                                                 \n",
      " max_pooling2d (MaxPooling2D  (None, 13, 13, 32)       0         \n",
      " )                                                               \n",
      "                                                                 \n",
      " conv2d_1 (Conv2D)           (None, 11, 11, 64)        18496     \n",
      "                                                                 \n",
      " max_pooling2d_1 (MaxPooling  (None, 5, 5, 64)         0         \n",
      " 2D)                                                             \n",
      "                                                                 \n",
      " conv2d_2 (Conv2D)           (None, 3, 3, 128)         73856     \n",
      "                                                                 \n",
      " max_pooling2d_2 (MaxPooling  (None, 1, 1, 128)        0         \n",
      " 2D)                                                             \n",
      "                                                                 \n",
      " flatten (Flatten)           (None, 128)               0         \n",
      "                                                                 \n",
      " dense (Dense)               (None, 128)               16512     \n",
      "                                                                 \n",
      " dropout (Dropout)           (None, 128)               0         \n",
      "                                                                 \n",
      " dense_1 (Dense)             (None, 10)                1290      \n",
      "                                                                 \n",
      "=================================================================\n",
      "Total params: 110,474\n",
      "Trainable params: 110,474\n",
      "Non-trainable params: 0\n",
      "_________________________________________________________________\n"
     ]
    }
   ],
   "source": [
    "model.summary()"
   ]
  },
  {
   "cell_type": "code",
   "execution_count": 10,
   "metadata": {},
   "outputs": [
    {
     "data": {
      "image/png": "[encoded data removed]",
      "text/plain": [
       "<PIL.Image.Image image mode=RGBA size=357x413>"
      ]
     },
     "execution_count": 10,
     "metadata": {},
     "output_type": "execute_result"
    }
   ],
   "source": [
    "# import visualkeras\n",
    "# visualkeras.layered_view(model, scale_xy=10, legend=True)"
   ]
  },
  {
   "cell_type": "code",
   "execution_count": 9,
   "metadata": {
    "colab": {
     "base_uri": "https://localhost:8080/",
     "height": 865
    },
    "executionInfo": {
     "elapsed": 609,
     "status": "ok",
     "timestamp": 1702477976804,
     "user": {
      "displayName": "Mujtaba Nazari",
      "userId": "16194551095817193214"
     },
     "user_tz": 360
    },
    "id": "wIBlIEH08Sfi",
    "outputId": "32c378a4-c8ee-4821-a635-9c2493e0e567"
   },
   "outputs": [
    {
     "data": {
      "image/png": "[encoded data removed]",
      "text/plain": [
       "<IPython.core.display.Image object>"
      ]
     },
     "execution_count": 9,
     "metadata": {},
     "output_type": "execute_result"
    }
   ],
   "source": [
    "tf.keras.utils.plot_model(model, show_shapes=True)"
   ]
  },
  {
   "cell_type": "markdown",
   "metadata": {},
   "source": [
    "### Fit the model on training data."
   ]
  },
  {
   "cell_type": "code",
   "execution_count": 11,
   "metadata": {},
   "outputs": [
    {
     "name": "stderr",
     "output_type": "stream",
     "text": [
      "2025-01-14 15:47:43.913932: I tensorflow/core/common_runtime/gpu/gpu_device.cc:1613] Created device /job:localhost/replica:0/task:0/device:GPU:0 with 618 MB memory:  -> device: 2, name: Quadro RTX 8000, pci bus id: 0000:73:00.0, compute capability: 7.5\n",
      "2025-01-14 15:47:44.055611: I tensorflow/compiler/mlir/mlir_graph_optimization_pass.cc:357] MLIR V1 optimization pass is not enabled\n",
      "2025-01-14 15:47:44.178675: W tensorflow/c/c_api.cc:291] Operation '{name:'dense_1_1/kernel/Assign' id:338 op device:{requested: '', assigned: ''} def:{{{node dense_1_1/kernel/Assign}} = AssignVariableOp[_has_manual_control_dependencies=true, dtype=DT_FLOAT, validate_shape=false](dense_1_1/kernel, dense_1_1/kernel/Initializer/stateless_random_uniform)}}' was changed by setting attribute after it was run by a session. This mutation will have no effect, and will trigger an error in the future. Either don't modify nodes after running them or create a new session.\n",
      "2025-01-14 15:47:44.516238: W tensorflow/c/c_api.cc:291] Operation '{name:'conv2d_2_1/kernel/v/Assign' id:587 op device:{requested: '', assigned: ''} def:{{{node conv2d_2_1/kernel/v/Assign}} = AssignVariableOp[_has_manual_control_dependencies=true, dtype=DT_FLOAT, validate_shape=false](conv2d_2_1/kernel/v, conv2d_2_1/kernel/v/Initializer/zeros)}}' was changed by setting attribute after it was run by a session. This mutation will have no effect, and will trigger an error in the future. Either don't modify nodes after running them or create a new session.\n"
     ]
    }
   ],
   "source": [
    "# history = model.fit(x_train, y_train, epochs = 5)\n",
    "model = tf.keras.models.load_model('./../Models/mnist10_conv.keras')"
   ]
  },
  {
   "cell_type": "markdown",
   "metadata": {},
   "source": [
    "#### Evaluate model accuracy on test data."
   ]
  },
  {
   "cell_type": "code",
   "execution_count": 12,
   "metadata": {},
   "outputs": [
    {
     "name": "stderr",
     "output_type": "stream",
     "text": [
      "2025-01-14 15:47:48.076842: W tensorflow/c/c_api.cc:291] Operation '{name:'loss_1/mul' id:478 op device:{requested: '', assigned: ''} def:{{{node loss_1/mul}} = Mul[T=DT_FLOAT, _has_manual_control_dependencies=true](loss_1/mul/x, loss_1/dense_1_loss/value)}}' was changed by setting attribute after it was run by a session. This mutation will have no effect, and will trigger an error in the future. Either don't modify nodes after running them or create a new session.\n",
      "2025-01-14 15:47:48.254085: I tensorflow/compiler/xla/stream_executor/cuda/cuda_dnn.cc:428] Loaded cuDNN version 8902\n"
     ]
    },
    {
     "name": "stdout",
     "output_type": "stream",
     "text": [
      "Accuracy on test data: 98.57%\n"
     ]
    }
   ],
   "source": [
    "loss_test, accuracy_test = model.evaluate(x_test, y_test)\n",
    "print('Accuracy on test data: {:4.2f}%'.format(accuracy_test * 100))"
   ]
  },
  {
   "cell_type": "code",
   "execution_count": 13,
   "metadata": {},
   "outputs": [
    {
     "name": "stderr",
     "output_type": "stream",
     "text": [
      "2025-01-14 15:47:58.174910: W tensorflow/c/c_api.cc:291] Operation '{name:'dense_1_1/Softmax' id:349 op device:{requested: '', assigned: ''} def:{{{node dense_1_1/Softmax}} = Softmax[T=DT_FLOAT, _has_manual_control_dependencies=true](dense_1_1/BiasAdd)}}' was changed by setting attribute after it was run by a session. This mutation will have no effect, and will trigger an error in the future. Either don't modify nodes after running them or create a new session.\n"
     ]
    },
    {
     "name": "stdout",
     "output_type": "stream",
     "text": [
      "Original test Data: \n",
      "Correctly Classified: 9857\n",
      "Incorrectly Classified: 143\n"
     ]
    }
   ],
   "source": [
    "x_test_pred = np.argmax(model.predict(x_test), axis = 1)\n",
    "nb_correct_pred = np.sum(x_test_pred == np.argmax(y_test, axis = 1))\n",
    "\n",
    "print('Original test Data: ')\n",
    "print('Correctly Classified: {}'.format(nb_correct_pred))\n",
    "print('Incorrectly Classified: {}'.format(len(x_test) - nb_correct_pred))"
   ]
  },
  {
   "cell_type": "code",
   "execution_count": 18,
   "metadata": {},
   "outputs": [],
   "source": [
    "x_test = x_test[0:100]\n",
    "y_test = y_test[0:100]"
   ]
  },
  {
   "cell_type": "code",
   "execution_count": 19,
   "metadata": {},
   "outputs": [],
   "source": [
    "classifier = KerasClassifier(model=model, clip_values=(0.0, 1.0))"
   ]
  },
  {
   "cell_type": "markdown",
   "metadata": {
    "id": "kRVEGgXt8FgT"
   },
   "source": [
    "### **Zeroth-Order Optimization (ZOO) Attack**"
   ]
  },
  {
   "cell_type": "markdown",
   "metadata": {
    "id": "aXPE0oYG8Lqk"
   },
   "source": [
    "> class art.attacks.evasion.ZooAttack(classifier: CLASSIFIER_TYPE, confidence: float = 0.0, targeted: bool = False, learning_rate: float = 0.01, max_iter: int = 10, binary_search_steps: int = 1, initial_const: float = 0.001, abort_early: bool = True, use_resize: bool = True, use_importance: bool = True, nb_parallel: int = 128, batch_size: int = 1, variable_h: float = 0.0001, verbose: bool = True)\n",
    "\n",
    "The black-box zeroth-order optimization attack from Pin-Yu Chen et al. (2018). This attack is a variant of the C&W attack which uses ADAM coordinate descent to perform numerical estimation of gradients.\n",
    "* Paper link: https://arxiv.org/abs/1708.03999\n",
    "\n",
    "*__init__(classifier: CLASSIFIER_TYPE, confidence: float = 0.0, targeted: bool = False, learning_rate: float = 0.01, max_iter: int = 10, binary_search_steps: int = 1, initial_const: float = 0.001, abort_early: bool = True, use_resize: bool = True, use_importance: bool = True, nb_parallel: int = 128, batch_size: int = 1, variable_h: float = 0.0001, verbose: bool = True)*\n",
    "\n",
    "**Create a ZOO attack instance.**\n",
    "\n",
    "**Parameters**\n",
    "\n",
    "* classifier – A trained classifier.\n",
    "* confidence (float) – Confidence of adversarial examples: a higher value produces examples that are farther away, from the original input, but classified with higher confidence as the target class.\n",
    "* targeted (bool) – Should the attack target one specific class.\n",
    "* learning_rate (float) – The initial learning rate for the attack algorithm. Smaller values produce better results but are slower to converge.\n",
    "* max_iter (int) – The maximum number of iterations.\n",
    "* binary_search_steps (int) – Number of times to adjust constant with binary search (positive value).\n",
    "* initial_const (float) – The initial trade-off constant c to use to tune the relative importance of distance and confidence. If binary_search_steps is large, the initial constant is not important, as discussed in Carlini and Wagner (2016).\n",
    "* abort_early (bool) – True if gradient descent should be abandoned when it gets stuck.\n",
    "* use_resize (bool) – True if to use the resizing strategy from the paper: first, compute attack on inputs resized to 32x32, then increase size if needed to 64x64, followed by 128x128.\n",
    "* use_importance (bool) – True if to use importance sampling when choosing coordinates to update.\n",
    "* nb_parallel (int) – Number of coordinate updates to run in parallel. A higher value for nb_parallel should be preferred over a large batch size.\n",
    "* batch_size (int) – Internal size of batches on which adversarial samples are generated. Small batch sizes are encouraged for ZOO, as the algorithm already runs nb_parallel coordinate updates in parallel for each sample. The batch size is a multiplier of nb_parallel in terms of memory consumption.\n",
    "* variable_h (float) – Step size for numerical estimation of derivatives.\n",
    "* verbose (bool) – Show progress bars.\n",
    "\n",
    "> generate(x: ndarray, y: Optional[ndarray] = None, **kwargs) → ndarray\n",
    "\n",
    "**Generate adversarial samples and return them in an array.**\n",
    "\n",
    "**Return type**\n",
    "* ndarray\n",
    "\n",
    "**Parameters**\n",
    "* x (ndarray) – An array with the original inputs to be attacked.\n",
    "* y – Target values (class labels) one-hot-encoded of shape (nb_samples, nb_classes) or indices of shape (nb_samples,).\n",
    "\n",
    "**Returns**\n",
    "* An array holding the adversarial examples.\n",
    "\n",
    "**Link**\n",
    "documetation: https://adversarial-robustness-toolbox.readthedocs.io/en/latest/modules/attacks/evasion.html#zeroth-order-optimization-zoo-attack\n",
    "github: https://github.com/Trusted-AI/adversarial-robustness-toolbox/blob/main/art/attacks/evasion/zoo.py"
   ]
  },
  {
   "cell_type": "markdown",
   "metadata": {},
   "source": [
    "### Create an ART ZOO attack."
   ]
  },
  {
   "cell_type": "code",
   "execution_count": 20,
   "metadata": {
    "executionInfo": {
     "elapsed": 113,
     "status": "ok",
     "timestamp": 1702477988137,
     "user": {
      "displayName": "Mujtaba Nazari",
      "userId": "16194551095817193214"
     },
     "user_tz": 360
    },
    "id": "h8mRmKoY8cfU"
   },
   "outputs": [],
   "source": [
    "attack_zoo = ZooAttack(classifier = classifier,\n",
    "                       learning_rate=1.0,\n",
    "                       targeted = False,\n",
    "                       max_iter = 500,\n",
    "                       verbose = True, \n",
    "                       batch_size=32, \n",
    "                       nb_parallel=32)"
   ]
  },
  {
   "cell_type": "markdown",
   "metadata": {},
   "source": [
    "#### Generate adversarial test data."
   ]
  },
  {
   "cell_type": "code",
   "execution_count": 22,
   "metadata": {},
   "outputs": [
    {
     "data": {
      "text/plain": [
       "((100, 28, 28, 1), (100, 10))"
      ]
     },
     "execution_count": 22,
     "metadata": {},
     "output_type": "execute_result"
    }
   ],
   "source": [
    "# x_test_adv = attack_zoo.generate(x_test, y=y_test)\n",
    "np.savez('./ZOO_data/ZOO_generated_mnist_test_data.npz', x_test_adv = x_test_adv, y_test = y_test)\n",
    "test_data = np.load('./ZOO_data/ZOO_generated_mnist_test_data.npz')\n",
    "x_test_adv, y_test = test_data['x_test_adv'], test_data['y_test']\n",
    "x_test_adv.shape, y_test.shape"
   ]
  },
  {
   "cell_type": "markdown",
   "metadata": {
    "id": "zZWR3YD498H9"
   },
   "source": [
    "Visualise the first adversarial test sample."
   ]
  },
  {
   "cell_type": "code",
   "execution_count": 23,
   "metadata": {
    "colab": {
     "base_uri": "https://localhost:8080/",
     "height": 598
    },
    "executionInfo": {
     "elapsed": 2560,
     "status": "ok",
     "timestamp": 1702478461593,
     "user": {
      "displayName": "Mujtaba Nazari",
      "userId": "16194551095817193214"
     },
     "user_tz": 360
    },
    "id": "-W-_o2WJ983J",
    "outputId": "bcf40642-216f-4eef-cd6d-80b00c822e1f"
   },
   "outputs": [
    {
     "data": {
      "image/png": "[encoded data removed]",
      "text/plain": [
       "<Figure size 1500x700 with 10 Axes>"
      ]
     },
     "metadata": {},
     "output_type": "display_data"
    }
   ],
   "source": [
    "fig, ax = plt.subplots(2,5, figsize=(15, 7))\n",
    "ax = ax.flatten()\n",
    "\n",
    "\n",
    "for i, (image, label) in enumerate(zip(x_test_adv[:10], y_test[:10])):\n",
    "  #im_idx = np.argwhere(y_train == i)[0]\n",
    "  ax[i].imshow(image)\n",
    "  ax[i].set_title(f\"Actual Label: {label.argmax()} \\nPredicted: {classifier.predict(np.expand_dims(image, axis=0)).argmax()}\",  fontsize=12)"
   ]
  },
  {
   "cell_type": "markdown",
   "metadata": {
    "id": "Q2Wfw30YA24e"
   },
   "source": [
    "\n",
    "#### Evaluate the trained model"
   ]
  },
  {
   "cell_type": "code",
   "execution_count": 24,
   "metadata": {},
   "outputs": [
    {
     "name": "stdout",
     "output_type": "stream",
     "text": [
      "Accuracy on adversarial test data: 99.00%\n",
      "Average perturbation: 0.00\n"
     ]
    }
   ],
   "source": [
    "loss_test, accuracy_test = model.evaluate(x_test_adv, y_test)\n",
    "perturbation = np.mean(np.abs((x_test_adv - x_test)))\n",
    "print('Accuracy on adversarial test data: {:4.2f}%'.format(accuracy_test * 100))\n",
    "print('Average perturbation: {:4.2f}'.format(perturbation))"
   ]
  },
  {
   "cell_type": "markdown",
   "metadata": {
    "id": "DBRuTQr0aqOh"
   },
   "source": [
    "Training the Detector\n",
    "\n",
    "We create the second model using Keras API with the same strucure of the classifier. Here we use the Keras Sequential model and add a sequence of layers. Afterwards the model is compiles with optimizer, loss function and metrics. This model will be used to classify between ordinary samples and perturbated ones"
   ]
  },
  {
   "cell_type": "code",
   "execution_count": 25,
   "metadata": {
    "executionInfo": {
     "elapsed": 325,
     "status": "ok",
     "timestamp": 1702478486087,
     "user": {
      "displayName": "Mujtaba Nazari",
      "userId": "16194551095817193214"
     },
     "user_tz": 360
    },
    "id": "PV5cNecwGO5n"
   },
   "outputs": [],
   "source": [
    "detector_model = tf.keras.models.Sequential([\n",
    "    # tf.keras.layers.InputLayer(input_shape=(28, 28, 1)),\n",
    "    tf.keras.layers.Conv2D(32, kernel_size=(3, 3), activation='relu', input_shape=(28, 28, 1)),\n",
    "    tf.keras.layers.MaxPooling2D(pool_size=(2, 2)),\n",
    "    tf.keras.layers.Conv2D(64, (3,3), activation = 'relu', strides = 1),\n",
    "    tf.keras.layers.MaxPooling2D(pool_size=(2, 2), strides = 2),\n",
    "    tf.keras.layers.Conv2D(128, (3,3), activation = 'relu', strides = 1),\n",
    "    tf.keras.layers.MaxPooling2D(pool_size=(2, 2), strides = 2),\n",
    "    tf.keras.layers.Flatten(),\n",
    "    tf.keras.layers.Dense(128, activation='relu'),\n",
    "    tf.keras.layers.Dropout(0.2),\n",
    "    tf.keras.layers.Dense(2, activation='softmax')\n",
    "])\n",
    "\n",
    "detector_model.compile(optimizer='adam',\n",
    "                       loss='categorical_crossentropy',\n",
    "                       metrics=['accuracy']);"
   ]
  },
  {
   "cell_type": "markdown",
   "metadata": {},
   "source": [
    "#### Generate Adversarial samples for training the detector model. "
   ]
  },
  {
   "cell_type": "code",
   "execution_count": 44,
   "metadata": {
    "executionInfo": {
     "elapsed": 139,
     "status": "ok",
     "timestamp": 1702478488127,
     "user": {
      "displayName": "Mujtaba Nazari",
      "userId": "16194551095817193214"
     },
     "user_tz": 360
    },
    "id": "S-BjjIR7hWho"
   },
   "outputs": [],
   "source": [
    "# Generating adversarail training data is time taking process. \n",
    "# So, we have decreased the number of samples to 500 to save time, \n",
    "# if you do not want to generate yourself, we have the saved data for your in the next chunk of cells. \n",
    "x_train_adv = attack_zoo.generate(x_train[:500])\n",
    "nb_train = x_train[:500].shape[0]\n",
    "\n",
    "x_train_detector = np.concatenate((x_train[:500], x_train_adv), axis=0)\n",
    "y_train_detector = np.concatenate((np.array([[1,0]]*nb_train), np.array([[0,1]]*nb_train)), axis=0)"
   ]
  },
  {
   "cell_type": "code",
   "execution_count": 23,
   "metadata": {},
   "outputs": [
    {
     "data": {
      "text/plain": [
       "((1000, 28, 28, 1), (1000, 2))"
      ]
     },
     "execution_count": 23,
     "metadata": {},
     "output_type": "execute_result"
    }
   ],
   "source": [
    "# np.savez('./ZOO_data/ZOO_generated_mnist_detector.npz', x_train_detector = x_train_detector, y_train_detector = y_train_detector)\n",
    "detector_data = np.load('./ZOO_data/ZOO_generated_mnist_detector.npz')\n",
    "x_train_detector, y_train_detector = detector_data['x_train_detector'], detector_data['y_train_detector']\n",
    "x_train_detector.shape, y_train_detector.shape"
   ]
  },
  {
   "cell_type": "markdown",
   "metadata": {
    "id": "ezUJeRuJhw65"
   },
   "source": [
    "Note: the robust classifier has the same architecture as above, except the first dense layer has 1024 instead of 128 units. (This was recommend by Madry et al. (2017), Towards Deep Learning Models Resistant to Adversarial Attacks)"
   ]
  },
  {
   "cell_type": "code",
   "execution_count": 24,
   "metadata": {
    "colab": {
     "base_uri": "https://localhost:8080/"
    },
    "executionInfo": {
     "elapsed": 322,
     "status": "ok",
     "timestamp": 1702478490038,
     "user": {
      "displayName": "Mujtaba Nazari",
      "userId": "16194551095817193214"
     },
     "user_tz": 360
    },
    "id": "7I1bQuQVhu7q",
    "outputId": "c047ef06-f490-40fe-94db-17258d10c678"
   },
   "outputs": [
    {
     "name": "stdout",
     "output_type": "stream",
     "text": [
      "Train on 1000 samples\n",
      "Epoch 1/10\n",
      "  32/1000 [..............................] - ETA: 2s - loss: 0.7012 - accuracy: 0.5312"
     ]
    },
    {
     "name": "stderr",
     "output_type": "stream",
     "text": [
      "2024-05-29 19:43:44.204343: W tensorflow/c/c_api.cc:291] Operation '{name:'training_2/Adam/dense_4/kernel/v/Assign' id:1258 op device:{requested: '', assigned: ''} def:{{{node training_2/Adam/dense_4/kernel/v/Assign}} = AssignVariableOp[_has_manual_control_dependencies=true, dtype=DT_FLOAT, validate_shape=false](training_2/Adam/dense_4/kernel/v, training_2/Adam/dense_4/kernel/v/Initializer/zeros)}}' was changed by setting attribute after it was run by a session. This mutation will have no effect, and will trigger an error in the future. Either don't modify nodes after running them or create a new session.\n"
     ]
    },
    {
     "name": "stdout",
     "output_type": "stream",
     "text": [
      "1000/1000 [==============================] - 0s 270us/sample - loss: 0.6993 - accuracy: 0.5050\n",
      "Epoch 2/10\n",
      "1000/1000 [==============================] - 0s 92us/sample - loss: 0.6920 - accuracy: 0.5110\n",
      "Epoch 3/10\n",
      "1000/1000 [==============================] - 0s 78us/sample - loss: 0.6727 - accuracy: 0.5540\n",
      "Epoch 4/10\n",
      "1000/1000 [==============================] - 0s 89us/sample - loss: 0.6528 - accuracy: 0.5920\n",
      "Epoch 5/10\n",
      "1000/1000 [==============================] - 0s 78us/sample - loss: 0.6243 - accuracy: 0.6070\n",
      "Epoch 6/10\n",
      "1000/1000 [==============================] - 0s 81us/sample - loss: 0.6141 - accuracy: 0.6030\n",
      "Epoch 7/10\n",
      "1000/1000 [==============================] - 0s 80us/sample - loss: 0.6114 - accuracy: 0.6030\n",
      "Epoch 8/10\n",
      "1000/1000 [==============================] - 0s 77us/sample - loss: 0.6061 - accuracy: 0.6170\n",
      "Epoch 9/10\n",
      "1000/1000 [==============================] - 0s 74us/sample - loss: 0.6064 - accuracy: 0.6140\n",
      "Epoch 10/10\n",
      "1000/1000 [==============================] - 0s 76us/sample - loss: 0.6038 - accuracy: 0.6120\n"
     ]
    },
    {
     "data": {
      "text/plain": [
       "<keras.callbacks.History at 0x7f163445a1d0>"
      ]
     },
     "execution_count": 24,
     "metadata": {},
     "output_type": "execute_result"
    }
   ],
   "source": [
    "detector_model.fit(x_train_detector, y_train_detector, epochs=10)"
   ]
  },
  {
   "cell_type": "markdown",
   "metadata": {},
   "source": [
    "#### Evaluate the adversarial generated data"
   ]
  },
  {
   "cell_type": "code",
   "execution_count": 25,
   "metadata": {
    "executionInfo": {
     "elapsed": 120,
     "status": "ok",
     "timestamp": 1702478492344,
     "user": {
      "displayName": "Mujtaba Nazari",
      "userId": "16194551095817193214"
     },
     "user_tz": 360
    },
    "id": "-_iAjagBfPMZ"
   },
   "outputs": [],
   "source": [
    "x_test = x_test[:100]\n",
    "nb_test = x_test.shape[0]\n",
    "\n",
    "x_test_detector = np.concatenate((x_test, x_test_adv), axis=0)\n",
    "y_test_detector = np.concatenate((np.array([[1,0]]*nb_test), np.array([[0,1]]*nb_test)), axis=0)"
   ]
  },
  {
   "cell_type": "code",
   "execution_count": 26,
   "metadata": {},
   "outputs": [
    {
     "name": "stdout",
     "output_type": "stream",
     "text": [
      "Accuracy on test data: 63.50%\n"
     ]
    },
    {
     "name": "stderr",
     "output_type": "stream",
     "text": [
      "2024-05-29 19:45:11.639991: W tensorflow/c/c_api.cc:291] Operation '{name:'loss_2/mul' id:1053 op device:{requested: '', assigned: ''} def:{{{node loss_2/mul}} = Mul[T=DT_FLOAT, _has_manual_control_dependencies=true](loss_2/mul/x, loss_2/dense_5_loss/value)}}' was changed by setting attribute after it was run by a session. This mutation will have no effect, and will trigger an error in the future. Either don't modify nodes after running them or create a new session.\n"
     ]
    }
   ],
   "source": [
    "loss_test, accuracy_test = detector_model.evaluate(x_test_detector, y_test_detector)\n",
    "print('Accuracy on test data: {:4.2f}%'.format(accuracy_test * 100))"
   ]
  },
  {
   "cell_type": "code",
   "execution_count": 27,
   "metadata": {},
   "outputs": [],
   "source": [
    "detector_classifier = KerasClassifier(clip_values=(0.0, 0.1), model=detector_model, use_logits=False)\n",
    "detector = BinaryInputDetector(detector_classifier)"
   ]
  },
  {
   "cell_type": "code",
   "execution_count": 28,
   "metadata": {},
   "outputs": [],
   "source": [
    "detector.fit(x_train_detector, y_train_detector, nb_epochs=3, batch_size=32)"
   ]
  },
  {
   "cell_type": "markdown",
   "metadata": {},
   "source": [
    "### Evaluating the detector\n",
    "\n",
    "Apply the detector to the adversarial test data:"
   ]
  },
  {
   "cell_type": "code",
   "execution_count": 29,
   "metadata": {},
   "outputs": [
    {
     "name": "stdout",
     "output_type": "stream",
     "text": [
      "Adversarial test data (first 100 images):\n",
      "Flagged: 24\n",
      "Not flagged: 76\n"
     ]
    },
    {
     "name": "stderr",
     "output_type": "stream",
     "text": [
      "2024-05-29 19:45:58.816622: W tensorflow/c/c_api.cc:291] Operation '{name:'dense_5/Softmax' id:977 op device:{requested: '', assigned: ''} def:{{{node dense_5/Softmax}} = Softmax[T=DT_FLOAT, _has_manual_control_dependencies=true](dense_5/BiasAdd)}}' was changed by setting attribute after it was run by a session. This mutation will have no effect, and will trigger an error in the future. Either don't modify nodes after running them or create a new session.\n"
     ]
    }
   ],
   "source": [
    "_, is_adversarial = detector.detect(x_test_adv)\n",
    "flag_adv = np.sum(is_adversarial)\n",
    "\n",
    "print(\"Adversarial test data (first 100 images):\")\n",
    "print(\"Flagged: {}\".format(flag_adv))\n",
    "print(\"Not flagged: {}\".format(100 - flag_adv))"
   ]
  },
  {
   "cell_type": "markdown",
   "metadata": {},
   "source": [
    "Apply the detector to the first 100 original test images:"
   ]
  },
  {
   "cell_type": "code",
   "execution_count": 30,
   "metadata": {},
   "outputs": [
    {
     "name": "stdout",
     "output_type": "stream",
     "text": [
      "Original test data (first 100 images):\n",
      "Flagged: 0\n",
      "Not flagged: 100\n"
     ]
    }
   ],
   "source": [
    "_, is_adversarial = detector.detect(x_test)\n",
    "flag_original = np.sum(is_adversarial)\n",
    "\n",
    "print(\"Original test data (first 100 images):\")\n",
    "print(\"Flagged: {}\".format(flag_original))\n",
    "print(\"Not flagged: {}\".format(100 - flag_original))"
   ]
  },
  {
   "cell_type": "markdown",
   "metadata": {
    "id": "fsEsTfVjjR59"
   },
   "source": [
    "Evaluate the robust classifier's performance on the adversarial test data (black-box setting):"
   ]
  },
  {
   "cell_type": "code",
   "execution_count": 34,
   "metadata": {
    "colab": {
     "base_uri": "https://localhost:8080/"
    },
    "executionInfo": {
     "elapsed": 680,
     "status": "ok",
     "timestamp": 1702487298642,
     "user": {
      "displayName": "Mujtaba Nazari",
      "userId": "16194551095817193214"
     },
     "user_tz": 360
    },
    "id": "l5m7Kw8ICtls",
    "outputId": "fd0a8f34-40a3-46ff-d19c-f7b8590dffbb"
   },
   "outputs": [
    {
     "data": {
      "application/vnd.jupyter.widget-view+json": {
       "model_id": "88a6dd536f5f409fb760f053f6dc402c",
       "version_major": 2,
       "version_minor": 0
      },
      "text/plain": [
       "ZOO:   0%|          | 0/4 [00:00<?, ?it/s]"
      ]
     },
     "metadata": {},
     "output_type": "display_data"
    },
    {
     "data": {
      "application/vnd.jupyter.widget-view+json": {
       "model_id": "26c53bba02ad4cb89f28cfbb39cdbc01",
       "version_major": 2,
       "version_minor": 0
      },
      "text/plain": [
       "ZOO:   0%|          | 0/4 [00:00<?, ?it/s]"
      ]
     },
     "metadata": {},
     "output_type": "display_data"
    },
    {
     "data": {
      "application/vnd.jupyter.widget-view+json": {
       "model_id": "31c5546cd68d49bd91ee94a6f799dba6",
       "version_major": 2,
       "version_minor": 0
      },
      "text/plain": [
       "ZOO:   0%|          | 0/4 [00:00<?, ?it/s]"
      ]
     },
     "metadata": {},
     "output_type": "display_data"
    },
    {
     "data": {
      "application/vnd.jupyter.widget-view+json": {
       "model_id": "36eae6cc6d58430da526baf940dd6866",
       "version_major": 2,
       "version_minor": 0
      },
      "text/plain": [
       "ZOO:   0%|          | 0/4 [00:00<?, ?it/s]"
      ]
     },
     "metadata": {},
     "output_type": "display_data"
    },
    {
     "data": {
      "application/vnd.jupyter.widget-view+json": {
       "model_id": "bb1da3097de4482b910b6abb5eaa5858",
       "version_major": 2,
       "version_minor": 0
      },
      "text/plain": [
       "ZOO:   0%|          | 0/4 [00:00<?, ?it/s]"
      ]
     },
     "metadata": {},
     "output_type": "display_data"
    },
    {
     "data": {
      "application/vnd.jupyter.widget-view+json": {
       "model_id": "c1966db2d95840a4959744436112df8b",
       "version_major": 2,
       "version_minor": 0
      },
      "text/plain": [
       "ZOO:   0%|          | 0/4 [00:00<?, ?it/s]"
      ]
     },
     "metadata": {},
     "output_type": "display_data"
    },
    {
     "data": {
      "application/vnd.jupyter.widget-view+json": {
       "model_id": "f65e9e236d9642de880f97e669887413",
       "version_major": 2,
       "version_minor": 0
      },
      "text/plain": [
       "ZOO:   0%|          | 0/4 [00:00<?, ?it/s]"
      ]
     },
     "metadata": {},
     "output_type": "display_data"
    },
    {
     "data": {
      "application/vnd.jupyter.widget-view+json": {
       "model_id": "4c666b74cb3949049719daec6347c289",
       "version_major": 2,
       "version_minor": 0
      },
      "text/plain": [
       "ZOO:   0%|          | 0/4 [00:00<?, ?it/s]"
      ]
     },
     "metadata": {},
     "output_type": "display_data"
    }
   ],
   "source": [
    "learning_rate = [0.01, 0.02, 0.03, 0.04, 0.05, 0.1, 0.2, 0.3]\n",
    "nb_flag_adv = []\n",
    "nb_missclass = []\n",
    "\n",
    "\n",
    "attack_zoo.set_params(**{'max_iter' : 10})\n",
    "\n",
    "for rate in learning_rate:\n",
    "    attack_zoo.set_params(**{'learning_rate': rate})\n",
    "    x_test_adv = attack_zoo.generate(x_test[:100])\n",
    "    nb_flag_adv += [np.sum(detector.detect(x_test_adv)[1])]\n",
    "    nb_missclass += [np.sum(np.argmax(classifier.predict(x_test_adv), axis=1) != np.argmax(y_test[:100], axis=1))]\n",
    "\n",
    "learning_range = [0] + learning_rate\n",
    "nb_flag_adv = [flag_original] + nb_flag_adv\n",
    "nb_missclass = [2] + nb_missclass"
   ]
  },
  {
   "cell_type": "code",
   "execution_count": 35,
   "metadata": {},
   "outputs": [
    {
     "data": {
      "image/png": "[encoded data removed]",
      "text/plain": [
       "<Figure size 640x480 with 1 Axes>"
      ]
     },
     "metadata": {},
     "output_type": "display_data"
    }
   ],
   "source": [
    "fig, ax = plt.subplots()\n",
    "ax.plot(np.array(learning_range)[:8], np.array(nb_flag_adv)[:8], 'b--', label='Detector flags')\n",
    "ax.plot(np.array(learning_range)[:8], np.array(nb_missclass)[:8], 'r--', label='Classifier errors')\n",
    "\n",
    "legend = ax.legend(loc='center right', shadow=True, fontsize='large')\n",
    "legend.get_frame().set_facecolor('#00FFCC')\n",
    "\n",
    "plt.xlabel('Attack strength (learning rate)')\n",
    "plt.ylabel('Per 100 adversarial samples')\n",
    "plt.show()"
   ]
  },
  {
   "cell_type": "markdown",
   "metadata": {
    "id": "lV8-wS6ka9Mq"
   },
   "source": [
    "Evaluate the adversarial generated data"
   ]
  },
  {
   "cell_type": "markdown",
   "metadata": {
    "id": "6s-ZP9HSB0R5"
   },
   "source": [
    "### **Summary**\n",
    "\n",
    "\n",
    "#### Zeroth-Order Optimization (ZOO) Attack and Binary Input Detector Using MNIST-10\n",
    "\n",
    "This notebook demonstrates the implementation of the ZOO attack using the Adversarial Robustness Toolbox (ART) against deep learning models trained on the MNIST-10 dataset. The tasks covered include:\n",
    "\n",
    "1. **Load the Required Libraries:** Import necessary Python libraries and modules, including TensorFlow/Keras and ART.\n",
    "2. **Load the Dataset and Inspect the Data:** Load and visualize the MNIST-10 dataset of handwritten digits (0-9).\n",
    "3. **Create a Deep Learning Model:** Construct a CNN to classify MNIST-10 digits, including convolutional, pooling, and fully connected layers.\n",
    "4. **Train and Evaluate the Model:** Train the CNN on MNIST-10 and evaluate its baseline accuracy on test data.\n",
    "5. **Implement ZOO Attack Using ART:** The Zeroth Order Optimization (ZOO) attack is notable for its effectiveness in black-box settings, where only the model's output is accessible.\n",
    "6. **Create Adversarial Samples Using ZOO:** Generate adversarial examples from the test images using ZOO and visually inspect them.\n",
    "7. **Evaluate Against Adversarial Samples:** Test the model's robustness by evaluating its accuracy on the adversarial samples.\n",
    "8. **Create a Detector Model:** Develop a binary classifier to detect adversarial inputs by differentiating between original and adversarial images.\n",
    "9. **Train and Evaluate the Detector:** Train the detector using a labeled dataset of original and adversarial samples, and evaluate its accuracy in identifying adversarial attacks.\n",
    "\n",
    "This summary highlights the process and key tasks involved in implementing the ZOO attack and developing a binary input detector using the MNIST-10 dataset, illustrating the importance of adversarial defenses in machine learning."
   ]
  }
 ],
 "metadata": {
  "colab": {
   "authorship_tag": "ABX9TyOhkQCCBDMMywdsb1b7Pntk",
   "provenance": []
  },
  "kernelspec": {
   "display_name": "ART",
   "language": "python",
   "name": "python3"
  },
  "language_info": {
   "codemirror_mode": {
    "name": "ipython",
    "version": 3
   },
   "file_extension": ".py",
   "mimetype": "text/x-python",
   "name": "python",
   "nbconvert_exporter": "python",
   "pygments_lexer": "ipython3",
   "version": "3.10.13"
  },
  "widgets": {
   "application/vnd.jupyter.widget-state+json": {
    "06810896bb47453692ad4a451bb3cda3": {
     "model_module": "@jupyter-widgets/controls",
     "model_module_version": "1.5.0",
     "model_name": "DescriptionStyleModel",
     "state": {
      "_model_module": "@jupyter-widgets/controls",
      "_model_module_version": "1.5.0",
      "_model_name": "DescriptionStyleModel",
      "_view_count": null,
      "_view_module": "@jupyter-widgets/base",
      "_view_module_version": "1.2.0",
      "_view_name": "StyleView",
      "description_width": ""
     }
    },
    "1494ed9a62034be1b23b47abe9a0910b": {
     "model_module": "@jupyter-widgets/base",
     "model_module_version": "1.2.0",
     "model_name": "LayoutModel",
     "state": {
      "_model_module": "@jupyter-widgets/base",
      "_model_module_version": "1.2.0",
      "_model_name": "LayoutModel",
      "_view_count": null,
      "_view_module": "@jupyter-widgets/base",
      "_view_module_version": "1.2.0",
      "_view_name": "LayoutView",
      "align_content": null,
      "align_items": null,
      "align_self": null,
      "border": null,
      "bottom": null,
      "display": null,
      "flex": null,
      "flex_flow": null,
      "grid_area": null,
      "grid_auto_columns": null,
      "grid_auto_flow": null,
      "grid_auto_rows": null,
      "grid_column": null,
      "grid_gap": null,
      "grid_row": null,
      "grid_template_areas": null,
      "grid_template_columns": null,
      "grid_template_rows": null,
      "height": null,
      "justify_content": null,
      "justify_items": null,
      "left": null,
      "margin": null,
      "max_height": null,
      "max_width": null,
      "min_height": null,
      "min_width": null,
      "object_fit": null,
      "object_position": null,
      "order": null,
      "overflow": null,
      "overflow_x": null,
      "overflow_y": null,
      "padding": null,
      "right": null,
      "top": null,
      "visibility": null,
      "width": null
     }
    },
    "156670574ce943cd8c41ba970f3f6b87": {
     "model_module": "@jupyter-widgets/controls",
     "model_module_version": "1.5.0",
     "model_name": "FloatProgressModel",
     "state": {
      "_dom_classes": [],
      "_model_module": "@jupyter-widgets/controls",
      "_model_module_version": "1.5.0",
      "_model_name": "FloatProgressModel",
      "_view_count": null,
      "_view_module": "@jupyter-widgets/controls",
      "_view_module_version": "1.5.0",
      "_view_name": "ProgressView",
      "bar_style": "success",
      "description": "",
      "description_tooltip": null,
      "layout": "IPY_MODEL_4d0d31968f914b97b9efe5805942e983",
      "max": 1,
      "min": 0,
      "orientation": "horizontal",
      "style": "IPY_MODEL_8fe548268c11438391335a2ec0f128e5",
      "value": 1
     }
    },
    "1cd87b8a14954c57a95a1a18e1955207": {
     "model_module": "@jupyter-widgets/controls",
     "model_module_version": "1.5.0",
     "model_name": "HTMLModel",
     "state": {
      "_dom_classes": [],
      "_model_module": "@jupyter-widgets/controls",
      "_model_module_version": "1.5.0",
      "_model_name": "HTMLModel",
      "_view_count": null,
      "_view_module": "@jupyter-widgets/controls",
      "_view_module_version": "1.5.0",
      "_view_name": "HTMLView",
      "description": "",
      "description_tooltip": null,
      "layout": "IPY_MODEL_300b86bac1bb439d831722afebb62570",
      "placeholder": "​",
      "style": "IPY_MODEL_06810896bb47453692ad4a451bb3cda3",
      "value": "Precompute adv samples: 100%"
     }
    },
    "2a56358bd6d449a9abf8e7ba93b08259": {
     "model_module": "@jupyter-widgets/controls",
     "model_module_version": "1.5.0",
     "model_name": "HTMLModel",
     "state": {
      "_dom_classes": [],
      "_model_module": "@jupyter-widgets/controls",
      "_model_module_version": "1.5.0",
      "_model_name": "HTMLModel",
      "_view_count": null,
      "_view_module": "@jupyter-widgets/controls",
      "_view_module_version": "1.5.0",
      "_view_name": "HTMLView",
      "description": "",
      "description_tooltip": null,
      "layout": "IPY_MODEL_73e1e0699abe40b5b5046292448aecee",
      "placeholder": "​",
      "style": "IPY_MODEL_f6e342d6cf574e1583fc24e07e8fe0c5",
      "value": " 10/10 [06:44&lt;00:00, 40.14s/it]"
     }
    },
    "300b86bac1bb439d831722afebb62570": {
     "model_module": "@jupyter-widgets/base",
     "model_module_version": "1.2.0",
     "model_name": "LayoutModel",
     "state": {
      "_model_module": "@jupyter-widgets/base",
      "_model_module_version": "1.2.0",
      "_model_name": "LayoutModel",
      "_view_count": null,
      "_view_module": "@jupyter-widgets/base",
      "_view_module_version": "1.2.0",
      "_view_name": "LayoutView",
      "align_content": null,
      "align_items": null,
      "align_self": null,
      "border": null,
      "bottom": null,
      "display": null,
      "flex": null,
      "flex_flow": null,
      "grid_area": null,
      "grid_auto_columns": null,
      "grid_auto_flow": null,
      "grid_auto_rows": null,
      "grid_column": null,
      "grid_gap": null,
      "grid_row": null,
      "grid_template_areas": null,
      "grid_template_columns": null,
      "grid_template_rows": null,
      "height": null,
      "justify_content": null,
      "justify_items": null,
      "left": null,
      "margin": null,
      "max_height": null,
      "max_width": null,
      "min_height": null,
      "min_width": null,
      "object_fit": null,
      "object_position": null,
      "order": null,
      "overflow": null,
      "overflow_x": null,
      "overflow_y": null,
      "padding": null,
      "right": null,
      "top": null,
      "visibility": null,
      "width": null
     }
    },
    "320ae293572a49d985bca6e1f290f531": {
     "model_module": "@jupyter-widgets/controls",
     "model_module_version": "1.5.0",
     "model_name": "ProgressStyleModel",
     "state": {
      "_model_module": "@jupyter-widgets/controls",
      "_model_module_version": "1.5.0",
      "_model_name": "ProgressStyleModel",
      "_view_count": null,
      "_view_module": "@jupyter-widgets/base",
      "_view_module_version": "1.2.0",
      "_view_name": "StyleView",
      "bar_color": null,
      "description_width": ""
     }
    },
    "441f850d6e074c239a1da6ddf2c8b936": {
     "model_module": "@jupyter-widgets/controls",
     "model_module_version": "1.5.0",
     "model_name": "HTMLModel",
     "state": {
      "_dom_classes": [],
      "_model_module": "@jupyter-widgets/controls",
      "_model_module_version": "1.5.0",
      "_model_name": "HTMLModel",
      "_view_count": null,
      "_view_module": "@jupyter-widgets/controls",
      "_view_module_version": "1.5.0",
      "_view_name": "HTMLView",
      "description": "",
      "description_tooltip": null,
      "layout": "IPY_MODEL_4ed1bffb649f452989812f33bc853b15",
      "placeholder": "​",
      "style": "IPY_MODEL_446f3ec4f36e423a8af5314d52944e28",
      "value": "Adversarial training epochs: 100%"
     }
    },
    "446f3ec4f36e423a8af5314d52944e28": {
     "model_module": "@jupyter-widgets/controls",
     "model_module_version": "1.5.0",
     "model_name": "DescriptionStyleModel",
     "state": {
      "_model_module": "@jupyter-widgets/controls",
      "_model_module_version": "1.5.0",
      "_model_name": "DescriptionStyleModel",
      "_view_count": null,
      "_view_module": "@jupyter-widgets/base",
      "_view_module_version": "1.2.0",
      "_view_name": "StyleView",
      "description_width": ""
     }
    },
    "4d0d31968f914b97b9efe5805942e983": {
     "model_module": "@jupyter-widgets/base",
     "model_module_version": "1.2.0",
     "model_name": "LayoutModel",
     "state": {
      "_model_module": "@jupyter-widgets/base",
      "_model_module_version": "1.2.0",
      "_model_name": "LayoutModel",
      "_view_count": null,
      "_view_module": "@jupyter-widgets/base",
      "_view_module_version": "1.2.0",
      "_view_name": "LayoutView",
      "align_content": null,
      "align_items": null,
      "align_self": null,
      "border": null,
      "bottom": null,
      "display": null,
      "flex": null,
      "flex_flow": null,
      "grid_area": null,
      "grid_auto_columns": null,
      "grid_auto_flow": null,
      "grid_auto_rows": null,
      "grid_column": null,
      "grid_gap": null,
      "grid_row": null,
      "grid_template_areas": null,
      "grid_template_columns": null,
      "grid_template_rows": null,
      "height": null,
      "justify_content": null,
      "justify_items": null,
      "left": null,
      "margin": null,
      "max_height": null,
      "max_width": null,
      "min_height": null,
      "min_width": null,
      "object_fit": null,
      "object_position": null,
      "order": null,
      "overflow": null,
      "overflow_x": null,
      "overflow_y": null,
      "padding": null,
      "right": null,
      "top": null,
      "visibility": null,
      "width": null
     }
    },
    "4ed1bffb649f452989812f33bc853b15": {
     "model_module": "@jupyter-widgets/base",
     "model_module_version": "1.2.0",
     "model_name": "LayoutModel",
     "state": {
      "_model_module": "@jupyter-widgets/base",
      "_model_module_version": "1.2.0",
      "_model_name": "LayoutModel",
      "_view_count": null,
      "_view_module": "@jupyter-widgets/base",
      "_view_module_version": "1.2.0",
      "_view_name": "LayoutView",
      "align_content": null,
      "align_items": null,
      "align_self": null,
      "border": null,
      "bottom": null,
      "display": null,
      "flex": null,
      "flex_flow": null,
      "grid_area": null,
      "grid_auto_columns": null,
      "grid_auto_flow": null,
      "grid_auto_rows": null,
      "grid_column": null,
      "grid_gap": null,
      "grid_row": null,
      "grid_template_areas": null,
      "grid_template_columns": null,
      "grid_template_rows": null,
      "height": null,
      "justify_content": null,
      "justify_items": null,
      "left": null,
      "margin": null,
      "max_height": null,
      "max_width": null,
      "min_height": null,
      "min_width": null,
      "object_fit": null,
      "object_position": null,
      "order": null,
      "overflow": null,
      "overflow_x": null,
      "overflow_y": null,
      "padding": null,
      "right": null,
      "top": null,
      "visibility": null,
      "width": null
     }
    },
    "630e5fd73cb74a84b5c78cfd3ced1301": {
     "model_module": "@jupyter-widgets/base",
     "model_module_version": "1.2.0",
     "model_name": "LayoutModel",
     "state": {
      "_model_module": "@jupyter-widgets/base",
      "_model_module_version": "1.2.0",
      "_model_name": "LayoutModel",
      "_view_count": null,
      "_view_module": "@jupyter-widgets/base",
      "_view_module_version": "1.2.0",
      "_view_name": "LayoutView",
      "align_content": null,
      "align_items": null,
      "align_self": null,
      "border": null,
      "bottom": null,
      "display": null,
      "flex": null,
      "flex_flow": null,
      "grid_area": null,
      "grid_auto_columns": null,
      "grid_auto_flow": null,
      "grid_auto_rows": null,
      "grid_column": null,
      "grid_gap": null,
      "grid_row": null,
      "grid_template_areas": null,
      "grid_template_columns": null,
      "grid_template_rows": null,
      "height": null,
      "justify_content": null,
      "justify_items": null,
      "left": null,
      "margin": null,
      "max_height": null,
      "max_width": null,
      "min_height": null,
      "min_width": null,
      "object_fit": null,
      "object_position": null,
      "order": null,
      "overflow": null,
      "overflow_x": null,
      "overflow_y": null,
      "padding": null,
      "right": null,
      "top": null,
      "visibility": null,
      "width": null
     }
    },
    "73d15768cae34d808297f3639beac630": {
     "model_module": "@jupyter-widgets/base",
     "model_module_version": "1.2.0",
     "model_name": "LayoutModel",
     "state": {
      "_model_module": "@jupyter-widgets/base",
      "_model_module_version": "1.2.0",
      "_model_name": "LayoutModel",
      "_view_count": null,
      "_view_module": "@jupyter-widgets/base",
      "_view_module_version": "1.2.0",
      "_view_name": "LayoutView",
      "align_content": null,
      "align_items": null,
      "align_self": null,
      "border": null,
      "bottom": null,
      "display": null,
      "flex": null,
      "flex_flow": null,
      "grid_area": null,
      "grid_auto_columns": null,
      "grid_auto_flow": null,
      "grid_auto_rows": null,
      "grid_column": null,
      "grid_gap": null,
      "grid_row": null,
      "grid_template_areas": null,
      "grid_template_columns": null,
      "grid_template_rows": null,
      "height": null,
      "justify_content": null,
      "justify_items": null,
      "left": null,
      "margin": null,
      "max_height": null,
      "max_width": null,
      "min_height": null,
      "min_width": null,
      "object_fit": null,
      "object_position": null,
      "order": null,
      "overflow": null,
      "overflow_x": null,
      "overflow_y": null,
      "padding": null,
      "right": null,
      "top": null,
      "visibility": null,
      "width": null
     }
    },
    "73e1e0699abe40b5b5046292448aecee": {
     "model_module": "@jupyter-widgets/base",
     "model_module_version": "1.2.0",
     "model_name": "LayoutModel",
     "state": {
      "_model_module": "@jupyter-widgets/base",
      "_model_module_version": "1.2.0",
      "_model_name": "LayoutModel",
      "_view_count": null,
      "_view_module": "@jupyter-widgets/base",
      "_view_module_version": "1.2.0",
      "_view_name": "LayoutView",
      "align_content": null,
      "align_items": null,
      "align_self": null,
      "border": null,
      "bottom": null,
      "display": null,
      "flex": null,
      "flex_flow": null,
      "grid_area": null,
      "grid_auto_columns": null,
      "grid_auto_flow": null,
      "grid_auto_rows": null,
      "grid_column": null,
      "grid_gap": null,
      "grid_row": null,
      "grid_template_areas": null,
      "grid_template_columns": null,
      "grid_template_rows": null,
      "height": null,
      "justify_content": null,
      "justify_items": null,
      "left": null,
      "margin": null,
      "max_height": null,
      "max_width": null,
      "min_height": null,
      "min_width": null,
      "object_fit": null,
      "object_position": null,
      "order": null,
      "overflow": null,
      "overflow_x": null,
      "overflow_y": null,
      "padding": null,
      "right": null,
      "top": null,
      "visibility": null,
      "width": null
     }
    },
    "754792403e6e4655adefe60134d3d17e": {
     "model_module": "@jupyter-widgets/controls",
     "model_module_version": "1.5.0",
     "model_name": "DescriptionStyleModel",
     "state": {
      "_model_module": "@jupyter-widgets/controls",
      "_model_module_version": "1.5.0",
      "_model_name": "DescriptionStyleModel",
      "_view_count": null,
      "_view_module": "@jupyter-widgets/base",
      "_view_module_version": "1.2.0",
      "_view_name": "StyleView",
      "description_width": ""
     }
    },
    "83a0e4195d854b63a179b092de382de8": {
     "model_module": "@jupyter-widgets/controls",
     "model_module_version": "1.5.0",
     "model_name": "FloatProgressModel",
     "state": {
      "_dom_classes": [],
      "_model_module": "@jupyter-widgets/controls",
      "_model_module_version": "1.5.0",
      "_model_name": "FloatProgressModel",
      "_view_count": null,
      "_view_module": "@jupyter-widgets/controls",
      "_view_module_version": "1.5.0",
      "_view_name": "ProgressView",
      "bar_style": "success",
      "description": "",
      "description_tooltip": null,
      "layout": "IPY_MODEL_73d15768cae34d808297f3639beac630",
      "max": 10,
      "min": 0,
      "orientation": "horizontal",
      "style": "IPY_MODEL_320ae293572a49d985bca6e1f290f531",
      "value": 10
     }
    },
    "8fe548268c11438391335a2ec0f128e5": {
     "model_module": "@jupyter-widgets/controls",
     "model_module_version": "1.5.0",
     "model_name": "ProgressStyleModel",
     "state": {
      "_model_module": "@jupyter-widgets/controls",
      "_model_module_version": "1.5.0",
      "_model_name": "ProgressStyleModel",
      "_view_count": null,
      "_view_module": "@jupyter-widgets/base",
      "_view_module_version": "1.2.0",
      "_view_name": "StyleView",
      "bar_color": null,
      "description_width": ""
     }
    },
    "b74e79e7361c4d36895b2c2a831a8bdc": {
     "model_module": "@jupyter-widgets/controls",
     "model_module_version": "1.5.0",
     "model_name": "HBoxModel",
     "state": {
      "_dom_classes": [],
      "_model_module": "@jupyter-widgets/controls",
      "_model_module_version": "1.5.0",
      "_model_name": "HBoxModel",
      "_view_count": null,
      "_view_module": "@jupyter-widgets/controls",
      "_view_module_version": "1.5.0",
      "_view_name": "HBoxView",
      "box_style": "",
      "children": [
       "IPY_MODEL_441f850d6e074c239a1da6ddf2c8b936",
       "IPY_MODEL_83a0e4195d854b63a179b092de382de8",
       "IPY_MODEL_2a56358bd6d449a9abf8e7ba93b08259"
      ],
      "layout": "IPY_MODEL_1494ed9a62034be1b23b47abe9a0910b"
     }
    },
    "bd3aa086913a40a296648ff6c83b9432": {
     "model_module": "@jupyter-widgets/controls",
     "model_module_version": "1.5.0",
     "model_name": "HTMLModel",
     "state": {
      "_dom_classes": [],
      "_model_module": "@jupyter-widgets/controls",
      "_model_module_version": "1.5.0",
      "_model_name": "HTMLModel",
      "_view_count": null,
      "_view_module": "@jupyter-widgets/controls",
      "_view_module_version": "1.5.0",
      "_view_name": "HTMLView",
      "description": "",
      "description_tooltip": null,
      "layout": "IPY_MODEL_630e5fd73cb74a84b5c78cfd3ced1301",
      "placeholder": "​",
      "style": "IPY_MODEL_754792403e6e4655adefe60134d3d17e",
      "value": " 1/1 [00:00&lt;00:00, 28.16it/s]"
     }
    },
    "d9da6284f245445fb4f0997b2c1242a9": {
     "model_module": "@jupyter-widgets/controls",
     "model_module_version": "1.5.0",
     "model_name": "HBoxModel",
     "state": {
      "_dom_classes": [],
      "_model_module": "@jupyter-widgets/controls",
      "_model_module_version": "1.5.0",
      "_model_name": "HBoxModel",
      "_view_count": null,
      "_view_module": "@jupyter-widgets/controls",
      "_view_module_version": "1.5.0",
      "_view_name": "HBoxView",
      "box_style": "",
      "children": [
       "IPY_MODEL_1cd87b8a14954c57a95a1a18e1955207",
       "IPY_MODEL_156670574ce943cd8c41ba970f3f6b87",
       "IPY_MODEL_bd3aa086913a40a296648ff6c83b9432"
      ],
      "layout": "IPY_MODEL_de1c6a87afeb4a959122dd83c73245a0"
     }
    },
    "de1c6a87afeb4a959122dd83c73245a0": {
     "model_module": "@jupyter-widgets/base",
     "model_module_version": "1.2.0",
     "model_name": "LayoutModel",
     "state": {
      "_model_module": "@jupyter-widgets/base",
      "_model_module_version": "1.2.0",
      "_model_name": "LayoutModel",
      "_view_count": null,
      "_view_module": "@jupyter-widgets/base",
      "_view_module_version": "1.2.0",
      "_view_name": "LayoutView",
      "align_content": null,
      "align_items": null,
      "align_self": null,
      "border": null,
      "bottom": null,
      "display": null,
      "flex": null,
      "flex_flow": null,
      "grid_area": null,
      "grid_auto_columns": null,
      "grid_auto_flow": null,
      "grid_auto_rows": null,
      "grid_column": null,
      "grid_gap": null,
      "grid_row": null,
      "grid_template_areas": null,
      "grid_template_columns": null,
      "grid_template_rows": null,
      "height": null,
      "justify_content": null,
      "justify_items": null,
      "left": null,
      "margin": null,
      "max_height": null,
      "max_width": null,
      "min_height": null,
      "min_width": null,
      "object_fit": null,
      "object_position": null,
      "order": null,
      "overflow": null,
      "overflow_x": null,
      "overflow_y": null,
      "padding": null,
      "right": null,
      "top": null,
      "visibility": null,
      "width": null
     }
    },
    "f6e342d6cf574e1583fc24e07e8fe0c5": {
     "model_module": "@jupyter-widgets/controls",
     "model_module_version": "1.5.0",
     "model_name": "DescriptionStyleModel",
     "state": {
      "_model_module": "@jupyter-widgets/controls",
      "_model_module_version": "1.5.0",
      "_model_name": "DescriptionStyleModel",
      "_view_count": null,
      "_view_module": "@jupyter-widgets/base",
      "_view_module_version": "1.2.0",
      "_view_name": "StyleView",
      "description_width": ""
     }
    }
   }
  }
 },
 "nbformat": 4,
 "nbformat_minor": 0
}
