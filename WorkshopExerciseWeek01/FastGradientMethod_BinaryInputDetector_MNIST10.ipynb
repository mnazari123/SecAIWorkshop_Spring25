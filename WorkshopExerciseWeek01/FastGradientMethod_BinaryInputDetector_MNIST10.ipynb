{
 "cells": [
  {
   "cell_type": "markdown",
   "metadata": {
    "id": "MuUF9QzLjJHA"
   },
   "source": [
    "# Fast Gradient Method Attack and Binary Input Detector Using MNIST10\n",
    "\n",
    "This notebook shows the Fast Gradient Method attack implmentation using the ART library against deep learning models trained on MNIST-10 dataset. The notebook covers the following:\n",
    "\n",
    "* Load the required libariries\n",
    "* Load the dataset and inspect the data\n",
    "* Create a deep learning model\n",
    "* Train and evaluate the deep learning model on CIFAR test data\n",
    "* Implement FGSM attack using ART\n",
    "* Create adversarial samples using the FGSM attack\n",
    "* Evaluate the deep leaarning model against the adversaarial samples\n",
    "* Create a detector model to detect adversarial samples\n",
    "* Train and evaluate the detector model"
   ]
  },
  {
   "cell_type": "markdown",
   "metadata": {},
   "source": [
    "### **Fast Gradient Sign Method (FGSM) Attack - Overview**\n",
    "\n",
    "The Fast Gradient Sign Method (FGSM) is one of the *simplest and most widely used techniques* for generating adversarial examples. It was introduced by **Ian Goodfellow et al**. in 2014 as a method to quickly generate adversarial examples to evaluate the vulnerability of machine learning models, particularly neural networks.\n",
    "\n",
    "The core idea of FGSM is to perturb the original input data by a small amount in the direction that maximizes the model's loss, using the gradient of the loss function with respect to the input. This causes the model to misclassify the perturbed input while keeping the perturbation small enough to not be easily detected.\n",
    "\n",
    "\n",
    "#### **Key Concepts:**\n",
    "\n",
    "* **Adversarial Example:** A carefully crafted input that is designed to make a model misclassify it.\n",
    "* **Loss Function:** The function that measures how well the model's predictions align with the true labels. In the context of classification, the loss is typically the cross-entropy loss.\n",
    "* **Gradient:** The gradient of the loss with respect to the input indicates how the loss changes as the input is perturbed. By moving the input in the direction of this gradient, we can increase the loss and cause the model to make a wrong prediction.\n",
    "\n",
    "#### **Steps in the FGSM Attack**\n",
    "\n",
    "**1. Initialization:**\n",
    "* Start with an original input $x$ and the true label $y$.\n",
    "* Calculate the loss $J(x,y)$ (often cross-entropy loss) of the model on the original input.\n",
    "\n",
    "**2. Compute the Gradient:**\n",
    "* Compute the gradient of the loss $J(x,y)$ with respect to the input $x$:\n",
    "$$∇_{x}J(x,y)$$\n",
    "\n",
    "This gives us the direction in which the input needs to be perturbed to increase the loss, i.e., in the direction that the model is most sensitive to.\n",
    "\n",
    "**3. Perturbation Calculation:**\n",
    "    * The perturbation is applied by moving the input in the direction of the gradient. However, to simplify, we only use the **sign** of the gradient instead of the full gradient to create a smaller, more targeted perturbation:\n",
    "    $$Perturbation=ϵ⋅sign(∇_{x}J(x,y))$$\n",
    "\n",
    "**Where:**\n",
    "- $ϵ$ is a small scalar that controls the magnitude of the perturbation.\n",
    "- $sign(∇_{x}J(x,y))$ means we only take the sign of each component of the gradient, not the magnitude.\n",
    "\n",
    "**4. Adversarial Example:**\n",
    "* The final adversarial example is created by adding the perturbation to the original input:\n",
    "$$x_{adv}=x+ϵ⋅sign(∇_{x}J(x,y))$$\n",
    "\n",
    "Here, $x_{adv}$​ is the adversarial example, which is a slightly modified version of the original input that should be classified incorrectly by the model.\n",
    "\n",
    "**5. Projection (if necessary):**\n",
    "* In some cases, especially when working with image data, we may want to ensure the perturbed image stays within the valid range (e.g., pixel values between 0 and 255 for images). However, this projection is often implicit in the FGSM approach, as it doesn't strictly require a projection step like iterative attacks (e.g., PGD).\n",
    "\n",
    "#### **Formula Breakdown**\n",
    "\n",
    "The **FGSM attack** formula is:\n",
    "$$x_{adv}=x+ϵ⋅sign(∇_{x}J(x,y))$$\n",
    "\n",
    "- $x$: The original input (for example, an image).\n",
    "- $ϵ$: A small scalar value that determines the magnitude of the perturbation. It controls the strength of the adversarial attack. A larger ϵϵ will create a more significant perturbation, while a smaller ϵϵ will result in a more subtle perturbation.\n",
    "- $∇_{x}J(x,y)$: The gradient of the loss function $J(x,y)$ with respect to the input $x$. This gradient indicates how the model's prediction changes as the input changes.\n",
    "- $sign(∇_{x}J(x,y))$: The element-wise sign of the gradient, which means each component of the gradient is replaced by either +1, -1, or 0, depending on whether the corresponding component of the gradient is positive, negative, or zero. This makes the perturbation a small, focused change in the input.\n",
    "\n",
    "#### **How FGSM Works During the Attack**\n",
    "\n",
    "**1. Start with the original input:** \n",
    "\n",
    "We begin with an input image $x$ and its true label $y$.\n",
    "\n",
    "**2. Compute the loss and gradient:**\n",
    "* Calculate the model’s loss $J(x,y)$, which measures how far the model's prediction is from the true label $y$.\n",
    "* Compute the gradient $∇_{x}J(x,y)$, which gives us the direction in which the model is most sensitive to the input. The gradient essentially tells us how the model's loss changes with small changes to the input.\n",
    "\n",
    "**3. Create the perturbation:**\n",
    "* We take the sign of the gradient $sign(∇_{x}J(x,y))$ to create a binary signal (positive or negative), and multiply it by the perturbation size $ϵ$. This ensures that we only make small, targeted changes to the input.\n",
    "\n",
    "**4. Generate the adversarial example:**\n",
    "* The adversarial example is generated by adding the perturbation to the original input:\n",
    "$$x_{adv}=x+ϵ⋅sign(∇_{x}J(x,y))$$\n",
    "* The resulting adversarial example xadvxadv​ is very similar to the original input but modified in a way that causes the model to make an incorrect prediction.\n",
    "\n",
    "**5. Classify the adversarial example:**\n",
    "* The adversarial example $x_{adv}$ is then passed to the model for classification. Due to the targeted perturbation, the model is likely to misclassify this example, even though the perturbation is small enough to be imperceptible to the human eye (especially in the case of images).\n",
    "\n",
    "#### **Why FGSM is Fast**\n",
    "\n",
    "FGSM is considered a \"fast\" attack because it only requires a single gradient computation and a straightforward update step. The method is efficient and can generate adversarial examples quickly, making it ideal for evaluating the robustness of models. It contrasts with iterative methods (like PGD), which require multiple gradient updates and are computationally more expensive.\n",
    "\n",
    "#### **Strengths and Weaknesses of FGSM**\n",
    "**Strengths:**\n",
    "\n",
    "* **Simplicity**: The method is simple to implement and understand. It requires only a single pass through the model to compute the gradient and generate the perturbation.\n",
    "* **Speed**: Since it only involves a single gradient computation, FGSM can generate adversarial examples much faster than iterative attacks like PGD.\n",
    "* **Effectiveness**: Despite its simplicity, FGSM is often effective at causing misclassification, especially when the model is vulnerable.\n",
    "\n",
    "**Weaknesses:**\n",
    "\n",
    "* **Weak Attack**: Since it only performs one update step and does not iteratively refine the perturbation, FGSM may not be as effective against more robust models. It may not generate adversarial examples that are as strong as those created by iterative methods.\n",
    "* **Sensitivity to $ϵ$**: The strength of the attack depends on the choice of $ϵ$. Too small a value might not cause misclassification, while too large a value might make the perturbation visible to humans, especially for image data."
   ]
  },
  {
   "cell_type": "markdown",
   "metadata": {},
   "source": [
    "## Install and load required libraries "
   ]
  },
  {
   "cell_type": "code",
   "execution_count": 1,
   "metadata": {
    "colab": {
     "base_uri": "https://localhost:8080/"
    },
    "executionInfo": {
     "elapsed": 33119,
     "status": "ok",
     "timestamp": 1701724127234,
     "user": {
      "displayName": "Mujtaba Nazari",
      "userId": "16194551095817193214"
     },
     "user_tz": 360
    },
    "id": "Sl2IxY3bjRYe",
    "outputId": "22e2a45e-e6f9-40ee-862b-c670d8163866"
   },
   "outputs": [],
   "source": [
    "# Install prerequired libraries.\n",
    "# !pip install adversarial-robustness-toolbox"
   ]
  },
  {
   "cell_type": "code",
   "execution_count": 1,
   "metadata": {
    "id": "RTnXOkTUjJHB"
   },
   "outputs": [
    {
     "name": "stderr",
     "output_type": "stream",
     "text": [
      "2025-01-27 10:34:42.315724: I tensorflow/core/platform/cpu_feature_guard.cc:193] This TensorFlow binary is optimized with oneAPI Deep Neural Network Library (oneDNN) to use the following CPU instructions in performance-critical operations:  SSE4.1 SSE4.2 AVX AVX2 AVX512F AVX512_VNNI FMA\n",
      "To enable them in other operations, rebuild TensorFlow with the appropriate compiler flags.\n",
      "2025-01-27 10:34:42.424623: I tensorflow/core/util/port.cc:104] oneDNN custom operations are on. You may see slightly different numerical results due to floating-point round-off errors from different computation orders. To turn them off, set the environment variable `TF_ENABLE_ONEDNN_OPTS=0`.\n"
     ]
    }
   ],
   "source": [
    "import warnings\n",
    "warnings.filterwarnings('ignore')\n",
    "import tensorflow as tf\n",
    "tf.compat.v1.disable_eager_execution()\n",
    "import numpy as np\n",
    "from matplotlib import pyplot as plt\n",
    "\n",
    "from art.estimators.classification import KerasClassifier\n",
    "from art.attacks.evasion import FastGradientMethod\n",
    "from art.defences.detector.evasion import BinaryInputDetector"
   ]
  },
  {
   "cell_type": "code",
   "execution_count": 2,
   "metadata": {},
   "outputs": [
    {
     "name": "stdout",
     "output_type": "stream",
     "text": [
      "3\n",
      "3 Physical GPUs, 1 Logical GPU\n"
     ]
    },
    {
     "name": "stderr",
     "output_type": "stream",
     "text": [
      "2025-01-27 10:34:50.581158: I tensorflow/core/platform/cpu_feature_guard.cc:193] This TensorFlow binary is optimized with oneAPI Deep Neural Network Library (oneDNN) to use the following CPU instructions in performance-critical operations:  SSE4.1 SSE4.2 AVX AVX2 AVX512F AVX512_VNNI FMA\n",
      "To enable them in other operations, rebuild TensorFlow with the appropriate compiler flags.\n",
      "2025-01-27 10:34:50.847479: I tensorflow/core/common_runtime/gpu/gpu_device.cc:1613] Created device /job:localhost/replica:0/task:0/device:GPU:0 with 23935 MB memory:  -> device: 0, name: NVIDIA RTX A6000, pci bus id: 0000:d5:00.0, compute capability: 8.6\n"
     ]
    }
   ],
   "source": [
    "gpus = tf.config.list_physical_devices('GPU')\n",
    "print(len(gpus))\n",
    "if gpus:\n",
    "  # Restrict TensorFlow to only use the first GPU\n",
    "  try:\n",
    "    tf.config.set_visible_devices(gpus[0], 'GPU')\n",
    "    logical_gpus = tf.config.list_logical_devices('GPU')\n",
    "    print(len(gpus), \"Physical GPUs,\", len(logical_gpus), \"Logical GPU\")\n",
    "  except RuntimeError as e:\n",
    "    # Visible devices must be set before GPUs have been initialized\n",
    "    print(e)"
   ]
  },
  {
   "cell_type": "code",
   "execution_count": 3,
   "metadata": {
    "id": "J3yYruY_jJHC"
   },
   "outputs": [],
   "source": [
    "if tf.__version__[0] != '2':\n",
    "    raise ImportError('This notebook requires TensorFlow v2.')"
   ]
  },
  {
   "cell_type": "markdown",
   "metadata": {
    "id": "FEqjm5CfjJHC"
   },
   "source": [
    "### Load MNIST dataset"
   ]
  },
  {
   "cell_type": "code",
   "execution_count": 5,
   "metadata": {
    "colab": {
     "base_uri": "https://localhost:8080/"
    },
    "executionInfo": {
     "elapsed": 984,
     "status": "ok",
     "timestamp": 1701724147915,
     "user": {
      "displayName": "Mujtaba Nazari",
      "userId": "16194551095817193214"
     },
     "user_tz": 360
    },
    "id": "K04icE_fjJHD",
    "outputId": "768a5f21-1637-4a91-f9f9-b84f210b01d2"
   },
   "outputs": [
    {
     "data": {
      "text/plain": [
       "((60000, 28, 28), (60000,), (10000, 28, 28), (10000,), 0.0, 1.0)"
      ]
     },
     "execution_count": 5,
     "metadata": {},
     "output_type": "execute_result"
    }
   ],
   "source": [
    "# (x_train, y_train), (x_test, y_test) = tf.keras.datasets.mnist.load_data()\n",
    "(x_train, y_train), (x_test, y_test) = np.load('./../Datasets/mnist10_dataset.npy', allow_pickle = True)\n",
    "x_train, x_test = x_train / 255.0, x_test/ 255.0\n",
    "min = x_train.min()\n",
    "max = x_train.max()\n",
    "x_train.shape, y_train.shape, x_test.shape, y_test.shape, min, max"
   ]
  },
  {
   "cell_type": "markdown",
   "metadata": {
    "id": "wU07kPidjos1"
   },
   "source": [
    "### Inspect the Data"
   ]
  },
  {
   "cell_type": "code",
   "execution_count": 6,
   "metadata": {
    "colab": {
     "base_uri": "https://localhost:8080/",
     "height": 341
    },
    "executionInfo": {
     "elapsed": 3419,
     "status": "ok",
     "timestamp": 1701724151331,
     "user": {
      "displayName": "Mujtaba Nazari",
      "userId": "16194551095817193214"
     },
     "user_tz": 360
    },
    "id": "DP4cqjV6sCLB",
    "outputId": "5811f8c7-5b1f-416b-c37c-5c63591970a8"
   },
   "outputs": [
    {
     "data": {
      "image/png": "[encoded data removed]",
      "text/plain": [
       "<Figure size 1500x700 with 10 Axes>"
      ]
     },
     "metadata": {},
     "output_type": "display_data"
    }
   ],
   "source": [
    "fig, ax = plt.subplots(2,5, figsize=(15, 7))\n",
    "ax = ax.flatten()\n",
    "\n",
    "for i, (image, label) in enumerate(zip(x_train[:10], y_train[:10])):\n",
    "  im_idx = np.argwhere(y_train == i)[0]\n",
    "  ax[i].imshow(image, cmap=\"gray_r\")\n",
    "  ax[i].set_title(f\"Label: {label}\",  fontsize=12)"
   ]
  },
  {
   "cell_type": "code",
   "execution_count": 7,
   "metadata": {
    "id": "d0dDCAUjdP6o"
   },
   "outputs": [],
   "source": [
    "nb_classes =10\n",
    "y_test = tf.keras.utils.to_categorical(y_test, num_classes=nb_classes)\n",
    "x_test = np.expand_dims(x_test, axis=-1)\n",
    "\n",
    "y_train = tf.keras.utils.to_categorical(y_train, num_classes=nb_classes)\n",
    "x_train = np.expand_dims(x_train, axis=-1)"
   ]
  },
  {
   "cell_type": "markdown",
   "metadata": {
    "id": "oxBSa6pBjJHD"
   },
   "source": [
    "## TensorFlow with Keras API"
   ]
  },
  {
   "cell_type": "markdown",
   "metadata": {
    "id": "EC_BlmmFjJHE"
   },
   "source": [
    "Create a model using Keras API. Here we use the Keras Sequential model and add a sequence of layers. Afterwards the model is compiles with optimizer, loss function and metrics."
   ]
  },
  {
   "cell_type": "code",
   "execution_count": 8,
   "metadata": {
    "id": "HrYQyjWFjJHE"
   },
   "outputs": [],
   "source": [
    "model = tf.keras.models.Sequential([\n",
    "    # tf.keras.layers.InputLayer(input_shape=(28, 28, 1)),\n",
    "    tf.keras.layers.Conv2D(32, kernel_size=(3, 3), activation='relu', input_shape=(28, 28, 1)),\n",
    "    tf.keras.layers.MaxPooling2D(pool_size=(2, 2)),\n",
    "    tf.keras.layers.Conv2D(64, (3,3), activation = 'relu', strides = 1),\n",
    "    tf.keras.layers.MaxPooling2D(pool_size=(2, 2), strides = 2),\n",
    "    tf.keras.layers.Conv2D(128, (3,3), activation = 'relu', strides = 1),\n",
    "    tf.keras.layers.MaxPooling2D(pool_size=(2, 2), strides = 2),\n",
    "    tf.keras.layers.Flatten(),\n",
    "    tf.keras.layers.Dense(128, activation='relu'),\n",
    "    tf.keras.layers.Dropout(0.2),\n",
    "    tf.keras.layers.Dense(10, activation='softmax')\n",
    "])\n",
    "\n",
    "opt = tf.keras.optimizers.legacy.Adam(learning_rate = 0.001)\n",
    "loss_ = tf.keras.losses.CategoricalCrossentropy(from_logits=False)\n",
    "model.compile(optimizer= opt,\n",
    "              loss='categorical_crossentropy',\n",
    "              metrics=['accuracy']);"
   ]
  },
  {
   "cell_type": "code",
   "execution_count": 9,
   "metadata": {
    "colab": {
     "base_uri": "https://localhost:8080/"
    },
    "executionInfo": {
     "elapsed": 408,
     "status": "ok",
     "timestamp": 1701724157249,
     "user": {
      "displayName": "Mujtaba Nazari",
      "userId": "16194551095817193214"
     },
     "user_tz": 360
    },
    "id": "xU6K3hy8cmRM",
    "outputId": "29ad3ba8-55b4-4246-8b1b-f521547775d4"
   },
   "outputs": [
    {
     "name": "stdout",
     "output_type": "stream",
     "text": [
      "Model: \"sequential\"\n",
      "_________________________________________________________________\n",
      " Layer (type)                Output Shape              Param #   \n",
      "=================================================================\n",
      " conv2d (Conv2D)             (None, 26, 26, 32)        320       \n",
      "                                                                 \n",
      " max_pooling2d (MaxPooling2D  (None, 13, 13, 32)       0         \n",
      " )                                                               \n",
      "                                                                 \n",
      " conv2d_1 (Conv2D)           (None, 11, 11, 64)        18496     \n",
      "                                                                 \n",
      " max_pooling2d_1 (MaxPooling  (None, 5, 5, 64)         0         \n",
      " 2D)                                                             \n",
      "                                                                 \n",
      " conv2d_2 (Conv2D)           (None, 3, 3, 128)         73856     \n",
      "                                                                 \n",
      " max_pooling2d_2 (MaxPooling  (None, 1, 1, 128)        0         \n",
      " 2D)                                                             \n",
      "                                                                 \n",
      " flatten (Flatten)           (None, 128)               0         \n",
      "                                                                 \n",
      " dense (Dense)               (None, 128)               16512     \n",
      "                                                                 \n",
      " dropout (Dropout)           (None, 128)               0         \n",
      "                                                                 \n",
      " dense_1 (Dense)             (None, 10)                1290      \n",
      "                                                                 \n",
      "=================================================================\n",
      "Total params: 110,474\n",
      "Trainable params: 110,474\n",
      "Non-trainable params: 0\n",
      "_________________________________________________________________\n"
     ]
    }
   ],
   "source": [
    "model.summary()"
   ]
  },
  {
   "cell_type": "code",
   "execution_count": 27,
   "metadata": {},
   "outputs": [
    {
     "data": {
      "image/png": "[encoded data removed]",
      "text/plain": [
       "<PIL.Image.Image image mode=RGBA size=357x409>"
      ]
     },
     "execution_count": 27,
     "metadata": {},
     "output_type": "execute_result"
    }
   ],
   "source": [
    "import visualkeras\n",
    "visualkeras.layered_view(model, scale_xy=10, legend=True)"
   ]
  },
  {
   "cell_type": "code",
   "execution_count": 24,
   "metadata": {
    "colab": {
     "base_uri": "https://localhost:8080/",
     "height": 1000
    },
    "executionInfo": {
     "elapsed": 509,
     "status": "ok",
     "timestamp": 1701724170054,
     "user": {
      "displayName": "Mujtaba Nazari",
      "userId": "16194551095817193214"
     },
     "user_tz": 360
    },
    "id": "Ezh8-GF6cnxz",
    "outputId": "ced84735-7b99-4d55-c3db-12a83cad2a87"
   },
   "outputs": [],
   "source": [
    "# tf.keras.utils.plot_model(model, show_shapes=True)"
   ]
  },
  {
   "cell_type": "markdown",
   "metadata": {
    "id": "vXNtqN6kjJHF"
   },
   "source": [
    "### Fit the model on training data."
   ]
  },
  {
   "cell_type": "code",
   "execution_count": 15,
   "metadata": {
    "colab": {
     "base_uri": "https://localhost:8080/"
    },
    "executionInfo": {
     "elapsed": 186632,
     "status": "ok",
     "timestamp": 1701725100779,
     "user": {
      "displayName": "Mujtaba Nazari",
      "userId": "16194551095817193214"
     },
     "user_tz": 360
    },
    "id": "GzyaDHxqjJHF",
    "outputId": "742e6690-2042-4d6c-edbc-265d112f1828"
   },
   "outputs": [
    {
     "name": "stdout",
     "output_type": "stream",
     "text": [
      "Train on 60000 samples\n"
     ]
    },
    {
     "name": "stderr",
     "output_type": "stream",
     "text": [
      "2025-01-21 15:31:30.211264: I tensorflow/core/common_runtime/gpu/gpu_device.cc:1613] Created device /job:localhost/replica:0/task:0/device:GPU:0 with 42002 MB memory:  -> device: 0, name: NVIDIA RTX A6000, pci bus id: 0000:d5:00.0, compute capability: 8.6\n",
      "2025-01-21 15:31:30.316932: I tensorflow/compiler/mlir/mlir_graph_optimization_pass.cc:357] MLIR V1 optimization pass is not enabled\n"
     ]
    },
    {
     "name": "stdout",
     "output_type": "stream",
     "text": [
      "Epoch 1/3\n"
     ]
    },
    {
     "name": "stderr",
     "output_type": "stream",
     "text": [
      "2025-01-21 15:31:31.237784: W tensorflow/c/c_api.cc:291] Operation '{name:'training/Adam/dense_1/kernel/m/Assign' id:375 op device:{requested: '', assigned: ''} def:{{{node training/Adam/dense_1/kernel/m/Assign}} = AssignVariableOp[_has_manual_control_dependencies=true, dtype=DT_FLOAT, validate_shape=false](training/Adam/dense_1/kernel/m, training/Adam/dense_1/kernel/m/Initializer/zeros)}}' was changed by setting attribute after it was run by a session. This mutation will have no effect, and will trigger an error in the future. Either don't modify nodes after running them or create a new session.\n",
      "2025-01-21 15:31:31.540504: I tensorflow/compiler/xla/stream_executor/cuda/cuda_dnn.cc:428] Loaded cuDNN version 8907\n",
      "2025-01-21 15:31:31.838883: I tensorflow/compiler/xla/stream_executor/cuda/cuda_blas.cc:630] TensorFloat-32 will be used for the matrix multiplication. This will only be logged once.\n"
     ]
    },
    {
     "name": "stdout",
     "output_type": "stream",
     "text": [
      "60000/60000 [==============================] - 25s 411us/sample - loss: 0.2193 - accuracy: 0.9326\n",
      "Epoch 2/3\n",
      "60000/60000 [==============================] - 22s 372us/sample - loss: 0.0744 - accuracy: 0.9771\n",
      "Epoch 3/3\n",
      "60000/60000 [==============================] - 25s 417us/sample - loss: 0.0545 - accuracy: 0.9844\n"
     ]
    }
   ],
   "source": [
    "history = model.fit(x_train, y_train, epochs=3)"
   ]
  },
  {
   "cell_type": "code",
   "execution_count": 25,
   "metadata": {},
   "outputs": [
    {
     "name": "stderr",
     "output_type": "stream",
     "text": [
      "2025-01-21 15:34:00.393318: W tensorflow/c/c_api.cc:291] Operation '{name:'conv2d_2_1/bias/Assign' id:601 op device:{requested: '', assigned: ''} def:{{{node conv2d_2_1/bias/Assign}} = AssignVariableOp[_has_manual_control_dependencies=true, dtype=DT_FLOAT, validate_shape=false](conv2d_2_1/bias, conv2d_2_1/bias/Initializer/zeros)}}' was changed by setting attribute after it was run by a session. This mutation will have no effect, and will trigger an error in the future. Either don't modify nodes after running them or create a new session.\n",
      "2025-01-21 15:34:00.693588: W tensorflow/c/c_api.cc:291] Operation '{name:'dense_1_1/kernel/v/Assign' id:915 op device:{requested: '', assigned: ''} def:{{{node dense_1_1/kernel/v/Assign}} = AssignVariableOp[_has_manual_control_dependencies=true, dtype=DT_FLOAT, validate_shape=false](dense_1_1/kernel/v, dense_1_1/kernel/v/Initializer/zeros)}}' was changed by setting attribute after it was run by a session. This mutation will have no effect, and will trigger an error in the future. Either don't modify nodes after running them or create a new session.\n"
     ]
    },
    {
     "name": "stdout",
     "output_type": "stream",
     "text": [
      "Model: \"sequential\"\n",
      "_________________________________________________________________\n",
      " Layer (type)                Output Shape              Param #   \n",
      "=================================================================\n",
      " conv2d (Conv2D)             (None, 26, 26, 32)        320       \n",
      "                                                                 \n",
      " max_pooling2d (MaxPooling2D  (None, 13, 13, 32)       0         \n",
      " )                                                               \n",
      "                                                                 \n",
      " conv2d_1 (Conv2D)           (None, 11, 11, 64)        18496     \n",
      "                                                                 \n",
      " max_pooling2d_1 (MaxPooling  (None, 5, 5, 64)         0         \n",
      " 2D)                                                             \n",
      "                                                                 \n",
      " conv2d_2 (Conv2D)           (None, 3, 3, 128)         73856     \n",
      "                                                                 \n",
      " max_pooling2d_2 (MaxPooling  (None, 1, 1, 128)        0         \n",
      " 2D)                                                             \n",
      "                                                                 \n",
      " flatten (Flatten)           (None, 128)               0         \n",
      "                                                                 \n",
      " dense (Dense)               (None, 64)                8256      \n",
      "                                                                 \n",
      " dropout (Dropout)           (None, 64)                0         \n",
      "                                                                 \n",
      " dense_1 (Dense)             (None, 10)                650       \n",
      "                                                                 \n",
      "=================================================================\n",
      "Total params: 101,578\n",
      "Trainable params: 101,578\n",
      "Non-trainable params: 0\n",
      "_________________________________________________________________\n"
     ]
    }
   ],
   "source": [
    "# model.save('./../Models/mnist10_model.keras')\n",
    "model = tf.keras.models.load_model('./../Models/mnist10_model.keras')\n",
    "model.summary()"
   ]
  },
  {
   "cell_type": "markdown",
   "metadata": {
    "id": "4E-ciO4MjJHG"
   },
   "source": [
    "### Evaluate model accuracy on test data."
   ]
  },
  {
   "cell_type": "code",
   "execution_count": 26,
   "metadata": {
    "colab": {
     "base_uri": "https://localhost:8080/"
    },
    "executionInfo": {
     "elapsed": 251,
     "status": "ok",
     "timestamp": 1701725129279,
     "user": {
      "displayName": "Mujtaba Nazari",
      "userId": "16194551095817193214"
     },
     "user_tz": 360
    },
    "id": "2k5U_iKYjJHG",
    "outputId": "a0660c1d-c0ec-4ae4-96e7-eac35223d58d"
   },
   "outputs": [
    {
     "name": "stderr",
     "output_type": "stream",
     "text": [
      "2025-01-21 15:34:03.298319: W tensorflow/c/c_api.cc:291] Operation '{name:'loss_1/mul' id:784 op device:{requested: '', assigned: ''} def:{{{node loss_1/mul}} = Mul[T=DT_FLOAT, _has_manual_control_dependencies=true](loss_1/mul/x, loss_1/dense_1_loss/value)}}' was changed by setting attribute after it was run by a session. This mutation will have no effect, and will trigger an error in the future. Either don't modify nodes after running them or create a new session.\n"
     ]
    },
    {
     "name": "stdout",
     "output_type": "stream",
     "text": [
      "Accuracy on test data: 98.73%\n"
     ]
    }
   ],
   "source": [
    "loss_test, accuracy_test = model.evaluate(x_test, y_test)\n",
    "print('Accuracy on test data: {:4.2f}%'.format(accuracy_test * 100))"
   ]
  },
  {
   "cell_type": "markdown",
   "metadata": {
    "id": "2pAmvXWSjJHH"
   },
   "source": [
    "### Create a ART Keras classifier."
   ]
  },
  {
   "cell_type": "code",
   "execution_count": 28,
   "metadata": {
    "id": "PDy1OpEOjJHH"
   },
   "outputs": [],
   "source": [
    "# after normalizing the data\n",
    "min = 0\n",
    "max = 1 # before normalizing, it was 255\n",
    "\n",
    "classifier = KerasClassifier(model=model, clip_values=(min, max))"
   ]
  },
  {
   "cell_type": "markdown",
   "metadata": {
    "id": "lWft_yKPTzaR"
   },
   "source": [
    "## Fast Gradient Method (FGM)\n",
    "> class art.attacks.evasion.FastGradientMethod(estimator: CLASSIFIER_LOSS_GRADIENTS_TYPE, norm: int | float | str = inf, eps: int | float | ndarray = 0.3, eps_step: int | float | ndarray = 0.1, targeted: bool = False, num_random_init: int = 0, batch_size: int = 32, minimal: bool = False, summary_writer: str | bool | SummaryWriter = False)\n",
    "\n",
    "This attack was originally implemented by Goodfellow et al. (2015) with the infinity norm (and is known as the “Fast Gradient Sign Method”). This implementation extends the attack to other norms, and is therefore called the Fast Gradient Method.\n",
    "* Paper link: https://arxiv.org/abs/1412.6572\n",
    "\n",
    "*\\_\\_init__(estimator: CLASSIFIER_LOSS_GRADIENTS_TYPE, norm: int | float | str = inf, eps: int | float | ndarray = 0.3, eps_step: int | float | ndarray = 0.1, targeted: bool = False, num_random_init: int = 0, batch_size: int = 32, minimal: bool = False, summary_writer: str | bool | SummaryWriter = False) → None*\n",
    "\n",
    "**Create a FastGradientMethod instance.**\n",
    "\n",
    "     Parameters:\n",
    "* estimator – A trained classifier.\n",
    "* norm – The norm of the adversarial perturbation. Possible values: “inf”, np.inf, 1 or 2.\n",
    "* eps – Attack step size (input variation).\n",
    "* eps_step – Step size of input variation for minimal perturbation computation.\n",
    "* targeted (bool) – Indicates whether the attack is targeted (True) or untargeted (False)\n",
    "* num_random_init (int) – Number of random initialisations within the epsilon ball. For random_init=0 starting at the original input.\n",
    "* batch_size (int) – Size of the batch on which adversarial samples are generated.\n",
    "* minimal (bool) – Indicates if computing the minimal perturbation (True). If True, also define eps_step for the step size and eps for the maximum perturbation.\n",
    "* summary_writer – Activate summary writer for TensorBoard. Default is False and deactivated summary writer. If True save runs/CURRENT_DATETIME_HOSTNAME in current directory. If of type str save in path. If of type SummaryWriter apply provided custom summary writer. Use hierarchical folder structure to compare between runs easily. e.g. pass in ‘runs/exp1’, ‘runs/exp2’, etc. for each new experiment to compare across them.\n",
    "\n",
    "    \n",
    "**generate(x: ndarray, y: ndarray | None = None, \\*\\*kwargs) → ndarray**\n",
    "\n",
    "Generate adversarial samples and return them in an array.\n",
    "\n",
    "    Return type:\n",
    "* ndarray\n",
    "    \n",
    "    \n",
    "    Parameters:\n",
    "* x (ndarray) – An array with the original inputs.\n",
    "* y – Target values (class labels) one-hot-encoded of shape (nb_samples, nb_classes) or indices of shape (nb_samples,). Only provide this parameter if you’d like to use true labels when crafting adversarial samples. Otherwise, model predictions are used as labels to avoid the “label leaking” effect (explained in this paper: https://arxiv.org/abs/1611.01236). Default is None.\n",
    "\n",
    "* mask (np.ndarray) – An array with a mask broadcastable to input x defining where to apply adversarial perturbations. Shape needs to be broadcastable to the shape of x and can also be of the same shape as x. Any features for which the mask is zero will not be adversarially perturbed.\n",
    "\n",
    "        Returns:\n",
    "* An array holding the adversarial examples.\n",
    "\n",
    "Link: https://adversarial-robustness-toolbox.readthedocs.io/en/latest/modules/attacks/evasion.html#fast-gradient-method-fgm\n"
   ]
  },
  {
   "cell_type": "markdown",
   "metadata": {
    "id": "psNjvw4UjJHH"
   },
   "source": [
    "### Create an ART Fast Gradient Sign Method attack."
   ]
  },
  {
   "cell_type": "code",
   "execution_count": 29,
   "metadata": {
    "id": "UqwJlSGbjJHI"
   },
   "outputs": [],
   "source": [
    "# eps – defines the attack step size (input variation). The smaller the eps, the little the attack scale would be.\n",
    "attack_fgsm = FastGradientMethod(estimator=classifier, eps=0.2)"
   ]
  },
  {
   "cell_type": "markdown",
   "metadata": {
    "id": "fDdLBE2EjJHI"
   },
   "source": [
    "### Generate adversarial test data."
   ]
  },
  {
   "cell_type": "code",
   "execution_count": 30,
   "metadata": {
    "id": "smdn0bvtjJHI"
   },
   "outputs": [
    {
     "name": "stderr",
     "output_type": "stream",
     "text": [
      "2025-01-21 15:34:15.241301: W tensorflow/c/c_api.cc:291] Operation '{name:'dense_1_1/Softmax' id:667 op device:{requested: '', assigned: ''} def:{{{node dense_1_1/Softmax}} = Softmax[T=DT_FLOAT, _has_manual_control_dependencies=true](dense_1_1/BiasAdd)}}' was changed by setting attribute after it was run by a session. This mutation will have no effect, and will trigger an error in the future. Either don't modify nodes after running them or create a new session.\n"
     ]
    }
   ],
   "source": [
    "x_test_adv = attack_fgsm.generate(x_test)"
   ]
  },
  {
   "cell_type": "markdown",
   "metadata": {
    "id": "ngiJyPOVsk00"
   },
   "source": [
    "Visualise the first adversarial test sample."
   ]
  },
  {
   "cell_type": "code",
   "execution_count": 18,
   "metadata": {
    "colab": {
     "base_uri": "https://localhost:8080/",
     "height": 348
    },
    "executionInfo": {
     "elapsed": 2234,
     "status": "ok",
     "timestamp": 1701725145678,
     "user": {
      "displayName": "Mujtaba Nazari",
      "userId": "16194551095817193214"
     },
     "user_tz": 360
    },
    "id": "mtdiwibYsXGi",
    "outputId": "274b1555-14f9-49a9-9186-c158a02dd8ba"
   },
   "outputs": [
    {
     "data": {
      "image/png": "[encoded data removed]",
      "text/plain": [
       "<Figure size 1500x700 with 10 Axes>"
      ]
     },
     "metadata": {},
     "output_type": "display_data"
    }
   ],
   "source": [
    "fig, ax = plt.subplots(2,5, figsize=(15, 7))\n",
    "ax = ax.flatten()\n",
    "\n",
    "for i, (image, label) in enumerate(zip(x_test_adv[:10], y_test[:10])):\n",
    "  #im_idx = np.argwhere(y_train == i)[0]\n",
    "  ax[i].imshow(image)\n",
    "  ax[i].set_title(f\"Actual Label: {label.argmax()} \\nPredicted: {model.predict(np.expand_dims(image, axis=0)).argmax()}\",  fontsize=10)"
   ]
  },
  {
   "cell_type": "markdown",
   "metadata": {
    "id": "vC9_e8NTjJHJ"
   },
   "source": [
    "Evaluate accuracy on adversarial test data and calculate average perturbation."
   ]
  },
  {
   "cell_type": "code",
   "execution_count": 19,
   "metadata": {
    "colab": {
     "base_uri": "https://localhost:8080/"
    },
    "executionInfo": {
     "elapsed": 100,
     "status": "ok",
     "timestamp": 1701725148402,
     "user": {
      "displayName": "Mujtaba Nazari",
      "userId": "16194551095817193214"
     },
     "user_tz": 360
    },
    "id": "Xyh3nHj2jJHJ",
    "outputId": "15a002fe-874e-44a8-a2e9-618bffb00a90"
   },
   "outputs": [
    {
     "name": "stdout",
     "output_type": "stream",
     "text": [
      "Accuracy on adversarial test data: 52.48%\n",
      "Average perturbation: 0.07\n"
     ]
    }
   ],
   "source": [
    "loss_test, accuracy_test = model.evaluate(x_test_adv, y_test)\n",
    "perturbation = np.mean(np.abs((x_test_adv - x_test)))\n",
    "print('Accuracy on adversarial test data: {:4.2f}%'.format(accuracy_test * 100))\n",
    "print('Average perturbation: {:4.2f}'.format(perturbation))"
   ]
  },
  {
   "cell_type": "markdown",
   "metadata": {
    "id": "SFBsamPkea58"
   },
   "source": [
    "##Training the detector"
   ]
  },
  {
   "cell_type": "markdown",
   "metadata": {
    "id": "PJLuYmMZefWV"
   },
   "source": [
    "We create the second model using Keras API with the same strucure of the classifier. Here we use the Keras Sequential model and add a sequence of layers. Afterwards the model is compiles with optimizer, loss function and metrics. This model will be used to classify between ordinary samples and perturbated ones"
   ]
  },
  {
   "cell_type": "code",
   "execution_count": 21,
   "metadata": {
    "id": "8pNOO14pq_lX"
   },
   "outputs": [],
   "source": [
    "detector_model = tf.keras.models.Sequential([\n",
    "    # tf.keras.layers.InputLayer(input_shape=(28, 28, 1)),\n",
    "    tf.keras.layers.Conv2D(32, kernel_size=(3, 3), activation='relu', input_shape=(28, 28, 1)),\n",
    "    tf.keras.layers.MaxPooling2D(pool_size=(2, 2)),\n",
    "    tf.keras.layers.Conv2D(64, (3,3), activation = 'relu', strides = 1),\n",
    "    tf.keras.layers.MaxPooling2D(pool_size=(2, 2), strides = 2),\n",
    "    tf.keras.layers.Conv2D(128, (3,3), activation = 'relu', strides = 1),\n",
    "    tf.keras.layers.MaxPooling2D(pool_size=(2, 2), strides = 2),\n",
    "    tf.keras.layers.Flatten(),\n",
    "    tf.keras.layers.Dense(128, activation='relu'),\n",
    "    tf.keras.layers.Dropout(0.2),\n",
    "    tf.keras.layers.Dense(2, activation='softmax')\n",
    "])\n",
    "\n",
    "opt = tf.keras.optimizers.legacy.Adam(learning_rate = 0.001)\n",
    "loss_ = tf.keras.losses.CategoricalCrossentropy(from_logits=False)\n",
    "detector_model.compile(optimizer= opt,\n",
    "              loss='categorical_crossentropy',\n",
    "              metrics=['accuracy']);"
   ]
  },
  {
   "cell_type": "markdown",
   "metadata": {
    "id": "ODiggy2SsCS9"
   },
   "source": [
    "create samples of perturbaed using the attacker."
   ]
  },
  {
   "cell_type": "code",
   "execution_count": 23,
   "metadata": {
    "id": "c7TYI0QTsInE"
   },
   "outputs": [
    {
     "name": "stderr",
     "output_type": "stream",
     "text": [
      "2025-01-14 09:27:33.542977: W tensorflow/c/c_api.cc:291] Operation '{name:'conv2d_3/kernel/Assign' id:633 op device:{requested: '', assigned: ''} def:{{{node conv2d_3/kernel/Assign}} = AssignVariableOp[_has_manual_control_dependencies=true, dtype=DT_FLOAT, validate_shape=false](conv2d_3/kernel, conv2d_3/kernel/Initializer/stateless_random_uniform)}}' was changed by setting attribute after it was run by a session. This mutation will have no effect, and will trigger an error in the future. Either don't modify nodes after running them or create a new session.\n"
     ]
    }
   ],
   "source": [
    "x_train_adv = attack_fgsm.generate(x_train[:5000])\n",
    "nb_train = x_train[:5000].shape[0]\n",
    "\n",
    "x_train_detector = np.concatenate((x_train[:5000], x_train_adv), axis=0)\n",
    "y_train_detector = np.concatenate((np.array([[1,0]]*nb_train), np.array([[0,1]]*nb_train)), axis=0)"
   ]
  },
  {
   "cell_type": "code",
   "execution_count": 24,
   "metadata": {
    "colab": {
     "base_uri": "https://localhost:8080/"
    },
    "executionInfo": {
     "elapsed": 131,
     "status": "ok",
     "timestamp": 1701725832365,
     "user": {
      "displayName": "Mujtaba Nazari",
      "userId": "16194551095817193214"
     },
     "user_tz": 360
    },
    "id": "VGblBTDzw1zN",
    "outputId": "4f58e902-296e-4a42-c51f-8c1be1249d01"
   },
   "outputs": [],
   "source": [
    "# As FGSM is fast enough so we do no save the data.\n",
    "# np.savez('./fgsm_generated_data/fgsm_attach_generated_MNIST10_train.npz', \n",
    "#          x_train_detector=x_train_detector, y_train_detector = y_train_detector)\n",
    "\n",
    "# training_generated_data = np.load('./fgsm_generated_data/fgsm_attach_generated_MNIST10_train.npz')\n",
    "# x_train_detector, y_train_detector = training_generated_data['x_train_detector'], training_generated_data['y_train_detector']\n",
    "# x_train_detector.shape, y_train_detector.shape"
   ]
  },
  {
   "cell_type": "code",
   "execution_count": 25,
   "metadata": {
    "colab": {
     "base_uri": "https://localhost:8080/",
     "height": 177
    },
    "executionInfo": {
     "elapsed": 255,
     "status": "error",
     "timestamp": 1701805849466,
     "user": {
      "displayName": "Mujtaba Nazari",
      "userId": "16194551095817193214"
     },
     "user_tz": 360
    },
    "id": "qmiFBGTqugYd",
    "outputId": "c439bb83-28cd-4588-ca84-3271e3087d02"
   },
   "outputs": [
    {
     "name": "stdout",
     "output_type": "stream",
     "text": [
      "Train on 10000 samples\n",
      "Epoch 1/3\n"
     ]
    },
    {
     "name": "stderr",
     "output_type": "stream",
     "text": [
      "2025-01-14 09:29:04.847138: W tensorflow/c/c_api.cc:291] Operation '{name:'loss_1/mul' id:830 op device:{requested: '', assigned: ''} def:{{{node loss_1/mul}} = Mul[T=DT_FLOAT, _has_manual_control_dependencies=true](loss_1/mul/x, loss_1/dense_3_loss/value)}}' was changed by setting attribute after it was run by a session. This mutation will have no effect, and will trigger an error in the future. Either don't modify nodes after running them or create a new session.\n",
      "2025-01-14 09:29:04.918441: W tensorflow/c/c_api.cc:291] Operation '{name:'training_2/Adam/conv2d_5/kernel/m/Assign' id:980 op device:{requested: '', assigned: ''} def:{{{node training_2/Adam/conv2d_5/kernel/m/Assign}} = AssignVariableOp[_has_manual_control_dependencies=true, dtype=DT_FLOAT, validate_shape=false](training_2/Adam/conv2d_5/kernel/m, training_2/Adam/conv2d_5/kernel/m/Initializer/zeros)}}' was changed by setting attribute after it was run by a session. This mutation will have no effect, and will trigger an error in the future. Either don't modify nodes after running them or create a new session.\n"
     ]
    },
    {
     "name": "stdout",
     "output_type": "stream",
     "text": [
      "10000/10000 [==============================] - 7s 697us/sample - loss: 0.0467 - accuracy: 0.9803\n",
      "Epoch 2/3\n",
      "10000/10000 [==============================] - 6s 607us/sample - loss: 4.3204e-05 - accuracy: 1.0000\n",
      "Epoch 3/3\n",
      "10000/10000 [==============================] - 7s 655us/sample - loss: 1.5003e-05 - accuracy: 1.0000\n"
     ]
    },
    {
     "data": {
      "text/plain": [
       "<keras.callbacks.History at 0x70374ffc9240>"
      ]
     },
     "execution_count": 25,
     "metadata": {},
     "output_type": "execute_result"
    }
   ],
   "source": [
    "detector_model.fit(x_train_detector, y_train_detector, epochs=3)"
   ]
  },
  {
   "cell_type": "code",
   "execution_count": 27,
   "metadata": {},
   "outputs": [],
   "source": [
    "# detector_model.save('./../models/fsgm_mnist10_model.keras')\n",
    "# detector_model = tf.keras.models.load_model('./../models/fsgm_mnist10_model.keras')\n",
    "# detector_model.summary()"
   ]
  },
  {
   "cell_type": "markdown",
   "metadata": {
    "id": "b48kazIAvQgb"
   },
   "source": [
    "### creating samples to test our detector model."
   ]
  },
  {
   "cell_type": "code",
   "execution_count": 28,
   "metadata": {
    "id": "pX_JMMcfu653"
   },
   "outputs": [
    {
     "data": {
      "text/plain": [
       "((200, 28, 28, 1), (200, 2))"
      ]
     },
     "execution_count": 28,
     "metadata": {},
     "output_type": "execute_result"
    }
   ],
   "source": [
    "x_test = x_test[:100]\n",
    "y_test = y_test[:100]\n",
    "\n",
    "x_test_adv = attack_fgsm.generate(x_test)\n",
    "nb_test = x_test.shape[0]\n",
    "\n",
    "x_test_detector = np.concatenate((x_test, x_test_adv), axis=0)\n",
    "y_test_detector = np.concatenate((np.array([[1,0]]*nb_test), np.array([[0,1]]*nb_test)), axis=0)\n",
    "\n",
    "x_test_detector.shape, y_test_detector.shape"
   ]
  },
  {
   "cell_type": "markdown",
   "metadata": {
    "id": "0BqsYhr-xI4w"
   },
   "source": [
    "### Evaluate detector model accuracy on combined test data."
   ]
  },
  {
   "cell_type": "code",
   "execution_count": 29,
   "metadata": {
    "colab": {
     "base_uri": "https://localhost:8080/"
    },
    "executionInfo": {
     "elapsed": 516,
     "status": "ok",
     "timestamp": 1701725867470,
     "user": {
      "displayName": "Mujtaba Nazari",
      "userId": "16194551095817193214"
     },
     "user_tz": 360
    },
    "id": "V9iqHNRGwnNO",
    "outputId": "5198e347-cc41-4bcc-b381-1499fcd57cc7"
   },
   "outputs": [
    {
     "name": "stderr",
     "output_type": "stream",
     "text": [
      "2025-01-14 09:30:09.261282: W tensorflow/c/c_api.cc:291] Operation '{name:'loss_1/mul' id:830 op device:{requested: '', assigned: ''} def:{{{node loss_1/mul}} = Mul[T=DT_FLOAT, _has_manual_control_dependencies=true](loss_1/mul/x, loss_1/dense_3_loss/value)}}' was changed by setting attribute after it was run by a session. This mutation will have no effect, and will trigger an error in the future. Either don't modify nodes after running them or create a new session.\n"
     ]
    },
    {
     "name": "stdout",
     "output_type": "stream",
     "text": [
      "Accuracy on test data: 100.00%\n"
     ]
    }
   ],
   "source": [
    "loss_test, accuracy_test = detector_model.evaluate(x_test_detector, y_test_detector)\n",
    "print('Accuracy on test data: {:4.2f}%'.format(accuracy_test * 100))"
   ]
  },
  {
   "cell_type": "code",
   "execution_count": 30,
   "metadata": {
    "id": "kACdJrS-eZO5"
   },
   "outputs": [],
   "source": [
    "detector_classifier = KerasClassifier(clip_values=(0.0, 0.1), model=detector_model, use_logits=False)\n",
    "detector = BinaryInputDetector(detector_classifier)"
   ]
  },
  {
   "cell_type": "code",
   "execution_count": 31,
   "metadata": {
    "colab": {
     "base_uri": "https://localhost:8080/"
    },
    "executionInfo": {
     "elapsed": 365187,
     "status": "ok",
     "timestamp": 1701726818419,
     "user": {
      "displayName": "Mujtaba Nazari",
      "userId": "16194551095817193214"
     },
     "user_tz": 360
    },
    "id": "RkCXCLkYjUTa",
    "outputId": "d13e72ba-d312-44d5-b0ee-83c998f81ed3"
   },
   "outputs": [],
   "source": [
    "# detector.fit(x_train, y_train, batch_size = 128, nb_epochs= 5)\n",
    "detector.fit(x_train_detector, y_train_detector, nb_epochs=3, batch_size=32)"
   ]
  },
  {
   "cell_type": "markdown",
   "metadata": {
    "id": "0FlQ2LDBenOm"
   },
   "source": [
    "### Evaluating the detector"
   ]
  },
  {
   "cell_type": "markdown",
   "metadata": {
    "id": "4h8OpqzyetLH"
   },
   "source": [
    "#### Apply the detector to the adversarial test data:"
   ]
  },
  {
   "cell_type": "code",
   "execution_count": 32,
   "metadata": {
    "colab": {
     "base_uri": "https://localhost:8080/"
    },
    "executionInfo": {
     "elapsed": 433,
     "status": "ok",
     "timestamp": 1701726848689,
     "user": {
      "displayName": "Mujtaba Nazari",
      "userId": "16194551095817193214"
     },
     "user_tz": 360
    },
    "id": "LIdYPMIEetsW",
    "outputId": "accd2f04-8fa6-4c63-aa52-5a0eb54b08c3"
   },
   "outputs": [
    {
     "name": "stdout",
     "output_type": "stream",
     "text": [
      "Adversarial test data (first 100 images):\n",
      "Flagged: 100\n",
      "Not flagged: 0\n"
     ]
    },
    {
     "name": "stderr",
     "output_type": "stream",
     "text": [
      "2025-01-14 09:30:54.700996: W tensorflow/c/c_api.cc:291] Operation '{name:'dense_3/Softmax' id:754 op device:{requested: '', assigned: ''} def:{{{node dense_3/Softmax}} = Softmax[T=DT_FLOAT, _has_manual_control_dependencies=true](dense_3/BiasAdd)}}' was changed by setting attribute after it was run by a session. This mutation will have no effect, and will trigger an error in the future. Either don't modify nodes after running them or create a new session.\n"
     ]
    }
   ],
   "source": [
    "_, is_adversarial = detector.detect(x_test_adv)\n",
    "flag_adv = np.sum(is_adversarial)\n",
    "\n",
    "print(\"Adversarial test data (first 100 images):\")\n",
    "print(\"Flagged: {}\".format(flag_adv))\n",
    "print(\"Not flagged: {}\".format(100 - flag_adv))"
   ]
  },
  {
   "cell_type": "markdown",
   "metadata": {
    "id": "hwq4CP3te4Ow"
   },
   "source": [
    "### Apply the detector to the first 100 original test images:"
   ]
  },
  {
   "cell_type": "code",
   "execution_count": 33,
   "metadata": {
    "colab": {
     "base_uri": "https://localhost:8080/"
    },
    "executionInfo": {
     "elapsed": 95,
     "status": "ok",
     "timestamp": 1701726856053,
     "user": {
      "displayName": "Mujtaba Nazari",
      "userId": "16194551095817193214"
     },
     "user_tz": 360
    },
    "id": "_D480aEPe58S",
    "outputId": "687a343b-4404-447a-83c7-a1336244612a"
   },
   "outputs": [
    {
     "name": "stdout",
     "output_type": "stream",
     "text": [
      "Original test data (first 100 images):\n",
      "Flagged: 0\n",
      "Not flagged: 100\n"
     ]
    }
   ],
   "source": [
    "_, is_adversarial = detector.detect(x_test[:100])\n",
    "flag_original = np.sum(is_adversarial)\n",
    "\n",
    "print(\"Original test data (first 100 images):\")\n",
    "print(\"Flagged: {}\".format(flag_original))\n",
    "print(\"Not flagged: {}\".format(100 - flag_original))"
   ]
  },
  {
   "cell_type": "markdown",
   "metadata": {
    "id": "4HqzAbcee9Tn"
   },
   "source": [
    "### Evaluate the detector for different attack strengths eps (Note: for the training of detector, eps=0.25 was used)"
   ]
  },
  {
   "cell_type": "code",
   "execution_count": 34,
   "metadata": {
    "id": "BA8FqxpXe92m"
   },
   "outputs": [],
   "source": [
    "eps_range = [0.01, 0.02, 0.03, 0.04, 0.05, 0.1, 0.2, 0.3, 0.4, 0.5, 0.6, 0.7, 0.8, 0.9]\n",
    "nb_flag_adv = []\n",
    "nb_missclass = []\n",
    "\n",
    "for eps in eps_range:\n",
    "    attack_fgsm.set_params(**{'eps': eps})\n",
    "    x_test_adv = attack_fgsm.generate(x_test[:100])\n",
    "    nb_flag_adv += [np.sum(detector.detect(x_test_adv)[1])]\n",
    "    nb_missclass += [np.sum(np.argmax(classifier.predict(x_test_adv), axis=1) != np.argmax(y_test[:100], axis=1))]\n",
    "\n",
    "eps_range = [0] + eps_range\n",
    "nb_flag_adv = [flag_original] + nb_flag_adv\n",
    "nb_missclass = [2] + nb_missclass"
   ]
  },
  {
   "cell_type": "code",
   "execution_count": 35,
   "metadata": {
    "colab": {
     "base_uri": "https://localhost:8080/",
     "height": 449
    },
    "executionInfo": {
     "elapsed": 514,
     "status": "ok",
     "timestamp": 1701726884065,
     "user": {
      "displayName": "Mujtaba Nazari",
      "userId": "16194551095817193214"
     },
     "user_tz": 360
    },
    "id": "eG_vv4TEfNh_",
    "outputId": "7260c575-f53e-434d-cfe8-6db630d4e61f"
   },
   "outputs": [
    {
     "data": {
      "image/png": "[encoded data removed]",
      "text/plain": [
       "<Figure size 640x480 with 1 Axes>"
      ]
     },
     "metadata": {},
     "output_type": "display_data"
    }
   ],
   "source": [
    "fig, ax = plt.subplots()\n",
    "ax.plot(np.array(eps_range)[:8], np.array(nb_flag_adv)[:8], 'b--', label='Detector flags')\n",
    "ax.plot(np.array(eps_range)[:8], np.array(nb_missclass)[:8], 'r--', label='Classifier errors')\n",
    "\n",
    "legend = ax.legend(loc='center right', shadow=True, fontsize='large')\n",
    "legend.get_frame().set_facecolor('#00FFCC')\n",
    "\n",
    "plt.xlabel('Attack strength (eps)')\n",
    "plt.ylabel('Per 100 adversarial samples')\n",
    "plt.show()"
   ]
  },
  {
   "cell_type": "markdown",
   "metadata": {},
   "source": [
    "### Summary: \n",
    "\n",
    "The Fast Gradient Sign Method (FGSM) is an adversarial attack that perturbs input data to mislead machine learning models. It generates adversarial examples by adding a small, directed perturbation to each input, calculated using the gradient of the loss function with respect to the input. The perturbation is controlled by a parameter $ϵ$, which determines the magnitude of the change. Specifically, the perturbed input is given by $x′=x+ϵ⋅sign(∇xJ(θ,x,y))$. A larger $ϵ$ increases the perturbation, making the attack more likely to succeed but potentially more noticeable."
   ]
  }
 ],
 "metadata": {
  "colab": {
   "provenance": []
  },
  "kernelspec": {
   "display_name": "ART",
   "language": "python",
   "name": "python3"
  },
  "language_info": {
   "codemirror_mode": {
    "name": "ipython",
    "version": 3
   },
   "file_extension": ".py",
   "mimetype": "text/x-python",
   "name": "python",
   "nbconvert_exporter": "python",
   "pygments_lexer": "ipython3",
   "version": "3.8.20"
  }
 },
 "nbformat": 4,
 "nbformat_minor": 1
}
