{
  "cells": [
    {
      "cell_type": "markdown",
      "metadata": {
        "id": "jQ_CwUsffnDf"
      },
      "source": [
        "# **SecureAI - Fairness and Bias in AI**\n",
        "\n",
        "\n",
        "## **Preprocessing bias metigation**"
      ]
    },
    {
      "cell_type": "markdown",
      "metadata": {
        "id": "V-Kwnlw0Fxrr"
      },
      "source": [
        "#### This notebook demonstrates the use of an optimized data pre-processing algorithm for bias mitigation in income estimation\n",
        "\n",
        "\n",
        "**Note**: *This notebook is based on the materials posted in AIF360 github repo*\n",
        "\n",
        "\n",
        "The goal of this tutorial is to introduce the basic functionality of AI Fairness 360 to an interested developer who may not have a background in bias detection and mitigation.\n",
        "\n",
        "<br>\n",
        "\n",
        "____\n",
        "\n",
        "\n",
        "### Biases and Machine Learning\n",
        "\n",
        "A machine learning model makes predictions of an outcome for a particular instance. (Given an instance of a loan application, predict if the applicant will repay the loan.) The model makes these predictions based on a training dataset, where many other instances (other loan applications) and actual outcomes (whether they repaid) are provided. Thus, a machine learning algorithm will attempt to find patterns, or generalizations, in the training dataset to use when a prediction for a new instance is needed. (For example, one pattern it might discover is \"if a person has salary > USD 40K and has outstanding debt < USD 5, they will repay the loan\".) In many domains this technique, called supervised machine learning, has worked very well.\n",
        "\n",
        "However, sometimes the patterns that are found may not be desirable or may even be illegal. For example, a loan repay model may determine that age plays a significant role in the prediction of repayment because the training dataset happened to have better repayment for one age group than for another. This raises two problems: 1) the training dataset may not be representative of the true population of people of all age groups, and 2) even if it is representative, it is illegal to base any decision on a applicant's age, regardless of whether this is a good prediction based on historical data.\n",
        "\n",
        "AI Fairness 360 is designed to help address this problem with _fairness metrics_ and _bias mitigators_.  Fairness metrics can be used to check for bias in machine learning workflows.  Bias mitigators can be used to overcome bias in the workflow to produce a more fair outcome.\n",
        "\n",
        "The loan scenario describes an intuitive example of illegal bias. However, not all undesirable bias in machine learning is illegal it may also exist in more subtle ways.  For example, a loan company may want a diverse portfolio of customers across all income levels, and thus, will deem it undesirable if they are making more loans to high income levels over low income levels.  Although this is not illegal or unethical, it is undesirable for the company's strategy.\n",
        "\n",
        "As these two examples illustrate, a bias detection and/or mitigation toolkit needs to be tailored to the particular bias of interest.  More specifically, it needs to know the attribute or attributes, called _protected attributes_, that are of interest: race is one example of a _protected attribute_ and age is a second.\n",
        "\n",
        "<br>\n",
        "\n",
        "____\n",
        "\n",
        "## The Machine Learning Workflow\n",
        "To understand how bias can enter a machine learning model, we first review the basics of how a model is created in a supervised machine learning process.  \n",
        "\n",
        "\n",
        "\n",
        "![image](https://raw.githubusercontent.com/Trusted-AI/AIF360/e011686ba3d30cd21e04219e502fe33a74ab3817/examples/images/Complex_NoProc_V3.jpg)\n",
        "\n",
        "\n",
        "\n",
        "\n",
        "\n",
        "\n",
        "\n",
        "\n",
        "First, the process starts with a _training dataset_, which contains a sequence of instances, where each instance has two components: the features and the correct prediction for those features.  Next, a machine learning algorithm is trained on this training dataset to produce a machine learning model.  This generated model can be used to make a prediction when given a new instance.  A second dataset with features and correct predictions, called a _test dataset_, is used to assess the accuracy of the model.\n",
        "Since this test dataset is the same format as the training dataset, a set of instances of features and prediction pairs, often these two datasets derive from the same initial dataset.  A random partitioning algorithm is used to split the initial dataset into training and test datasets.\n",
        "\n",
        "Bias can enter the system in any of the `three steps`.  \n",
        "\n",
        "- The training data set may be biased in that its outcomes may be biased towards particular kinds of instances.  \n",
        "    \n",
        "- The algorithm that creates the model may be biased in that it may generate models that are weighted towards particular features in the input.\n",
        "- The test data set may be biased in that it has expectations on correct answers that may be biased.  \n",
        "\n",
        "These three points in the machine learning process represent points for testing and mitigating bias.  In AI Fairness 360 codebase, we call these points **_pre-processing_**, **_in-processing_**, and **_post-processing_**.\n",
        "\n",
        "<br>\n",
        "\n",
        "____\n",
        "\n",
        "## AI Fairness 360\n",
        "We are now ready to utilize AI Fairness 360 (`aif360`) to detect and mitigate bias.  We will use the Adult Census Income dataset, splitting it into a training and test dataset.  We will look for bias in the creation of a machine learning model to predict if an individual's annual income exceeds $50,000 based on various personal attributes.  The protected attribute will be \"sex\", with \"1\" (male) and \"0\" (female) being the values for the privileged and unprivileged groups, respectively.\n",
        "For this first tutorial, we will check for bias in the initial training data, mitigate the bias, and recheck.  More sophisticated machine learning workflows are given in the author tutorials and demo notebooks in the codebase.\n",
        "\n",
        "**Here are the steps involved**\n",
        "- The debiasing function used is implemented in the `OptimPreproc` class.\n",
        "- Define parameters for optimized pre-processing specific to the dataset.\n",
        "- Divide the dataset into training, validation, and testing partitions.\n",
        "- Learn the optimized pre-processing transformation from the training data.\n",
        "- Train classifier on original training data.\n",
        "- Estimate the optimal classification threshold, that maximizes balanced accuracy without fairness constraints (from the original validation set).\n",
        "- Determine the prediction scores for original testing data. Using the estimated optimal classification threshold, compute accuracy and fairness metrics.\n",
        "- Transform the testing set using the learned probabilistic transformation.\n",
        "- Determine the prediction scores for transformed testing data. Using the estimated optimal classification threshold, compute accuracy and fairness metrics."
      ]
    },
    {
      "cell_type": "markdown",
      "metadata": {
        "id": "pA0exCGuHYPj"
      },
      "source": [
        "## 1. Install and import required packages\n",
        "\n",
        "As with any Python program, the first step will be to import the necessary packages.  Below we import several components from the aif360 package.  We import a custom version of the AdultDataset with certain features binned, metrics to check for bias, and classes related to the algorithm we will use to mitigate bias. We also import some other non-aif360 useful packages."
      ]
    },
    {
      "cell_type": "code",
      "execution_count": 1,
      "metadata": {
        "colab": {
          "base_uri": "https://localhost:8080/"
        },
        "id": "LdTe8yfKuRws",
        "outputId": "85b2720a-3e95-4f61-a2da-576b9e7151d0"
      },
      "outputs": [],
      "source": [
        "# !pip install aif360\n",
        "# !pip install 'aif360[all]'\n",
        "# !pip install 'aif360[LFR,OptimPreproc]'"
      ]
    },
    {
      "cell_type": "code",
      "execution_count": 2,
      "metadata": {
        "colab": {
          "base_uri": "https://localhost:8080/"
        },
        "id": "D3IS-Fh9uJHc",
        "outputId": "4ed5582b-d3c5-44cf-f07a-60b5c0e8fade"
      },
      "outputs": [
        {
          "name": "stderr",
          "output_type": "stream",
          "text": [
            "2025-01-29 10:21:53.134224: I tensorflow/core/platform/cpu_feature_guard.cc:193] This TensorFlow binary is optimized with oneAPI Deep Neural Network Library (oneDNN) to use the following CPU instructions in performance-critical operations:  SSE4.1 SSE4.2 AVX AVX2 AVX512F AVX512_VNNI FMA\n",
            "To enable them in other operations, rebuild TensorFlow with the appropriate compiler flags.\n",
            "2025-01-29 10:21:53.774430: I tensorflow/core/util/port.cc:104] oneDNN custom operations are on. You may see slightly different numerical results due to floating-point round-off errors from different computation orders. To turn them off, set the environment variable `TF_ENABLE_ONEDNN_OPTS=0`.\n",
            "WARNING:root:No module named 'fairlearn': ExponentiatedGradientReduction will be unavailable. To install, run:\n",
            "pip install 'aif360[Reductions]'\n",
            "WARNING:root:No module named 'fairlearn': GridSearchReduction will be unavailable. To install, run:\n",
            "pip install 'aif360[Reductions]'\n",
            "WARNING:root:No module named 'inFairness': SenSeI and SenSR will be unavailable. To install, run:\n",
            "pip install 'aif360[inFairness]'\n",
            "WARNING:root:No module named 'fairlearn': GridSearchReduction will be unavailable. To install, run:\n",
            "pip install 'aif360[Reductions]'\n"
          ]
        }
      ],
      "source": [
        "%matplotlib inline\n",
        "# Load all necessary packages\n",
        "import sys\n",
        "import os\n",
        "import pandas as pd\n",
        "sys.path.append(\"../\")\n",
        "import numpy as np\n",
        "from tqdm import tqdm\n",
        "\n",
        "from aif360.datasets import BinaryLabelDataset\n",
        "from aif360.datasets import AdultDataset, GermanDataset, CompasDataset\n",
        "from aif360.metrics import BinaryLabelDatasetMetric\n",
        "from aif360.metrics import ClassificationMetric\n",
        "from aif360.metrics.utils import compute_boolean_conditioning_vector\n",
        "from aif360.algorithms.preprocessing.optim_preproc import OptimPreproc\n",
        "from aif360.algorithms.preprocessing.optim_preproc_helpers.data_preproc_functions\\\n",
        "            import load_preproc_data_adult, load_preproc_data_german, load_preproc_data_compas\n",
        "from aif360.algorithms.preprocessing.optim_preproc_helpers.distortion_functions\\\n",
        "            import get_distortion_adult, get_distortion_german, get_distortion_compas\n",
        "from aif360.algorithms.preprocessing.optim_preproc_helpers.opt_tools import OptTools\n",
        "# from common_utils import compute_metrics\n",
        "\n",
        "from sklearn.linear_model import LogisticRegression\n",
        "from sklearn.preprocessing import StandardScaler\n",
        "from sklearn.metrics import accuracy_score\n",
        "\n",
        "from IPython.display import Markdown, display\n",
        "import matplotlib.pyplot as plt\n",
        "from collections import OrderedDict\n",
        "\n",
        "import warnings\n",
        "warnings.filterwarnings('ignore')"
      ]
    },
    {
      "cell_type": "code",
      "execution_count": 3,
      "metadata": {
        "id": "6Q_W1fboR26x"
      },
      "outputs": [],
      "source": [
        "def compute_metrics(dataset_true, dataset_pred,\n",
        "                    unprivileged_groups, privileged_groups,\n",
        "                    disp = True):\n",
        "    \"\"\" Compute the key metrics \"\"\"\n",
        "    classified_metric_pred = ClassificationMetric(dataset_true,\n",
        "                                                 dataset_pred,\n",
        "                                                 unprivileged_groups=unprivileged_groups,\n",
        "                                                 privileged_groups=privileged_groups)\n",
        "    metrics = OrderedDict()\n",
        "    metrics[\"Balanced accuracy\"] = 0.5*(classified_metric_pred.true_positive_rate()+\n",
        "                                             classified_metric_pred.true_negative_rate())\n",
        "    metrics[\"Statistical parity difference\"] = classified_metric_pred.statistical_parity_difference()\n",
        "    metrics[\"Disparate impact\"] = classified_metric_pred.disparate_impact()\n",
        "    metrics[\"Average odds difference\"] = classified_metric_pred.average_odds_difference()\n",
        "    metrics[\"Equal opportunity difference\"] = classified_metric_pred.equal_opportunity_difference()\n",
        "    metrics[\"Theil index\"] = classified_metric_pred.theil_index()\n",
        "\n",
        "    if disp:\n",
        "        for k in metrics:\n",
        "            print(\"%s = %.4f\" % (k, metrics[k]))\n",
        "\n",
        "    return metrics"
      ]
    },
    {
      "cell_type": "markdown",
      "metadata": {
        "id": "bVhyTVqQG76Z"
      },
      "source": [
        "Download the data from the following links, and save them in _aif360/data/raw/adult_ folder\n",
        "\n",
        "* https://archive.ics.uci.edu/ml/machine-learning-databases/adult/adult.data\n",
        "* https://archive.ics.uci.edu/ml/machine-learning-databases/adult/adult.test\n",
        "* https://archive.ics.uci.edu/ml/machine-learning-databases/adult/adult.names"
      ]
    },
    {
      "cell_type": "code",
      "execution_count": 12,
      "metadata": {
        "colab": {
          "base_uri": "https://localhost:8080/"
        },
        "id": "gWk1A8T7IAEm",
        "outputId": "0703404a-07c2-4381-fd18-6361c4406371"
      },
      "outputs": [
        {
          "name": "stdout",
          "output_type": "stream",
          "text": [
            "--2025-01-29 12:30:05--  https://archive.ics.uci.edu/ml/machine-learning-databases/adult/adult.data\n",
            "Resolving archive.ics.uci.edu (archive.ics.uci.edu)... 128.195.10.252\n",
            "Connecting to archive.ics.uci.edu (archive.ics.uci.edu)|128.195.10.252|:443... connected.\n",
            "HTTP request sent, awaiting response... 200 OK\n",
            "Length: unspecified\n",
            "Saving to: ‘adult.data.2’\n",
            "\n",
            "adult.data.2            [              <=>   ]   3.79M   357KB/s    in 11s     \n",
            "\n",
            "2025-01-29 12:30:17 (368 KB/s) - ‘adult.data.2’ saved [3974305]\n",
            "\n",
            "--2025-01-29 12:30:17--  https://archive.ics.uci.edu/ml/machine-learning-databases/adult/adult.test\n",
            "Resolving archive.ics.uci.edu (archive.ics.uci.edu)... 128.195.10.252\n",
            "Connecting to archive.ics.uci.edu (archive.ics.uci.edu)|128.195.10.252|:443... connected.\n",
            "HTTP request sent, awaiting response... 200 OK\n",
            "Length: unspecified\n",
            "Saving to: ‘adult.test.2’\n",
            "\n",
            "adult.test.2            [       <=>          ]   1.91M   302KB/s    in 6.1s    \n",
            "\n",
            "2025-01-29 12:30:24 (323 KB/s) - ‘adult.test.2’ saved [2003153]\n",
            "\n",
            "--2025-01-29 12:30:24--  https://archive.ics.uci.edu/ml/machine-learning-databases/adult/adult.names\n",
            "Resolving archive.ics.uci.edu (archive.ics.uci.edu)... 128.195.10.252\n",
            "Connecting to archive.ics.uci.edu (archive.ics.uci.edu)|128.195.10.252|:443... connected.\n",
            "HTTP request sent, awaiting response... 200 OK\n",
            "Length: unspecified\n",
            "Saving to: ‘adult.names.2’\n",
            "\n",
            "adult.names.2           [ <=>                ]   5.11K  --.-KB/s    in 0s      \n",
            "\n",
            "2025-01-29 12:30:24 (85.1 MB/s) - ‘adult.names.2’ saved [5229]\n",
            "\n"
          ]
        }
      ],
      "source": [
        "if not os.path.exists('./adult/'):\n",
        "    os.mkdir('adult')\n",
        "!cd adult && wget https://archive.ics.uci.edu/ml/machine-learning-databases/adult/adult.data && wget https://archive.ics.uci.edu/ml/machine-learning-databases/adult/adult.test && wget https://archive.ics.uci.edu/ml/machine-learning-databases/adult/adult.names\n",
        "\n",
        "# /home/mujtaba/miniconda3/envs/ART/lib/python3.8/site-packages/aif360/data/raw/adult"
      ]
    },
    {
      "cell_type": "markdown",
      "metadata": {
        "id": "JcPuh86WuJHd"
      },
      "source": [
        "#### Load dataset and specify options"
      ]
    },
    {
      "cell_type": "code",
      "execution_count": 15,
      "metadata": {
        "colab": {
          "base_uri": "https://localhost:8080/",
          "height": 143
        },
        "id": "2lTPLcBHVNQ-",
        "outputId": "d6a8f110-91e5-456a-dd1b-f8391cc0f5b0"
      },
      "outputs": [
        {
          "data": {
            "text/html": [
              "<div>\n",
              "<style scoped>\n",
              "    .dataframe tbody tr th:only-of-type {\n",
              "        vertical-align: middle;\n",
              "    }\n",
              "\n",
              "    .dataframe tbody tr th {\n",
              "        vertical-align: top;\n",
              "    }\n",
              "\n",
              "    .dataframe thead th {\n",
              "        text-align: right;\n",
              "    }\n",
              "</style>\n",
              "<table border=\"1\" class=\"dataframe\">\n",
              "  <thead>\n",
              "    <tr style=\"text-align: right;\">\n",
              "      <th></th>\n",
              "      <th>age</th>\n",
              "      <th>workclass</th>\n",
              "      <th>fnlwgt</th>\n",
              "      <th>education</th>\n",
              "      <th>education-num</th>\n",
              "      <th>marital-status</th>\n",
              "      <th>occupation</th>\n",
              "      <th>relationship</th>\n",
              "      <th>race</th>\n",
              "      <th>sex</th>\n",
              "      <th>capital-gain</th>\n",
              "      <th>capital-loss</th>\n",
              "      <th>hours-per-week</th>\n",
              "      <th>native-country</th>\n",
              "      <th>income-per-year</th>\n",
              "    </tr>\n",
              "  </thead>\n",
              "  <tbody>\n",
              "    <tr>\n",
              "      <th>0</th>\n",
              "      <td>39</td>\n",
              "      <td>State-gov</td>\n",
              "      <td>77516</td>\n",
              "      <td>Bachelors</td>\n",
              "      <td>13</td>\n",
              "      <td>Never-married</td>\n",
              "      <td>Adm-clerical</td>\n",
              "      <td>Not-in-family</td>\n",
              "      <td>White</td>\n",
              "      <td>Male</td>\n",
              "      <td>2174</td>\n",
              "      <td>0</td>\n",
              "      <td>40</td>\n",
              "      <td>United-States</td>\n",
              "      <td>&lt;=50K</td>\n",
              "    </tr>\n",
              "    <tr>\n",
              "      <th>1</th>\n",
              "      <td>50</td>\n",
              "      <td>Self-emp-not-inc</td>\n",
              "      <td>83311</td>\n",
              "      <td>Bachelors</td>\n",
              "      <td>13</td>\n",
              "      <td>Married-civ-spouse</td>\n",
              "      <td>Exec-managerial</td>\n",
              "      <td>Husband</td>\n",
              "      <td>White</td>\n",
              "      <td>Male</td>\n",
              "      <td>0</td>\n",
              "      <td>0</td>\n",
              "      <td>13</td>\n",
              "      <td>United-States</td>\n",
              "      <td>&lt;=50K</td>\n",
              "    </tr>\n",
              "    <tr>\n",
              "      <th>2</th>\n",
              "      <td>38</td>\n",
              "      <td>Private</td>\n",
              "      <td>215646</td>\n",
              "      <td>HS-grad</td>\n",
              "      <td>9</td>\n",
              "      <td>Divorced</td>\n",
              "      <td>Handlers-cleaners</td>\n",
              "      <td>Not-in-family</td>\n",
              "      <td>White</td>\n",
              "      <td>Male</td>\n",
              "      <td>0</td>\n",
              "      <td>0</td>\n",
              "      <td>40</td>\n",
              "      <td>United-States</td>\n",
              "      <td>&lt;=50K</td>\n",
              "    </tr>\n",
              "    <tr>\n",
              "      <th>3</th>\n",
              "      <td>53</td>\n",
              "      <td>Private</td>\n",
              "      <td>234721</td>\n",
              "      <td>11th</td>\n",
              "      <td>7</td>\n",
              "      <td>Married-civ-spouse</td>\n",
              "      <td>Handlers-cleaners</td>\n",
              "      <td>Husband</td>\n",
              "      <td>Black</td>\n",
              "      <td>Male</td>\n",
              "      <td>0</td>\n",
              "      <td>0</td>\n",
              "      <td>40</td>\n",
              "      <td>United-States</td>\n",
              "      <td>&lt;=50K</td>\n",
              "    </tr>\n",
              "    <tr>\n",
              "      <th>4</th>\n",
              "      <td>28</td>\n",
              "      <td>Private</td>\n",
              "      <td>338409</td>\n",
              "      <td>Bachelors</td>\n",
              "      <td>13</td>\n",
              "      <td>Married-civ-spouse</td>\n",
              "      <td>Prof-specialty</td>\n",
              "      <td>Wife</td>\n",
              "      <td>Black</td>\n",
              "      <td>Female</td>\n",
              "      <td>0</td>\n",
              "      <td>0</td>\n",
              "      <td>40</td>\n",
              "      <td>Cuba</td>\n",
              "      <td>&lt;=50K</td>\n",
              "    </tr>\n",
              "    <tr>\n",
              "      <th>5</th>\n",
              "      <td>37</td>\n",
              "      <td>Private</td>\n",
              "      <td>284582</td>\n",
              "      <td>Masters</td>\n",
              "      <td>14</td>\n",
              "      <td>Married-civ-spouse</td>\n",
              "      <td>Exec-managerial</td>\n",
              "      <td>Wife</td>\n",
              "      <td>White</td>\n",
              "      <td>Female</td>\n",
              "      <td>0</td>\n",
              "      <td>0</td>\n",
              "      <td>40</td>\n",
              "      <td>United-States</td>\n",
              "      <td>&lt;=50K</td>\n",
              "    </tr>\n",
              "    <tr>\n",
              "      <th>6</th>\n",
              "      <td>49</td>\n",
              "      <td>Private</td>\n",
              "      <td>160187</td>\n",
              "      <td>9th</td>\n",
              "      <td>5</td>\n",
              "      <td>Married-spouse-absent</td>\n",
              "      <td>Other-service</td>\n",
              "      <td>Not-in-family</td>\n",
              "      <td>Black</td>\n",
              "      <td>Female</td>\n",
              "      <td>0</td>\n",
              "      <td>0</td>\n",
              "      <td>16</td>\n",
              "      <td>Jamaica</td>\n",
              "      <td>&lt;=50K</td>\n",
              "    </tr>\n",
              "    <tr>\n",
              "      <th>7</th>\n",
              "      <td>52</td>\n",
              "      <td>Self-emp-not-inc</td>\n",
              "      <td>209642</td>\n",
              "      <td>HS-grad</td>\n",
              "      <td>9</td>\n",
              "      <td>Married-civ-spouse</td>\n",
              "      <td>Exec-managerial</td>\n",
              "      <td>Husband</td>\n",
              "      <td>White</td>\n",
              "      <td>Male</td>\n",
              "      <td>0</td>\n",
              "      <td>0</td>\n",
              "      <td>45</td>\n",
              "      <td>United-States</td>\n",
              "      <td>&gt;50K</td>\n",
              "    </tr>\n",
              "    <tr>\n",
              "      <th>8</th>\n",
              "      <td>31</td>\n",
              "      <td>Private</td>\n",
              "      <td>45781</td>\n",
              "      <td>Masters</td>\n",
              "      <td>14</td>\n",
              "      <td>Never-married</td>\n",
              "      <td>Prof-specialty</td>\n",
              "      <td>Not-in-family</td>\n",
              "      <td>White</td>\n",
              "      <td>Female</td>\n",
              "      <td>14084</td>\n",
              "      <td>0</td>\n",
              "      <td>50</td>\n",
              "      <td>United-States</td>\n",
              "      <td>&gt;50K</td>\n",
              "    </tr>\n",
              "    <tr>\n",
              "      <th>9</th>\n",
              "      <td>42</td>\n",
              "      <td>Private</td>\n",
              "      <td>159449</td>\n",
              "      <td>Bachelors</td>\n",
              "      <td>13</td>\n",
              "      <td>Married-civ-spouse</td>\n",
              "      <td>Exec-managerial</td>\n",
              "      <td>Husband</td>\n",
              "      <td>White</td>\n",
              "      <td>Male</td>\n",
              "      <td>5178</td>\n",
              "      <td>0</td>\n",
              "      <td>40</td>\n",
              "      <td>United-States</td>\n",
              "      <td>&gt;50K</td>\n",
              "    </tr>\n",
              "  </tbody>\n",
              "</table>\n",
              "</div>"
            ],
            "text/plain": [
              "   age         workclass  fnlwgt  education  education-num  \\\n",
              "0   39         State-gov   77516  Bachelors             13   \n",
              "1   50  Self-emp-not-inc   83311  Bachelors             13   \n",
              "2   38           Private  215646    HS-grad              9   \n",
              "3   53           Private  234721       11th              7   \n",
              "4   28           Private  338409  Bachelors             13   \n",
              "5   37           Private  284582    Masters             14   \n",
              "6   49           Private  160187        9th              5   \n",
              "7   52  Self-emp-not-inc  209642    HS-grad              9   \n",
              "8   31           Private   45781    Masters             14   \n",
              "9   42           Private  159449  Bachelors             13   \n",
              "\n",
              "          marital-status         occupation   relationship   race     sex  \\\n",
              "0          Never-married       Adm-clerical  Not-in-family  White    Male   \n",
              "1     Married-civ-spouse    Exec-managerial        Husband  White    Male   \n",
              "2               Divorced  Handlers-cleaners  Not-in-family  White    Male   \n",
              "3     Married-civ-spouse  Handlers-cleaners        Husband  Black    Male   \n",
              "4     Married-civ-spouse     Prof-specialty           Wife  Black  Female   \n",
              "5     Married-civ-spouse    Exec-managerial           Wife  White  Female   \n",
              "6  Married-spouse-absent      Other-service  Not-in-family  Black  Female   \n",
              "7     Married-civ-spouse    Exec-managerial        Husband  White    Male   \n",
              "8          Never-married     Prof-specialty  Not-in-family  White  Female   \n",
              "9     Married-civ-spouse    Exec-managerial        Husband  White    Male   \n",
              "\n",
              "   capital-gain  capital-loss  hours-per-week native-country income-per-year  \n",
              "0          2174             0              40  United-States           <=50K  \n",
              "1             0             0              13  United-States           <=50K  \n",
              "2             0             0              40  United-States           <=50K  \n",
              "3             0             0              40  United-States           <=50K  \n",
              "4             0             0              40           Cuba           <=50K  \n",
              "5             0             0              40  United-States           <=50K  \n",
              "6             0             0              16        Jamaica           <=50K  \n",
              "7             0             0              45  United-States            >50K  \n",
              "8         14084             0              50  United-States            >50K  \n",
              "9          5178             0              40  United-States            >50K  "
            ]
          },
          "execution_count": 15,
          "metadata": {},
          "output_type": "execute_result"
        }
      ],
      "source": [
        "column_names = ['age', 'workclass', 'fnlwgt', 'education',\n",
        "            'education-num', 'marital-status', 'occupation', 'relationship',\n",
        "            'race', 'sex', 'capital-gain', 'capital-loss', 'hours-per-week',\n",
        "            'native-country', 'income-per-year']\n",
        "\n",
        "na_values = [' ?']\n",
        "\n",
        "train_path = \"./adult/adult.data\"\n",
        "test_path = \"./adult/adult.test\"\n",
        "\n",
        "train = pd.read_csv(train_path, header=None, names=column_names,\n",
        "                skipinitialspace=True, na_values=na_values)\n",
        "test = pd.read_csv(test_path, header=0, names=column_names,\n",
        "    skipinitialspace=True, na_values=na_values)\n",
        "\n",
        "train.head(10)"
      ]
    },
    {
      "cell_type": "code",
      "execution_count": 6,
      "metadata": {},
      "outputs": [
        {
          "data": {
            "text/html": [
              "<div>\n",
              "<style scoped>\n",
              "    .dataframe tbody tr th:only-of-type {\n",
              "        vertical-align: middle;\n",
              "    }\n",
              "\n",
              "    .dataframe tbody tr th {\n",
              "        vertical-align: top;\n",
              "    }\n",
              "\n",
              "    .dataframe thead th {\n",
              "        text-align: right;\n",
              "    }\n",
              "</style>\n",
              "<table border=\"1\" class=\"dataframe\">\n",
              "  <thead>\n",
              "    <tr style=\"text-align: right;\">\n",
              "      <th></th>\n",
              "      <th>age</th>\n",
              "      <th>workclass</th>\n",
              "      <th>fnlwgt</th>\n",
              "      <th>education</th>\n",
              "      <th>education-num</th>\n",
              "      <th>marital-status</th>\n",
              "      <th>occupation</th>\n",
              "      <th>relationship</th>\n",
              "      <th>race</th>\n",
              "      <th>sex</th>\n",
              "      <th>capital-gain</th>\n",
              "      <th>capital-loss</th>\n",
              "      <th>hours-per-week</th>\n",
              "      <th>native-country</th>\n",
              "      <th>income-per-year</th>\n",
              "    </tr>\n",
              "  </thead>\n",
              "  <tbody>\n",
              "    <tr>\n",
              "      <th>0</th>\n",
              "      <td>25</td>\n",
              "      <td>Private</td>\n",
              "      <td>226802</td>\n",
              "      <td>11th</td>\n",
              "      <td>7</td>\n",
              "      <td>Never-married</td>\n",
              "      <td>Machine-op-inspct</td>\n",
              "      <td>Own-child</td>\n",
              "      <td>Black</td>\n",
              "      <td>Male</td>\n",
              "      <td>0</td>\n",
              "      <td>0</td>\n",
              "      <td>40</td>\n",
              "      <td>United-States</td>\n",
              "      <td>&lt;=50K.</td>\n",
              "    </tr>\n",
              "    <tr>\n",
              "      <th>1</th>\n",
              "      <td>38</td>\n",
              "      <td>Private</td>\n",
              "      <td>89814</td>\n",
              "      <td>HS-grad</td>\n",
              "      <td>9</td>\n",
              "      <td>Married-civ-spouse</td>\n",
              "      <td>Farming-fishing</td>\n",
              "      <td>Husband</td>\n",
              "      <td>White</td>\n",
              "      <td>Male</td>\n",
              "      <td>0</td>\n",
              "      <td>0</td>\n",
              "      <td>50</td>\n",
              "      <td>United-States</td>\n",
              "      <td>&lt;=50K.</td>\n",
              "    </tr>\n",
              "    <tr>\n",
              "      <th>2</th>\n",
              "      <td>28</td>\n",
              "      <td>Local-gov</td>\n",
              "      <td>336951</td>\n",
              "      <td>Assoc-acdm</td>\n",
              "      <td>12</td>\n",
              "      <td>Married-civ-spouse</td>\n",
              "      <td>Protective-serv</td>\n",
              "      <td>Husband</td>\n",
              "      <td>White</td>\n",
              "      <td>Male</td>\n",
              "      <td>0</td>\n",
              "      <td>0</td>\n",
              "      <td>40</td>\n",
              "      <td>United-States</td>\n",
              "      <td>&gt;50K.</td>\n",
              "    </tr>\n",
              "    <tr>\n",
              "      <th>3</th>\n",
              "      <td>44</td>\n",
              "      <td>Private</td>\n",
              "      <td>160323</td>\n",
              "      <td>Some-college</td>\n",
              "      <td>10</td>\n",
              "      <td>Married-civ-spouse</td>\n",
              "      <td>Machine-op-inspct</td>\n",
              "      <td>Husband</td>\n",
              "      <td>Black</td>\n",
              "      <td>Male</td>\n",
              "      <td>7688</td>\n",
              "      <td>0</td>\n",
              "      <td>40</td>\n",
              "      <td>United-States</td>\n",
              "      <td>&gt;50K.</td>\n",
              "    </tr>\n",
              "    <tr>\n",
              "      <th>4</th>\n",
              "      <td>18</td>\n",
              "      <td>?</td>\n",
              "      <td>103497</td>\n",
              "      <td>Some-college</td>\n",
              "      <td>10</td>\n",
              "      <td>Never-married</td>\n",
              "      <td>?</td>\n",
              "      <td>Own-child</td>\n",
              "      <td>White</td>\n",
              "      <td>Female</td>\n",
              "      <td>0</td>\n",
              "      <td>0</td>\n",
              "      <td>30</td>\n",
              "      <td>United-States</td>\n",
              "      <td>&lt;=50K.</td>\n",
              "    </tr>\n",
              "  </tbody>\n",
              "</table>\n",
              "</div>"
            ],
            "text/plain": [
              "   age  workclass  fnlwgt     education  education-num      marital-status  \\\n",
              "0   25    Private  226802          11th              7       Never-married   \n",
              "1   38    Private   89814       HS-grad              9  Married-civ-spouse   \n",
              "2   28  Local-gov  336951    Assoc-acdm             12  Married-civ-spouse   \n",
              "3   44    Private  160323  Some-college             10  Married-civ-spouse   \n",
              "4   18          ?  103497  Some-college             10       Never-married   \n",
              "\n",
              "          occupation relationship   race     sex  capital-gain  capital-loss  \\\n",
              "0  Machine-op-inspct    Own-child  Black    Male             0             0   \n",
              "1    Farming-fishing      Husband  White    Male             0             0   \n",
              "2    Protective-serv      Husband  White    Male             0             0   \n",
              "3  Machine-op-inspct      Husband  Black    Male          7688             0   \n",
              "4                  ?    Own-child  White  Female             0             0   \n",
              "\n",
              "   hours-per-week native-country income-per-year  \n",
              "0              40  United-States          <=50K.  \n",
              "1              50  United-States          <=50K.  \n",
              "2              40  United-States           >50K.  \n",
              "3              40  United-States           >50K.  \n",
              "4              30  United-States          <=50K.  "
            ]
          },
          "execution_count": 6,
          "metadata": {},
          "output_type": "execute_result"
        }
      ],
      "source": [
        "test.head()"
      ]
    },
    {
      "cell_type": "code",
      "execution_count": 7,
      "metadata": {
        "colab": {
          "base_uri": "https://localhost:8080/",
          "height": 307
        },
        "id": "0nJDsYQHqnZO",
        "outputId": "c89ee7db-da9e-4fd6-c583-d6cc9cc55e3d"
      },
      "outputs": [
        {
          "data": {
            "image/png": "[encoded data removed]",
            "text/plain": [
              "<Figure size 800x300 with 2 Axes>"
            ]
          },
          "metadata": {},
          "output_type": "display_data"
        }
      ],
      "source": [
        "# Calculate the distribution of sex and race\n",
        "gender_counts = train['sex'].value_counts()\n",
        "gender_labels = gender_counts.index\n",
        "gender_sizes = gender_counts.values\n",
        "\n",
        "race_counts = train['race'].value_counts()\n",
        "race_labels = race_counts.index\n",
        "race_sizes = race_counts.values\n",
        "\n",
        "plt.figure(figsize=(8, 3))\n",
        "\n",
        "plt.subplot(1, 2, 1)\n",
        "plt.pie(gender_sizes,  startangle=70)\n",
        "plt.legend(gender_labels, loc =\"upper left\", bbox_to_anchor=(0.8, 1))\n",
        "plt.title('Gender Distribution')\n",
        "plt.axis('equal')\n",
        "\n",
        "plt.subplot(1, 2, 2)\n",
        "plt.pie(race_sizes,  startangle=0)\n",
        "plt.legend(race_labels, loc =\"upper left\", bbox_to_anchor=(0.9, 1))\n",
        "plt.title('Race Distribution')\n",
        "plt.axis('equal')\n",
        "\n",
        "plt.tight_layout()\n",
        "plt.show()"
      ]
    },
    {
      "cell_type": "code",
      "execution_count": 13,
      "metadata": {
        "id": "F867pU4ruJHe"
      },
      "outputs": [],
      "source": [
        "# import dataset\n",
        "dataset_used = \"adult\" # \"adult\", \"german\", \"compas\"\n",
        "protected_attribute_used = 1 # 1, 2\n",
        "\n",
        "if dataset_used == \"adult\":\n",
        "    if protected_attribute_used == 1:\n",
        "        privileged_groups = [{'sex': 1}]\n",
        "        unprivileged_groups = [{'sex': 0}]\n",
        "        dataset_orig = load_preproc_data_adult(['sex'])\n",
        "    else:\n",
        "        privileged_groups = [{'race': 1}]\n",
        "        unprivileged_groups = [{'race': 0}]\n",
        "        dataset_orig = load_preproc_data_adult(['race'])\n",
        "    \"\"\"\n",
        "    Optimized preprocessing is a preprocessing technique that learns a\n",
        "    probabilistic transformation that edits the features and labels in the data\n",
        "    with group fairness, individual distortion, and data fidelity constraints\n",
        "    and objectives [3]_.\n",
        "\n",
        "    References:\n",
        "        .. [3] F. P. Calmon, D. Wei, B. Vinzamuri, K. Natesan Ramamurthy, and\n",
        "           K. R. Varshney. \"Optimized Pre-Processing for Discrimination\n",
        "           Prevention.\" Conference on Neural Information Processing Systems,\n",
        "           2017.\n",
        "    Paper: https://papers.nips.cc/paper_files/paper/2017/hash/9a49a25d845a483fae4be7e341368e36-Abstract.html\n",
        "    Based on code available at: https://github.com/fair-preprocessing/nips2017\n",
        "\n",
        "\n",
        "    For more about the epsilon, clist, and dlist parameters, see the paper.\n",
        "    See this notebook for details. https://github.com/fair-preprocessing/nips2017/blob/master/Adult/code/Generate_Adult_Data.ipynb\n",
        "\n",
        "    distortion_fun: Specifies a function that calculates the \"distortion\" or cost of modifying the dataset to achieve fairness.\n",
        "\n",
        "    epsilon: Controls the trade-off between fairness and accuracy. \n",
        "    A smaller epsilon prioritizes fairness, while a larger epsilon allows for more accuracy at the cost of fairness.\n",
        "\n",
        "    clist: A list of coefficients that define the fairness constraints. \n",
        "    These values are used to adjust the strength of the fairness constraints during optimization.\n",
        "    0.99: A lower value may apply a weaker fairness constraint, meaning the model is \n",
        "    allowed more freedom in making predictions without a strict fairness requirement.\n",
        "    1.99 and 2.99: Higher values would make the fairness constraint more stringent. As the value increases, \n",
        "    the model might be forced to adjust predictions or data more significantly to achieve fairness, potentially at the cost of overall accuracy.\n",
        "\n",
        "    dlist: distortion level, a list of values that control the relaxation of fairness constraints. \n",
        "    These values allow the algorithm to slightly violate fairness constraints to improve accuracy. \n",
        "    A value of 0 means no relaxation (strict fairness), while higher values allow more flexibility.\n",
        "\n",
        "    \"\"\"\n",
        "    optim_options = {\n",
        "        \"distortion_fun\": get_distortion_adult,\n",
        "        \"epsilon\": 0.05,\n",
        "        \"clist\": [0.99, 1.99, 2.99],\n",
        "        \"dlist\": [.1, 0.05, 0]\n",
        "    }\n",
        "\n",
        "elif dataset_used == \"german\":\n",
        "    if protected_attribute_used == 1:\n",
        "        privileged_groups = [{'sex': 1}]\n",
        "        unprivileged_groups = [{'sex': 0}]\n",
        "        dataset_orig = load_preproc_data_german(['sex'])\n",
        "        optim_options = {\n",
        "            \"distortion_fun\": get_distortion_german,\n",
        "            \"epsilon\": 0.05,\n",
        "            \"clist\": [0.99, 1.99, 2.99],\n",
        "            \"dlist\": [.1, 0.05, 0]\n",
        "        }\n",
        "\n",
        "    else:\n",
        "        privileged_groups = [{'age': 1}]\n",
        "        unprivileged_groups = [{'age': 0}]\n",
        "        dataset_orig = load_preproc_data_german(['age'])\n",
        "        optim_options = {\n",
        "            \"distortion_fun\": get_distortion_german,\n",
        "            \"epsilon\": 0.1,\n",
        "            \"clist\": [0.99, 1.99, 2.99],\n",
        "            \"dlist\": [.1, 0.05, 0]\n",
        "        }\n",
        "\n",
        "elif dataset_used == \"compas\":\n",
        "    if protected_attribute_used == 1:\n",
        "        privileged_groups = [{'sex': 1}]\n",
        "        unprivileged_groups = [{'sex': 0}]\n",
        "        dataset_orig = load_preproc_data_compas(['sex'])\n",
        "    else:\n",
        "        privileged_groups = [{'race': 1}]\n",
        "        unprivileged_groups = [{'race': 0}]\n",
        "        dataset_orig = load_preproc_data_compas(['race'])\n",
        "\n",
        "    optim_options = {\n",
        "        \"distortion_fun\": get_distortion_compas,\n",
        "        \"epsilon\": 0.05,\n",
        "        \"clist\": [0.99, 1.99, 2.99],\n",
        "        \"dlist\": [.1, 0.05, 0]\n",
        "    }\n",
        "# ['Age (decade)', 'Education Years', 'sex', 'race']"
      ]
    },
    {
      "cell_type": "markdown",
      "metadata": {
        "id": "vSRA7udW4HZm"
      },
      "source": [
        "### Divide the dataset into training, validation, and testing partitions."
      ]
    },
    {
      "cell_type": "code",
      "execution_count": 14,
      "metadata": {
        "id": "Cx5ZgcT8aM5d"
      },
      "outputs": [],
      "source": [
        "#random seed\n",
        "np.random.seed(1)\n",
        "\n",
        "# Split into train, validation, and test\n",
        "dataset_orig_train, dataset_orig_vt = dataset_orig.split([0.7], shuffle=True)\n",
        "dataset_orig_valid, dataset_orig_test = dataset_orig_vt.split([0.5], shuffle=True)"
      ]
    },
    {
      "cell_type": "markdown",
      "metadata": {
        "id": "FexkQjkWuJHf"
      },
      "source": [
        "#### Display dataset attributes"
      ]
    },
    {
      "cell_type": "code",
      "execution_count": 17,
      "metadata": {
        "colab": {
          "base_uri": "https://localhost:8080/"
        },
        "collapsed": true,
        "id": "p6vXICsBnJO7",
        "outputId": "5fd8600c-cd00-48d5-f85e-e44d276ddbd1"
      },
      "outputs": [
        {
          "data": {
            "text/plain": [
              "{'label_maps': [{1.0: '>50K', 0.0: '<=50K'}],\n",
              " 'protected_attribute_maps': [{1.0: 'Male', 0.0: 'Female'}],\n",
              " 'transformer': 'AdultDataset.__init__',\n",
              " 'params': {'df':        race  sex  Income Binary  Age (decade)=10  Age (decade)=20  \\\n",
              "  0       0.0  1.0            0.0              0.0              1.0   \n",
              "  1       1.0  1.0            0.0              0.0              0.0   \n",
              "  2       1.0  1.0            1.0              0.0              1.0   \n",
              "  3       0.0  1.0            1.0              0.0              0.0   \n",
              "  4       1.0  0.0            0.0              1.0              0.0   \n",
              "  ...     ...  ...            ...              ...              ...   \n",
              "  48837   1.0  0.0            0.0              0.0              1.0   \n",
              "  48838   1.0  1.0            1.0              0.0              0.0   \n",
              "  48839   1.0  0.0            0.0              0.0              0.0   \n",
              "  48840   1.0  1.0            0.0              0.0              1.0   \n",
              "  48841   1.0  0.0            1.0              0.0              0.0   \n",
              "  \n",
              "         Age (decade)=30  Age (decade)=40  Age (decade)=50  Age (decade)=60  \\\n",
              "  0                  0.0              0.0              0.0              0.0   \n",
              "  1                  1.0              0.0              0.0              0.0   \n",
              "  2                  0.0              0.0              0.0              0.0   \n",
              "  3                  0.0              1.0              0.0              0.0   \n",
              "  4                  0.0              0.0              0.0              0.0   \n",
              "  ...                ...              ...              ...              ...   \n",
              "  48837              0.0              0.0              0.0              0.0   \n",
              "  48838              0.0              1.0              0.0              0.0   \n",
              "  48839              0.0              0.0              1.0              0.0   \n",
              "  48840              0.0              0.0              0.0              0.0   \n",
              "  48841              0.0              0.0              1.0              0.0   \n",
              "  \n",
              "         Age (decade)=>=70  Education Years=6  Education Years=7  \\\n",
              "  0                    0.0                0.0                1.0   \n",
              "  1                    0.0                0.0                0.0   \n",
              "  2                    0.0                0.0                0.0   \n",
              "  3                    0.0                0.0                0.0   \n",
              "  4                    0.0                0.0                0.0   \n",
              "  ...                  ...                ...                ...   \n",
              "  48837                0.0                0.0                0.0   \n",
              "  48838                0.0                0.0                0.0   \n",
              "  48839                0.0                0.0                0.0   \n",
              "  48840                0.0                0.0                0.0   \n",
              "  48841                0.0                0.0                0.0   \n",
              "  \n",
              "         Education Years=8  Education Years=9  Education Years=10  \\\n",
              "  0                    0.0                0.0                 0.0   \n",
              "  1                    0.0                1.0                 0.0   \n",
              "  2                    0.0                0.0                 0.0   \n",
              "  3                    0.0                0.0                 1.0   \n",
              "  4                    0.0                0.0                 1.0   \n",
              "  ...                  ...                ...                 ...   \n",
              "  48837                0.0                0.0                 0.0   \n",
              "  48838                0.0                1.0                 0.0   \n",
              "  48839                0.0                1.0                 0.0   \n",
              "  48840                0.0                1.0                 0.0   \n",
              "  48841                0.0                1.0                 0.0   \n",
              "  \n",
              "         Education Years=11  Education Years=12  Education Years=<6  \\\n",
              "  0                     0.0                 0.0                 0.0   \n",
              "  1                     0.0                 0.0                 0.0   \n",
              "  2                     0.0                 1.0                 0.0   \n",
              "  3                     0.0                 0.0                 0.0   \n",
              "  4                     0.0                 0.0                 0.0   \n",
              "  ...                   ...                 ...                 ...   \n",
              "  48837                 0.0                 1.0                 0.0   \n",
              "  48838                 0.0                 0.0                 0.0   \n",
              "  48839                 0.0                 0.0                 0.0   \n",
              "  48840                 0.0                 0.0                 0.0   \n",
              "  48841                 0.0                 0.0                 0.0   \n",
              "  \n",
              "         Education Years=>12  \n",
              "  0                      0.0  \n",
              "  1                      0.0  \n",
              "  2                      0.0  \n",
              "  3                      0.0  \n",
              "  4                      0.0  \n",
              "  ...                    ...  \n",
              "  48837                  0.0  \n",
              "  48838                  0.0  \n",
              "  48839                  0.0  \n",
              "  48840                  0.0  \n",
              "  48841                  0.0  \n",
              "  \n",
              "  [48842 rows x 19 columns],\n",
              "  'label_names': ['Income Binary'],\n",
              "  'protected_attribute_names': ['sex'],\n",
              "  'instance_weights_name': None,\n",
              "  'unprivileged_protected_attributes': [array([0.])],\n",
              "  'privileged_protected_attributes': [array([1.])]},\n",
              " 'previous': []}"
            ]
          },
          "execution_count": 17,
          "metadata": {},
          "output_type": "execute_result"
        }
      ],
      "source": [
        "dataset_orig.metadata"
      ]
    },
    {
      "cell_type": "code",
      "execution_count": 10,
      "metadata": {
        "colab": {
          "base_uri": "https://localhost:8080/",
          "height": 326
        },
        "id": "HI1y1y4-uJHf",
        "outputId": "00b8179f-6d88-44c7-8f0c-fd406b168345"
      },
      "outputs": [
        {
          "data": {
            "text/markdown": [
              "#### Training Dataset shape"
            ],
            "text/plain": [
              "<IPython.core.display.Markdown object>"
            ]
          },
          "metadata": {},
          "output_type": "display_data"
        },
        {
          "name": "stdout",
          "output_type": "stream",
          "text": [
            "(34189, 18)\n"
          ]
        },
        {
          "data": {
            "text/markdown": [
              "#### Favorable and unfavorable labels"
            ],
            "text/plain": [
              "<IPython.core.display.Markdown object>"
            ]
          },
          "metadata": {},
          "output_type": "display_data"
        },
        {
          "name": "stdout",
          "output_type": "stream",
          "text": [
            "1.0 0.0\n"
          ]
        },
        {
          "data": {
            "text/markdown": [
              "#### Protected attribute names"
            ],
            "text/plain": [
              "<IPython.core.display.Markdown object>"
            ]
          },
          "metadata": {},
          "output_type": "display_data"
        },
        {
          "name": "stdout",
          "output_type": "stream",
          "text": [
            "['sex']\n"
          ]
        },
        {
          "data": {
            "text/markdown": [
              "#### Privileged and unprivileged protected attribute values"
            ],
            "text/plain": [
              "<IPython.core.display.Markdown object>"
            ]
          },
          "metadata": {},
          "output_type": "display_data"
        },
        {
          "name": "stdout",
          "output_type": "stream",
          "text": [
            "[array([1.])] [array([0.])]\n"
          ]
        },
        {
          "data": {
            "text/markdown": [
              "#### Dataset feature names"
            ],
            "text/plain": [
              "<IPython.core.display.Markdown object>"
            ]
          },
          "metadata": {},
          "output_type": "display_data"
        },
        {
          "name": "stdout",
          "output_type": "stream",
          "text": [
            "['race', 'sex', 'Age (decade)=10', 'Age (decade)=20', 'Age (decade)=30', 'Age (decade)=40', 'Age (decade)=50', 'Age (decade)=60', 'Age (decade)=>=70', 'Education Years=6', 'Education Years=7', 'Education Years=8', 'Education Years=9', 'Education Years=10', 'Education Years=11', 'Education Years=12', 'Education Years=<6', 'Education Years=>12']\n"
          ]
        }
      ],
      "source": [
        "# print out some labels, names, etc.\n",
        "display(Markdown(\"#### Training Dataset shape\"))\n",
        "print(dataset_orig_train.features.shape)\n",
        "display(Markdown(\"#### Favorable and unfavorable labels\"))\n",
        "print(dataset_orig_train.favorable_label, dataset_orig_train.unfavorable_label)\n",
        "display(Markdown(\"#### Protected attribute names\"))\n",
        "print(dataset_orig_train.protected_attribute_names)\n",
        "display(Markdown(\"#### Privileged and unprivileged protected attribute values\"))\n",
        "print(dataset_orig_train.privileged_protected_attributes,\n",
        "      dataset_orig_train.unprivileged_protected_attributes)\n",
        "display(Markdown(\"#### Dataset feature names\"))\n",
        "print(dataset_orig_train.feature_names)"
      ]
    },
    {
      "cell_type": "markdown",
      "metadata": {
        "id": "7LR8_I4IuJHg"
      },
      "source": [
        "#### Metric for original training data"
      ]
    },
    {
      "cell_type": "code",
      "execution_count": 25,
      "metadata": {
        "colab": {
          "base_uri": "https://localhost:8080/",
          "height": 75
        },
        "id": "n3wa-e8muJHg",
        "outputId": "9a3815fc-c8b8-4d2e-efeb-01d9710ff369"
      },
      "outputs": [
        {
          "data": {
            "text/markdown": [
              "#### Original training dataset"
            ],
            "text/plain": [
              "<IPython.core.display.Markdown object>"
            ]
          },
          "metadata": {},
          "output_type": "display_data"
        },
        {
          "name": "stdout",
          "output_type": "stream",
          "text": [
            "Difference in mean outcomes between unprivileged and privileged groups = -0.190244\n"
          ]
        }
      ],
      "source": [
        "# Metric for the original dataset\n",
        "metric_orig_train = BinaryLabelDatasetMetric(dataset_orig_train,\n",
        "                                             unprivileged_groups=unprivileged_groups,\n",
        "                                             privileged_groups=privileged_groups)\n",
        "display(Markdown(\"#### Original training dataset\"))\n",
        "print(\"Difference in mean outcomes between unprivileged and privileged groups = %f\" % metric_orig_train.mean_difference())"
      ]
    },
    {
      "cell_type": "markdown",
      "metadata": {
        "id": "lTZwi683uJHh"
      },
      "source": [
        "#### Train with and transform the original training data\n",
        "\n",
        "\n",
        "Optimized preprocessing `(OptimPreproc)` is a preprocessing technique that learns a probabilistic transformation that edits the features and labels in the data with group fairness, individual distortion, and data fidelity constraints and objectives.\n",
        "\n",
        "    References:\n",
        "           F. P. Calmon, D. Wei, B. Vinzamuri, K. Natesan Ramamurthy, and\n",
        "           K. R. Varshney. \"Optimized Pre-Processing for Discrimination\n",
        "           Prevention.\" Conference on Neural Information Processing Systems,\n",
        "           2017.\n",
        "\n",
        "    Based on code available at: https://github.com/fair-preprocessing/nips2017"
      ]
    },
    {
      "cell_type": "code",
      "execution_count": 26,
      "metadata": {
        "colab": {
          "base_uri": "https://localhost:8080/"
        },
        "collapsed": true,
        "id": "GmZGljIXuJHh",
        "outputId": "d4735423-d0b8-4224-bb53-45d0c0cc989a",
        "scrolled": false
      },
      "outputs": [
        {
          "name": "stdout",
          "output_type": "stream",
          "text": [
            "Optimized Preprocessing: Objective converged to 0.010893\n"
          ]
        }
      ],
      "source": [
        "OP = OptimPreproc(OptTools, optim_options,\n",
        "                  unprivileged_groups = unprivileged_groups,\n",
        "                  privileged_groups = privileged_groups)\n",
        "\n",
        "OP = OP.fit(dataset_orig_train) # Compute optimal pre-processing transformation based on distortion constraint.\n",
        "\n",
        "# Transform training data and align features\n",
        "dataset_transf_train = OP.transform(dataset_orig_train, transform_Y=True) #Transform the dataset to a new dataset based on the estimated transformation.\n",
        "dataset_transf_train = dataset_orig_train.align_datasets(dataset_transf_train)"
      ]
    },
    {
      "cell_type": "markdown",
      "metadata": {
        "id": "AfZRwv7uuJHi"
      },
      "source": [
        "#### Metric with the transformed training data"
      ]
    },
    {
      "cell_type": "code",
      "execution_count": 27,
      "metadata": {
        "colab": {
          "base_uri": "https://localhost:8080/",
          "height": 75
        },
        "id": "aMXBfZ8gP-Vo",
        "outputId": "d11e258d-3fa8-4528-869a-76865ce37392"
      },
      "outputs": [
        {
          "data": {
            "text/markdown": [
              "#### Transformed training dataset"
            ],
            "text/plain": [
              "<IPython.core.display.Markdown object>"
            ]
          },
          "metadata": {},
          "output_type": "display_data"
        },
        {
          "name": "stdout",
          "output_type": "stream",
          "text": [
            "Difference in mean outcomes between unprivileged and privileged groups = -0.049945\n"
          ]
        }
      ],
      "source": [
        "metric_transf_train = BinaryLabelDatasetMetric(dataset_transf_train,\n",
        "                                         unprivileged_groups=unprivileged_groups,\n",
        "                                         privileged_groups=privileged_groups)\n",
        "display(Markdown(\"#### Transformed training dataset\"))\n",
        "print(\"Difference in mean outcomes between unprivileged and privileged groups = %f\" % metric_transf_train.mean_difference())"
      ]
    },
    {
      "cell_type": "markdown",
      "metadata": {
        "id": "KajigZ1AuJHj"
      },
      "source": [
        "Optimized preprocessing has reduced the disparity in favorable outcomes between the privileged and unprivileged\n",
        "groups (training data)."
      ]
    },
    {
      "cell_type": "code",
      "execution_count": 28,
      "metadata": {
        "id": "kbOCj33MuJHj"
      },
      "outputs": [],
      "source": [
        "### Testing\n",
        "assert np.abs(metric_transf_train.mean_difference()) < np.abs(metric_orig_train.mean_difference())"
      ]
    },
    {
      "cell_type": "markdown",
      "metadata": {
        "id": "EerK3d0AuJHj"
      },
      "source": [
        "### Load, clean up original test data and compute metric"
      ]
    },
    {
      "cell_type": "code",
      "execution_count": 29,
      "metadata": {
        "colab": {
          "base_uri": "https://localhost:8080/",
          "height": 133
        },
        "id": "VFrWhsP0uJHk",
        "outputId": "cc61f9c9-503d-47c8-e4b3-058550983215"
      },
      "outputs": [
        {
          "data": {
            "text/markdown": [
              "#### Testing Dataset shape"
            ],
            "text/plain": [
              "<IPython.core.display.Markdown object>"
            ]
          },
          "metadata": {},
          "output_type": "display_data"
        },
        {
          "name": "stdout",
          "output_type": "stream",
          "text": [
            "(7327, 18)\n"
          ]
        },
        {
          "data": {
            "text/markdown": [
              "#### Original test dataset"
            ],
            "text/plain": [
              "<IPython.core.display.Markdown object>"
            ]
          },
          "metadata": {},
          "output_type": "display_data"
        },
        {
          "name": "stdout",
          "output_type": "stream",
          "text": [
            "Difference in mean outcomes between unprivileged and privileged groups = -0.190984\n"
          ]
        }
      ],
      "source": [
        "dataset_orig_test = dataset_transf_train.align_datasets(dataset_orig_test)\n",
        "display(Markdown(\"#### Testing Dataset shape\"))\n",
        "print(dataset_orig_test.features.shape)\n",
        "\n",
        "metric_orig_test = BinaryLabelDatasetMetric(dataset_orig_test,\n",
        "                                         unprivileged_groups=unprivileged_groups,\n",
        "                                         privileged_groups=privileged_groups)\n",
        "display(Markdown(\"#### Original test dataset\"))\n",
        "print(\"Difference in mean outcomes between unprivileged and privileged groups = %f\" % metric_orig_test.mean_difference())"
      ]
    },
    {
      "cell_type": "markdown",
      "metadata": {
        "id": "Y7YkMPTauJHk"
      },
      "source": [
        "#### Transform test data and compute metric"
      ]
    },
    {
      "cell_type": "code",
      "execution_count": 30,
      "metadata": {
        "colab": {
          "base_uri": "https://localhost:8080/",
          "height": 75
        },
        "id": "0fVKGdycuJHk",
        "outputId": "30555c38-6e06-4f1f-c577-09013da029db"
      },
      "outputs": [
        {
          "data": {
            "text/markdown": [
              "#### Transformed test dataset"
            ],
            "text/plain": [
              "<IPython.core.display.Markdown object>"
            ]
          },
          "metadata": {},
          "output_type": "display_data"
        },
        {
          "name": "stdout",
          "output_type": "stream",
          "text": [
            "Difference in mean outcomes between unprivileged and privileged groups = -0.049846\n"
          ]
        }
      ],
      "source": [
        "dataset_transf_test = OP.transform(dataset_orig_test, transform_Y = True)\n",
        "dataset_transf_test = dataset_orig_test.align_datasets(dataset_transf_test)\n",
        "\n",
        "metric_transf_test = BinaryLabelDatasetMetric(dataset_transf_test,\n",
        "                                         unprivileged_groups=unprivileged_groups,\n",
        "                                         privileged_groups=privileged_groups)\n",
        "display(Markdown(\"#### Transformed test dataset\"))\n",
        "print(\"Difference in mean outcomes between unprivileged and privileged groups = %f\" % metric_transf_test.mean_difference())"
      ]
    },
    {
      "cell_type": "markdown",
      "metadata": {
        "id": "dKsv4RecuJHl"
      },
      "source": [
        "Optimized preprocessing has reduced the disparity in favorable outcomes between the privileged and unprivileged\n",
        "groups (test data)."
      ]
    },
    {
      "cell_type": "code",
      "execution_count": 31,
      "metadata": {
        "id": "yAQnF07PuJHl"
      },
      "outputs": [],
      "source": [
        "### Testing\n",
        "assert np.abs(metric_transf_test.mean_difference()) < np.abs(metric_orig_test.mean_difference())"
      ]
    },
    {
      "cell_type": "markdown",
      "metadata": {
        "id": "zOipIGWruJHl"
      },
      "source": [
        "### Train classifier on original data"
      ]
    },
    {
      "cell_type": "code",
      "execution_count": 32,
      "metadata": {
        "id": "SBJpgJEBuJHl"
      },
      "outputs": [],
      "source": [
        "# Logistic regression classifier and predictions\n",
        "scale_orig = StandardScaler()\n",
        "X_train = scale_orig.fit_transform(dataset_orig_train.features)\n",
        "y_train = dataset_orig_train.labels.ravel()\n",
        "\n",
        "lmod = LogisticRegression()\n",
        "lmod.fit(X_train, y_train)\n",
        "y_train_pred = lmod.predict(X_train)\n",
        "\n",
        "# positive class index\n",
        "pos_ind = np.where(lmod.classes_ == dataset_orig_train.favorable_label)[0][0]\n",
        "\n",
        "dataset_orig_train_pred = dataset_orig_train.copy()\n",
        "dataset_orig_train_pred.labels = y_train_pred"
      ]
    },
    {
      "cell_type": "markdown",
      "metadata": {
        "id": "RPaZ__6euJHm"
      },
      "source": [
        "#### Obtain scores original test set"
      ]
    },
    {
      "cell_type": "code",
      "execution_count": 46,
      "metadata": {
        "id": "EQBoaMKguJHm"
      },
      "outputs": [],
      "source": [
        "dataset_orig_valid_pred = dataset_orig_valid.copy(deepcopy=True)\n",
        "X_valid = scale_orig.transform(dataset_orig_valid_pred.features)\n",
        "y_valid = dataset_orig_valid_pred.labels\n",
        "dataset_orig_valid_pred.scores = lmod.predict_proba(X_valid)[:,pos_ind].reshape(-1,1)\n",
        "\n",
        "dataset_orig_test_pred = dataset_orig_test.copy(deepcopy=True)\n",
        "X_test = scale_orig.transform(dataset_orig_test_pred.features)\n",
        "y_test = dataset_orig_test_pred.labels\n",
        "dataset_orig_test_pred.scores = lmod.predict_proba(X_test)[:,pos_ind].reshape(-1,1)"
      ]
    },
    {
      "cell_type": "markdown",
      "metadata": {
        "id": "p91iN4KGuJHm"
      },
      "source": [
        "### Find the optimal classification threshold from the validation set"
      ]
    },
    {
      "cell_type": "code",
      "execution_count": 34,
      "metadata": {
        "colab": {
          "base_uri": "https://localhost:8080/"
        },
        "id": "PMlkY2FpuJHm",
        "outputId": "5e57e144-ee04-4897-c6f8-1ea8b4aafbfb"
      },
      "outputs": [
        {
          "name": "stdout",
          "output_type": "stream",
          "text": [
            "Best balanced accuracy (no fairness constraints) = 0.7463\n",
            "Optimal classification threshold (no fairness constraints) = 0.2872\n"
          ]
        }
      ],
      "source": [
        "num_thresh = 100\n",
        "ba_arr = np.zeros(num_thresh)\n",
        "class_thresh_arr = np.linspace(0.01, 0.99, num_thresh)\n",
        "for idx, class_thresh in enumerate(class_thresh_arr):\n",
        "\n",
        "    fav_inds = dataset_orig_valid_pred.scores > class_thresh\n",
        "    dataset_orig_valid_pred.labels[fav_inds] = dataset_orig_valid_pred.favorable_label\n",
        "    dataset_orig_valid_pred.labels[~fav_inds] = dataset_orig_valid_pred.unfavorable_label\n",
        "\n",
        "    classified_metric_orig_valid = ClassificationMetric(dataset_orig_valid,\n",
        "                                             dataset_orig_valid_pred,\n",
        "                                             unprivileged_groups=unprivileged_groups,\n",
        "                                             privileged_groups=privileged_groups)\n",
        "\n",
        "    ba_arr[idx] = 0.5*(classified_metric_orig_valid.true_positive_rate()\\\n",
        "                       +classified_metric_orig_valid.true_negative_rate())\n",
        "\n",
        "best_ind = np.where(ba_arr == np.max(ba_arr))[0][0]\n",
        "best_class_thresh = class_thresh_arr[best_ind]\n",
        "\n",
        "print(\"Best balanced accuracy (no fairness constraints) = %.4f\" % np.max(ba_arr))\n",
        "print(\"Optimal classification threshold (no fairness constraints) = %.4f\" % best_class_thresh)"
      ]
    },
    {
      "cell_type": "code",
      "execution_count": 42,
      "metadata": {
        "colab": {
          "base_uri": "https://localhost:8080/",
          "height": 252
        },
        "id": "Ziy2t_5uuJHm",
        "outputId": "05909890-4857-463d-d1f6-16fb08f7f8fb"
      },
      "outputs": [
        {
          "data": {
            "text/markdown": [
              "#### Predictions from original testing data"
            ],
            "text/plain": [
              "<IPython.core.display.Markdown object>"
            ]
          },
          "metadata": {},
          "output_type": "display_data"
        },
        {
          "data": {
            "text/markdown": [
              "#### Testing set"
            ],
            "text/plain": [
              "<IPython.core.display.Markdown object>"
            ]
          },
          "metadata": {},
          "output_type": "display_data"
        },
        {
          "data": {
            "text/markdown": [
              "##### Raw predictions - No fairness constraints"
            ],
            "text/plain": [
              "<IPython.core.display.Markdown object>"
            ]
          },
          "metadata": {},
          "output_type": "display_data"
        },
        {
          "name": "stderr",
          "output_type": "stream",
          "text": [
            " 48%|████▊     | 48/100 [00:00<00:00, 147.76it/s]"
          ]
        },
        {
          "name": "stdout",
          "output_type": "stream",
          "text": [
            "Balanced accuracy = 0.7437\n",
            "Statistical parity difference = -0.3580\n",
            "Disparate impact = 0.2794\n",
            "Average odds difference = -0.3181\n",
            "Equal opportunity difference = -0.3769\n",
            "Theil index = 0.1129\n"
          ]
        },
        {
          "name": "stderr",
          "output_type": "stream",
          "text": [
            "100%|██████████| 100/100 [00:00<00:00, 153.15it/s]\n"
          ]
        }
      ],
      "source": [
        "display(Markdown(\"#### Predictions from original testing data\"))\n",
        "\n",
        "bal_acc_arr_orig = []\n",
        "disp_imp_arr_orig = []\n",
        "avg_odds_diff_arr_orig = []\n",
        "\n",
        "display(Markdown(\"#### Testing set\"))\n",
        "display(Markdown(\"##### Raw predictions - No fairness constraints\"))\n",
        "\n",
        "for thresh in tqdm(class_thresh_arr):\n",
        "\n",
        "    fav_inds = dataset_orig_test_pred.scores > thresh\n",
        "    dataset_orig_test_pred.labels[fav_inds] = dataset_orig_test_pred.favorable_label\n",
        "    dataset_orig_test_pred.labels[~fav_inds] = dataset_orig_test_pred.unfavorable_label\n",
        "\n",
        "    if (thresh == best_class_thresh):\n",
        "        disp = True\n",
        "    else:\n",
        "        disp = False\n",
        "\n",
        "    metric_test_bef = compute_metrics(dataset_orig_test, dataset_orig_test_pred,\n",
        "                                       unprivileged_groups, privileged_groups, disp=disp)\n",
        "\n",
        "    bal_acc_arr_orig.append(metric_test_bef[\"Balanced accuracy\"])\n",
        "    avg_odds_diff_arr_orig.append(metric_test_bef[\"Average odds difference\"])\n",
        "    disp_imp_arr_orig.append(metric_test_bef[\"Disparate impact\"])"
      ]
    },
    {
      "cell_type": "markdown",
      "metadata": {},
      "source": [
        "#### **Fairness Metrics**\n",
        "\n",
        "These metrics quantify fairness in the model's predictions. Here’s what each one means, along with their formulas in LaTeX and updated interpretations based on the new values:\n",
        "\n",
        "**Balanced Accuracy:**\n",
        "\n",
        "   * **Definition**: The average of sensitivity (true positive rate) and specificity (true negative rate). It is useful for imbalanced datasets.\n",
        "\n",
        "   $${Balanced Accuracy} = \\frac{\\text{Sensitivity} + \\text{Specificity}}{2}$$\n",
        "\n",
        "   * **Interpretation**: A value of 0.7437 means the model is fairly accurate across both classes.\n",
        "\n",
        "**Statistical Parity Difference:**\n",
        "\n",
        "   * **Definition**: The difference in the probability of a favorable outcome between the unprivileged and privileged groups.\n",
        "\n",
        "   $${Statistical Parity Difference} = P(\\hat{Y}=1 | \\text{unprivileged}) - P(\\hat{Y}=1 | \\text{privileged})$$\n",
        "\n",
        "   * **Interpretation**: A value of -0.3580 indicates that the unprivileged group is 35.8% less likely to receive a favorable outcome compared to the privileged group.\n",
        "\n",
        "**Disparate Impact:**\n",
        "\n",
        "   * **Definition**: The ratio of the probability of a favorable outcome for the unprivileged group to that of the privileged group.\n",
        "\n",
        "   $${Disparate Impact} = \\frac{P(\\hat{Y}=1 | \\text{unprivileged})}{P(\\hat{Y}=1 | \\text{privileged})}$$\n",
        "\n",
        "   * **Interpretation**: A value of 0.2794 indicates that the unprivileged group is 27.94% as likely to receive a favorable outcome as the privileged group.\n",
        "\n",
        "**Average Odds Difference:**\n",
        "\n",
        "   * **Definition:** The average of the difference in false positive rates (FPR) and true positive rates (TPR) between the unprivileged and privileged groups.\n",
        "\n",
        "   $${Average Odds Difference} = \\frac{(\\text{FPR}_{\\text{unprivileged}} - \\text{FPR}_{\\text{privileged}}) + (\\text{TPR}_{\\text{unprivileged}} - \\text{TPR}_{\\text{privileged}})}{2}$$\n",
        "\n",
        "   * **Interpretation**: A value of -0.3181 indicates that the unprivileged group has worse odds (lower TPR and/or higher FPR) compared to the privileged group.\n",
        "\n",
        "**Equal Opportunity Difference**:\n",
        "\n",
        "   **Definition**: The difference in true positive rates (TPR) between the unprivileged and privileged groups.\n",
        "\n",
        "   $${Equal Opportunity Difference} = \\text{TPR}_{\\text{unprivileged}} - \\text{TPR}_{\\text{privileged}}$$\n",
        "\n",
        "   * **Interpretation**: A value of -0.3769 indicates that the unprivileged group has a 37.69% lower TPR compared to the privileged group.\n",
        "\n",
        "**Theil Index**:\n",
        "\n",
        "   * **Definition**: A measure of inequality in the distribution of outcomes. It is often used to assess fairness in resource allocation. In other words, the Theil index is a statistic that measures economic inequality, or the distance between a population and an ideal state of economic equality. It can also be used to measure other types of economic and social inequality, such as racial segregation and health disparities. <a href='https://en.wikipedia.org/wiki/Theil_index'> Link </a>\n",
        "\n",
        "   * **Interpretation**: A value of 0.1129 indicates some level of inequality in the outcomes."
      ]
    },
    {
      "cell_type": "markdown",
      "metadata": {
        "id": "oNmDqNYRN_rg"
      },
      "source": [
        "<h3><b>Confusion Matrix</b></h3>\n",
        "\n",
        "<div style=\"display: flex;\">\n",
        "  <span style=\"margin-right: 10px;\">\n",
        "    <img src=\"https://miro.medium.com/v2/resize:fit:640/format:webp/1*-hnHerS0oitp3X0yEjgCHw.png\" alt=\"Sample Image 1\" width=\"300\">\n",
        "  </span>\n",
        "  <span>\n",
        "    <img src=\"https://miro.medium.com/v2/resize:fit:1100/format:webp/1*TAgP-j_02dPpfRiL0fbP-Q.png\" alt=\"Sample Image 2\" width=\"350\">\n",
        "  </span>\n",
        "</div>\n",
        "<h3><b>Equal opportunity (true positive rate)</b></h3>\n",
        "<div style=\"display: flex;\">\n",
        "  <span style=\"margin-right: 10px;\">\n",
        "    <img src=\"https://miro.medium.com/v2/resize:fit:1100/format:webp/1*tkiWVGD5nP77eb1cOO5diw.png\" alt=\"Sample Image 1\" width=\"300\">\n",
        "  </span>\n",
        "  <span>\n",
        "    <img src=\"https://miro.medium.com/v2/resize:fit:786/format:webp/1*b6pkia8si4MPMMY0Yx1jUw.png\" alt=\"Sample Image 2\" width=\"300\">\n",
        "  </span>\n",
        "</div>\n",
        "<h3><b>False Negative Rate</b></h3>\n",
        "<div style=\"display: flex;\">\n",
        "  <span style=\"margin-right: 10px;\">\n",
        "    <img src=\"https://miro.medium.com/v2/resize:fit:1100/format:webp/1*6f3Gn0l0mg3QEkdbck_4ng.png\" alt=\"Sample Image 1\" width=\"300\">\n",
        "  </span>\n",
        "  <span>\n",
        "    <img src=\"https://miro.medium.com/v2/resize:fit:786/format:webp/1*RSjLpyS5WDALaLpnIRXwCg.png\" alt=\"Sample Image 2\" width=\"300\">\n",
        "  </span>\n",
        "</div>\n",
        "\n",
        "Source: <a href=\"https://towardsdatascience.com/analysing-fairness-in-machine-learning-with-python-96a9ab0d0705\">Link</a>"
      ]
    },
    {
      "cell_type": "code",
      "execution_count": 37,
      "metadata": {
        "colab": {
          "base_uri": "https://localhost:8080/",
          "height": 630
        },
        "id": "1fDhM6q7uJHm",
        "outputId": "2388c925-ae67-4606-fc4d-07e0cb8e533a"
      },
      "outputs": [
        {
          "data": {
            "image/png": "[encoded data removed]",
            "text/plain": [
              "<Figure size 1000x700 with 2 Axes>"
            ]
          },
          "metadata": {},
          "output_type": "display_data"
        }
      ],
      "source": [
        "fig, ax1 = plt.subplots(figsize=(10,7))\n",
        "ax1.plot(class_thresh_arr, bal_acc_arr_orig)\n",
        "ax1.set_xlabel('Classification Thresholds', fontsize=16, fontweight='bold')\n",
        "ax1.set_ylabel('Balanced Accuracy', color='b', fontsize=16, fontweight='bold')\n",
        "ax1.xaxis.set_tick_params(labelsize=14)\n",
        "ax1.yaxis.set_tick_params(labelsize=14)\n",
        "\n",
        "\n",
        "ax2 = ax1.twinx()\n",
        "ax2.plot(class_thresh_arr, np.abs(1.0-np.array(disp_imp_arr_orig)), color='r')\n",
        "ax2.set_ylabel('abs(1-disparate impact)', color='r', fontsize=16, fontweight='bold')\n",
        "ax2.axvline(np.array(class_thresh_arr)[best_ind],\n",
        "            color='k', linestyle=':')\n",
        "ax2.yaxis.set_tick_params(labelsize=14)\n",
        "ax2.grid(True)\n",
        "\n",
        "disp_imp_at_best_bal_acc_orig = np.abs(1.0-np.array(disp_imp_arr_orig))[best_ind]"
      ]
    },
    {
      "cell_type": "markdown",
      "metadata": {
        "id": "m38nwce0uJHn"
      },
      "source": [
        "```abs(1-disparate impact)``` must be close to zero for classifier predictions to be fair.\n",
        "\n",
        "\n",
        "#### **Relationship Between Balanced Accuracy and abs(1 - Disparate Impact)**\n",
        "1. **Balanced Accuracy**\n",
        "\n",
        "    **Definition**: Balanced accuracy is the average of sensitivity (true positive rate) and specificity (true negative rate). It is useful for imbalanced datasets.\n",
        "\n",
        "    $${Balanced Accuracy} = \\frac{\\text{Sensitivity} + \\text{Specificity}}{2}$$\n",
        "\n",
        "    **Interpretation**: Higher balanced accuracy indicates better overall model performance across both classes.\n",
        "\n",
        "2. **Disparate Impact**\n",
        "\n",
        "    **Definition**: Disparate impact measures the ratio of the probability of a favorable outcome for the unprivileged group to that of the privileged group.\n",
        "\n",
        "    $${Disparate Impact} = \\frac{P(\\hat{Y}=1 | \\text{unprivileged})}{P(\\hat{Y}=1 | \\text{privileged})}$$\n",
        "\n",
        "    **Ideal Value**: A value of 1 indicates perfect fairness (no disparity between groups).\n",
        "\n",
        "3. **abs(1 - Disparate Impact)**\n",
        "\n",
        "    **Definition**: This metric quantifies how far the disparate impact is from the ideal value of 1.\n",
        "\n",
        "    $$abs(1−Disparate Impact)$$\n",
        "\n",
        "    **Interpretation**:\n",
        "\n",
        "    * A value of 0 indicates perfect fairness (disparate impact = 1).\n",
        "\n",
        "    * Higher values indicate greater unfairness.\n",
        "\n",
        "4. **Relationship**\n",
        "\n",
        "    **Trade-off**: There is often a trade-off between balanced accuracy and fairness (as measured by abs(1 - disparate impact)).\n",
        "\n",
        "    * Increasing balanced accuracy may worsen fairness (increase abs(1 - disparate impact)).\n",
        "\n",
        "    * Improving fairness (reducing abs(1 - disparate impact)) may reduce balanced accuracy.\n",
        "\n",
        "    **Visualization**: The dual-axis plot helps visualize this trade-off across different classification thresholds."
      ]
    },
    {
      "cell_type": "markdown",
      "metadata": {
        "id": "Im-WJSkkuJHn"
      },
      "source": [
        "### Train classifier on transformed data and obtain predictions with its fairness metrics"
      ]
    },
    {
      "cell_type": "code",
      "execution_count": 38,
      "metadata": {
        "id": "4BJFDU81uJHn"
      },
      "outputs": [],
      "source": [
        "scale_transf = StandardScaler()\n",
        "X_train = scale_transf.fit_transform(dataset_transf_train.features)\n",
        "y_train = dataset_transf_train.labels.ravel()\n",
        "\n",
        "lmod = LogisticRegression()\n",
        "lmod.fit(X_train, y_train)\n",
        "y_train_pred = lmod.predict(X_train)\n",
        "\n",
        "dataset_transf_train_pred = dataset_transf_train.copy()\n",
        "dataset_transf_train_pred.labels = y_train_pred"
      ]
    },
    {
      "cell_type": "markdown",
      "metadata": {
        "id": "3P20C-NmuJHn"
      },
      "source": [
        "### Predictions and fairness metrics from transformed test set"
      ]
    },
    {
      "cell_type": "code",
      "execution_count": 39,
      "metadata": {
        "id": "IFMCliT8uJHn"
      },
      "outputs": [],
      "source": [
        "dataset_transf_test_pred = dataset_transf_test.copy(deepcopy=True)\n",
        "X_test = scale_transf.transform(dataset_transf_test_pred.features)\n",
        "y_test = dataset_transf_test_pred.labels\n",
        "dataset_transf_test_pred.scores = lmod.predict_proba(X_test)[:,pos_ind].reshape(-1,1)"
      ]
    },
    {
      "cell_type": "code",
      "execution_count": 44,
      "metadata": {
        "colab": {
          "base_uri": "https://localhost:8080/",
          "height": 252
        },
        "id": "s4WXhzn_uJHo",
        "outputId": "372e9d74-754c-4100-9c12-1cc1361a0109"
      },
      "outputs": [
        {
          "data": {
            "text/markdown": [
              "#### Predictions from transformed testing data"
            ],
            "text/plain": [
              "<IPython.core.display.Markdown object>"
            ]
          },
          "metadata": {},
          "output_type": "display_data"
        },
        {
          "data": {
            "text/markdown": [
              "#### Testing set"
            ],
            "text/plain": [
              "<IPython.core.display.Markdown object>"
            ]
          },
          "metadata": {},
          "output_type": "display_data"
        },
        {
          "data": {
            "text/markdown": [
              "##### Transformed predictions - No fairness constraints"
            ],
            "text/plain": [
              "<IPython.core.display.Markdown object>"
            ]
          },
          "metadata": {},
          "output_type": "display_data"
        },
        {
          "name": "stderr",
          "output_type": "stream",
          "text": [
            " 49%|████▉     | 49/100 [00:00<00:00, 155.25it/s]"
          ]
        },
        {
          "name": "stdout",
          "output_type": "stream",
          "text": [
            "Balanced accuracy = 0.7018\n",
            "Statistical parity difference = -0.0867\n",
            "Disparate impact = 0.7490\n",
            "Average odds difference = -0.0678\n",
            "Equal opportunity difference = -0.0696\n",
            "Theil index = 0.1476\n"
          ]
        },
        {
          "name": "stderr",
          "output_type": "stream",
          "text": [
            "100%|██████████| 100/100 [00:00<00:00, 160.01it/s]\n"
          ]
        }
      ],
      "source": [
        "display(Markdown(\"#### Predictions from transformed testing data\"))\n",
        "\n",
        "bal_acc_arr_transf = []\n",
        "disp_imp_arr_transf = []\n",
        "avg_odds_diff_arr_transf = []\n",
        "\n",
        "display(Markdown(\"#### Testing set\"))\n",
        "display(Markdown(\"##### Transformed predictions - No fairness constraints\"))\n",
        "\n",
        "for thresh in tqdm(class_thresh_arr):\n",
        "\n",
        "    fav_inds = dataset_transf_test_pred.scores > thresh\n",
        "    dataset_transf_test_pred.labels[fav_inds] = dataset_transf_test_pred.favorable_label\n",
        "    dataset_transf_test_pred.labels[~fav_inds] = dataset_transf_test_pred.unfavorable_label\n",
        "\n",
        "    if (thresh == best_class_thresh):\n",
        "        disp = True\n",
        "    else:\n",
        "        disp = False\n",
        "\n",
        "    metric_test_bef = compute_metrics(dataset_transf_test, dataset_transf_test_pred,\n",
        "                                       unprivileged_groups, privileged_groups, disp=disp)\n",
        "\n",
        "    bal_acc_arr_transf.append(metric_test_bef[\"Balanced accuracy\"])\n",
        "    avg_odds_diff_arr_transf.append(metric_test_bef[\"Average odds difference\"])\n",
        "    disp_imp_arr_transf.append(metric_test_bef[\"Disparate impact\"])"
      ]
    },
    {
      "cell_type": "markdown",
      "metadata": {},
      "source": [
        "1. **Balanced Accuracy**\n",
        "\n",
        "    **Without Fairness**: 0.7437 **With Fairness**: 0.7018. \n",
        "\n",
        "    **Interpretation**: The model without fairness has higher balanced accuracy, indicating better overall performance across both classes. Adding fairness slightly reduces accuracy, as the model prioritizes fairness over pure performance.\n",
        "\n",
        "2. **Statistical Parity Difference**\n",
        "\n",
        "    **Without Fairness**: -0.3580 **With Fairness**: -0.0867\n",
        "\n",
        "    **Interpretation**: The model without fairness shows a large disparity in favorable outcomes between unprivileged and privileged groups. Adding fairness significantly reduces this disparity, making the model more equitable.\n",
        "\n",
        "3. **Disparate Impact**\n",
        "\n",
        "    **Without Fairness**: 0.2794 **With Fairness**: 0.7490\n",
        "\n",
        "    **Interpretation**: Without fairness, the unprivileged group is only 27.94% as likely as the privileged group to receive a favorable outcome. With fairness, this improves to 74.9%, indicating a much fairer distribution of outcomes.\n",
        "\n",
        "4. **Average Odds Difference**\n",
        "\n",
        "    **Without Fairness**: -0.3181 **With Fairness**: -0.0678\n",
        "\n",
        "    **Interpretation**: The model without fairness has a large difference in false positive rates (FPR) and true positive rates (TPR) between groups. Adding fairness reduces this difference, making the model’s predictions more balanced across groups.\n",
        "\n",
        "5. **Equal Opportunity Difference**\n",
        "\n",
        "    **Without Fairness**: -0.3769 **With Fairness**: -0.0696\n",
        "\n",
        "    **Interpretation**: Without fairness, the unprivileged group has a 37.69% lower true positive rate (TPR) compared to the privileged group. With fairness, this gap is reduced to 6.96%, improving equal opportunity for the unprivileged group.\n",
        "\n",
        "6. **Theil Index**\n",
        "\n",
        "    **Without Fairness**: 0.1129 **With Fairness**: 0.1476\n",
        "\n",
        "    **Interpretation**: The model without fairness has a lower Theil index, indicating slightly better equality in outcome distribution. However, this metric alone does not capture the trade-offs between fairness and accuracy."
      ]
    },
    {
      "cell_type": "code",
      "execution_count": 45,
      "metadata": {
        "colab": {
          "base_uri": "https://localhost:8080/",
          "height": 630
        },
        "id": "5wFVm99UuJHo",
        "outputId": "a9d26879-51d7-4591-c0ef-0eab64ae122f"
      },
      "outputs": [
        {
          "data": {
            "image/png": "[encoded data removed]",
            "text/plain": [
              "<Figure size 1000x700 with 2 Axes>"
            ]
          },
          "metadata": {},
          "output_type": "display_data"
        }
      ],
      "source": [
        "fig, ax1 = plt.subplots(figsize=(10,7))\n",
        "ax1.plot(class_thresh_arr, bal_acc_arr_transf)\n",
        "ax1.set_xlabel('Classification Thresholds', fontsize=16, fontweight='bold')\n",
        "ax1.set_ylabel('Balanced Accuracy', color='b', fontsize=16, fontweight='bold')\n",
        "ax1.xaxis.set_tick_params(labelsize=14)\n",
        "ax1.yaxis.set_tick_params(labelsize=14)\n",
        "\n",
        "\n",
        "ax2 = ax1.twinx()\n",
        "ax2.plot(class_thresh_arr, np.abs(1.0-np.array(disp_imp_arr_transf)), color='r')\n",
        "ax2.set_ylabel('abs(1-disparate impact)', color='r', fontsize=16, fontweight='bold')\n",
        "ax2.axvline(np.array(class_thresh_arr)[best_ind],\n",
        "            color='k', linestyle=':')\n",
        "ax2.yaxis.set_tick_params(labelsize=14)\n",
        "ax2.grid(True)\n",
        "\n",
        "disp_imp_at_best_bal_acc_transf = np.abs(1.0-np.array(disp_imp_arr_transf))[best_ind]"
      ]
    },
    {
      "cell_type": "markdown",
      "metadata": {
        "id": "DcReHLk2uJHo"
      },
      "source": [
        "```abs(1-disparate impact)``` must be close to zero for classifier predictions to be fair. This measure has improved using classifier trained using the transformed data compared to the original data.\n"
      ]
    },
    {
      "cell_type": "code",
      "execution_count": 35,
      "metadata": {
        "id": "FV817KzQuJHp"
      },
      "outputs": [],
      "source": [
        "### testing\n",
        "assert disp_imp_at_best_bal_acc_transf < disp_imp_at_best_bal_acc_orig"
      ]
    },
    {
      "cell_type": "markdown",
      "metadata": {
        "id": "_G_5Dgp3uJHp"
      },
      "source": [
        "# Summary of Results\n",
        "We show the optimal classification thresholds, and the fairness and accuracy metrics."
      ]
    },
    {
      "cell_type": "markdown",
      "metadata": {
        "id": "H45N2XkmuJHp"
      },
      "source": [
        "### Classification Thresholds\n",
        "\n",
        "| Dataset |Classification threshold|\n",
        "|-|-|\n",
        "|Adult|0.2674|\n",
        "|German|0.6732|\n",
        "|Compas|0.5148|"
      ]
    },
    {
      "cell_type": "markdown",
      "metadata": {
        "id": "0I3ZvjAzuJHp"
      },
      "source": [
        "### Fairness Metric: Disparate impact, Accuracy Metric: Balanced accuracy\n",
        "\n",
        "#### Performance\n",
        "\n",
        "| Dataset |Sex (Acc-Bef)|Sex (Acc-Aft)|Sex (Fair-Bef)|Sex (Fair-Aft)|Race/Age (Acc-Bef)|Race/Age (Acc-Aft)|Race/Age (Fair-Bef)|Race/Age (Fair-Aft)|\n",
        "|-|-|-|-|-|-|-|-|-|\n",
        "|Adult (Test)|0.7417|0.7021|0.2774|0.7729|0.7417|0.7408|0.4423|0.7645|\n",
        "|German (Test)|0.6524|0.5698|0.9948|1.0664|0.6524|0.6067|0.3824|0.8228|\n",
        "|Compas (Test)|0.6774|0.6606|0.6631|0.8085|0.6774|0.6790|0.6600|0.8430|\n"
      ]
    }
  ],
  "metadata": {
    "colab": {
      "provenance": []
    },
    "kernelspec": {
      "display_name": "ART",
      "language": "python",
      "name": "python3"
    },
    "language_info": {
      "codemirror_mode": {
        "name": "ipython",
        "version": 3
      },
      "file_extension": ".py",
      "mimetype": "text/x-python",
      "name": "python",
      "nbconvert_exporter": "python",
      "pygments_lexer": "ipython3",
      "version": "3.8.20"
    }
  },
  "nbformat": 4,
  "nbformat_minor": 0
}
